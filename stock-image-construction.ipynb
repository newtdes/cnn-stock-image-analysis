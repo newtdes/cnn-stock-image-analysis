{
 "cells": [
  {
   "cell_type": "code",
   "execution_count": 4,
   "metadata": {},
   "outputs": [],
   "source": [
    "# All necessary libraries must be put here\n",
    "import numpy as np\n",
    "import pandas as pd\n",
    "import matplotlib.pyplot as plt\n",
    "import matplotlib.dates as mdates\n",
    "import mplfinance as mpf\n",
    "import plotly.graph_objects as go\n",
    "import pandas as pd"
   ]
  },
  {
   "cell_type": "code",
   "execution_count": 5,
   "metadata": {},
   "outputs": [
    {
     "name": "stderr",
     "output_type": "stream",
     "text": [
      "/var/folders/pl/z1lfm5xs7299k23shpwd6ngh0000gp/T/ipykernel_22954/4244800754.py:2: DtypeWarning:\n",
      "\n",
      "Columns (1) have mixed types. Specify dtype option on import or set low_memory=False.\n",
      "\n"
     ]
    },
    {
     "data": {
      "text/html": [
       "<div>\n",
       "<style scoped>\n",
       "    .dataframe tbody tr th:only-of-type {\n",
       "        vertical-align: middle;\n",
       "    }\n",
       "\n",
       "    .dataframe tbody tr th {\n",
       "        vertical-align: top;\n",
       "    }\n",
       "\n",
       "    .dataframe thead th {\n",
       "        text-align: right;\n",
       "    }\n",
       "</style>\n",
       "<table border=\"1\" class=\"dataframe\">\n",
       "  <thead>\n",
       "    <tr style=\"text-align: right;\">\n",
       "      <th></th>\n",
       "      <th>PERMNO</th>\n",
       "      <th>HdrCUSIP</th>\n",
       "      <th>Ticker</th>\n",
       "      <th>PERMCO</th>\n",
       "      <th>DlyCalDt</th>\n",
       "      <th>DlyVol</th>\n",
       "      <th>DlyClose</th>\n",
       "      <th>DlyLow</th>\n",
       "      <th>DlyHigh</th>\n",
       "      <th>DlyOpen</th>\n",
       "    </tr>\n",
       "  </thead>\n",
       "  <tbody>\n",
       "    <tr>\n",
       "      <th>0</th>\n",
       "      <td>10001</td>\n",
       "      <td>36720410</td>\n",
       "      <td>GFGC</td>\n",
       "      <td>7953</td>\n",
       "      <td>1993-01-04</td>\n",
       "      <td>150.0</td>\n",
       "      <td>14.5</td>\n",
       "      <td>14.50</td>\n",
       "      <td>14.5</td>\n",
       "      <td>14.50</td>\n",
       "    </tr>\n",
       "    <tr>\n",
       "      <th>1</th>\n",
       "      <td>10001</td>\n",
       "      <td>36720410</td>\n",
       "      <td>GFGC</td>\n",
       "      <td>7953</td>\n",
       "      <td>1993-01-05</td>\n",
       "      <td>0.0</td>\n",
       "      <td>NaN</td>\n",
       "      <td>NaN</td>\n",
       "      <td>NaN</td>\n",
       "      <td>NaN</td>\n",
       "    </tr>\n",
       "    <tr>\n",
       "      <th>2</th>\n",
       "      <td>10001</td>\n",
       "      <td>36720410</td>\n",
       "      <td>GFGC</td>\n",
       "      <td>7953</td>\n",
       "      <td>1993-01-06</td>\n",
       "      <td>0.0</td>\n",
       "      <td>NaN</td>\n",
       "      <td>NaN</td>\n",
       "      <td>NaN</td>\n",
       "      <td>NaN</td>\n",
       "    </tr>\n",
       "    <tr>\n",
       "      <th>3</th>\n",
       "      <td>10001</td>\n",
       "      <td>36720410</td>\n",
       "      <td>GFGC</td>\n",
       "      <td>7953</td>\n",
       "      <td>1993-01-07</td>\n",
       "      <td>228.0</td>\n",
       "      <td>14.5</td>\n",
       "      <td>14.50</td>\n",
       "      <td>14.5</td>\n",
       "      <td>14.50</td>\n",
       "    </tr>\n",
       "    <tr>\n",
       "      <th>4</th>\n",
       "      <td>10001</td>\n",
       "      <td>36720410</td>\n",
       "      <td>GFGC</td>\n",
       "      <td>7953</td>\n",
       "      <td>1993-01-08</td>\n",
       "      <td>1375.0</td>\n",
       "      <td>14.5</td>\n",
       "      <td>14.25</td>\n",
       "      <td>14.5</td>\n",
       "      <td>14.25</td>\n",
       "    </tr>\n",
       "  </tbody>\n",
       "</table>\n",
       "</div>"
      ],
      "text/plain": [
       "   PERMNO  HdrCUSIP Ticker  PERMCO    DlyCalDt  DlyVol  DlyClose  DlyLow  \\\n",
       "0   10001  36720410   GFGC    7953  1993-01-04   150.0      14.5   14.50   \n",
       "1   10001  36720410   GFGC    7953  1993-01-05     0.0       NaN     NaN   \n",
       "2   10001  36720410   GFGC    7953  1993-01-06     0.0       NaN     NaN   \n",
       "3   10001  36720410   GFGC    7953  1993-01-07   228.0      14.5   14.50   \n",
       "4   10001  36720410   GFGC    7953  1993-01-08  1375.0      14.5   14.25   \n",
       "\n",
       "   DlyHigh  DlyOpen  \n",
       "0     14.5    14.50  \n",
       "1      NaN      NaN  \n",
       "2      NaN      NaN  \n",
       "3     14.5    14.50  \n",
       "4     14.5    14.25  "
      ]
     },
     "execution_count": 5,
     "metadata": {},
     "output_type": "execute_result"
    }
   ],
   "source": [
    "# Read the CRSP Data and make it become a dataframe\n",
    "crsp_data_1993_2019 = pd.read_csv(\"/Users/namnguyen/Desktop/Research/Don/Imaging_Price_Trends_Code/crsp_data_20240719_1.csv\")\n",
    "\n",
    "# Check the data\n",
    "crsp_data_1993_2019.head(5)"
   ]
  },
  {
   "cell_type": "code",
   "execution_count": 19,
   "metadata": {},
   "outputs": [
    {
     "name": "stderr",
     "output_type": "stream",
     "text": [
      "Locator attempting to generate 21315 ticks ([-969.0, ..., 20345.0]), which exceeds Locator.MAXTICKS (1000).\n",
      "Locator attempting to generate 21315 ticks ([-969.0, ..., 20345.0]), which exceeds Locator.MAXTICKS (1000).\n",
      "Locator attempting to generate 21315 ticks ([-969.0, ..., 20345.0]), which exceeds Locator.MAXTICKS (1000).\n",
      "Locator attempting to generate 21315 ticks ([-969.0, ..., 20345.0]), which exceeds Locator.MAXTICKS (1000).\n",
      "Locator attempting to generate 21315 ticks ([-969.0, ..., 20345.0]), which exceeds Locator.MAXTICKS (1000).\n",
      "Locator attempting to generate 21315 ticks ([-969.0, ..., 20345.0]), which exceeds Locator.MAXTICKS (1000).\n",
      "Locator attempting to generate 21315 ticks ([-969.0, ..., 20345.0]), which exceeds Locator.MAXTICKS (1000).\n",
      "Locator attempting to generate 21315 ticks ([-969.0, ..., 20345.0]), which exceeds Locator.MAXTICKS (1000).\n",
      "Locator attempting to generate 21315 ticks ([-969.0, ..., 20345.0]), which exceeds Locator.MAXTICKS (1000).\n",
      "Locator attempting to generate 21315 ticks ([-969.0, ..., 20345.0]), which exceeds Locator.MAXTICKS (1000).\n",
      "Locator attempting to generate 21315 ticks ([-969.0, ..., 20345.0]), which exceeds Locator.MAXTICKS (1000).\n",
      "Locator attempting to generate 21315 ticks ([-969.0, ..., 20345.0]), which exceeds Locator.MAXTICKS (1000).\n",
      "Locator attempting to generate 21315 ticks ([-969.0, ..., 20345.0]), which exceeds Locator.MAXTICKS (1000).\n",
      "Locator attempting to generate 21315 ticks ([-969.0, ..., 20345.0]), which exceeds Locator.MAXTICKS (1000).\n",
      "Locator attempting to generate 21315 ticks ([-969.0, ..., 20345.0]), which exceeds Locator.MAXTICKS (1000).\n",
      "Locator attempting to generate 21315 ticks ([-969.0, ..., 20345.0]), which exceeds Locator.MAXTICKS (1000).\n",
      "Locator attempting to generate 21315 ticks ([-969.0, ..., 20345.0]), which exceeds Locator.MAXTICKS (1000).\n",
      "Locator attempting to generate 21315 ticks ([-969.0, ..., 20345.0]), which exceeds Locator.MAXTICKS (1000).\n",
      "Locator attempting to generate 21315 ticks ([-969.0, ..., 20345.0]), which exceeds Locator.MAXTICKS (1000).\n",
      "Locator attempting to generate 21315 ticks ([-969.0, ..., 20345.0]), which exceeds Locator.MAXTICKS (1000).\n",
      "Locator attempting to generate 21315 ticks ([-969.0, ..., 20345.0]), which exceeds Locator.MAXTICKS (1000).\n",
      "Locator attempting to generate 21315 ticks ([-969.0, ..., 20345.0]), which exceeds Locator.MAXTICKS (1000).\n",
      "Locator attempting to generate 21315 ticks ([-969.0, ..., 20345.0]), which exceeds Locator.MAXTICKS (1000).\n",
      "Locator attempting to generate 21315 ticks ([-969.0, ..., 20345.0]), which exceeds Locator.MAXTICKS (1000).\n"
     ]
    },
    {
     "ename": "KeyboardInterrupt",
     "evalue": "",
     "output_type": "error",
     "traceback": [
      "\u001b[0;31m---------------------------------------------------------------------------\u001b[0m",
      "\u001b[0;31mKeyboardInterrupt\u001b[0m                         Traceback (most recent call last)",
      "Cell \u001b[0;32mIn[19], line 42\u001b[0m\n\u001b[1;32m     40\u001b[0m \u001b[39m# Save as black and white image\u001b[39;00m\n\u001b[1;32m     41\u001b[0m plt\u001b[39m.\u001b[39msubplots_adjust(hspace\u001b[39m=\u001b[39m\u001b[39m0.5\u001b[39m)\n\u001b[0;32m---> 42\u001b[0m plt\u001b[39m.\u001b[39;49msavefig(\u001b[39mf\u001b[39;49m\u001b[39m'\u001b[39;49m\u001b[39mohlc_volume_chart_20_days.png\u001b[39;49m\u001b[39m'\u001b[39;49m, dpi\u001b[39m=\u001b[39;49m\u001b[39m300\u001b[39;49m, bbox_inches \u001b[39m=\u001b[39;49m \u001b[39m'\u001b[39;49m\u001b[39mtight\u001b[39;49m\u001b[39m'\u001b[39;49m)\n\u001b[1;32m     43\u001b[0m plt\u001b[39m.\u001b[39mshow()\n",
      "File \u001b[0;32m/Library/Frameworks/Python.framework/Versions/3.12/lib/python3.12/site-packages/matplotlib/pyplot.py:1229\u001b[0m, in \u001b[0;36msavefig\u001b[0;34m(*args, **kwargs)\u001b[0m\n\u001b[1;32m   1226\u001b[0m \u001b[39m# savefig default implementation has no return, so mypy is unhappy\u001b[39;00m\n\u001b[1;32m   1227\u001b[0m \u001b[39m# presumably this is here because subclasses can return?\u001b[39;00m\n\u001b[1;32m   1228\u001b[0m res \u001b[39m=\u001b[39m fig\u001b[39m.\u001b[39msavefig(\u001b[39m*\u001b[39margs, \u001b[39m*\u001b[39m\u001b[39m*\u001b[39mkwargs)  \u001b[39m# type: ignore[func-returns-value]\u001b[39;00m\n\u001b[0;32m-> 1229\u001b[0m fig\u001b[39m.\u001b[39;49mcanvas\u001b[39m.\u001b[39;49mdraw_idle()  \u001b[39m# Need this if 'transparent=True', to reset colors.\u001b[39;00m\n\u001b[1;32m   1230\u001b[0m \u001b[39mreturn\u001b[39;00m res\n",
      "File \u001b[0;32m/Library/Frameworks/Python.framework/Versions/3.12/lib/python3.12/site-packages/matplotlib/backend_bases.py:1905\u001b[0m, in \u001b[0;36mFigureCanvasBase.draw_idle\u001b[0;34m(self, *args, **kwargs)\u001b[0m\n\u001b[1;32m   1903\u001b[0m \u001b[39mif\u001b[39;00m \u001b[39mnot\u001b[39;00m \u001b[39mself\u001b[39m\u001b[39m.\u001b[39m_is_idle_drawing:\n\u001b[1;32m   1904\u001b[0m     \u001b[39mwith\u001b[39;00m \u001b[39mself\u001b[39m\u001b[39m.\u001b[39m_idle_draw_cntx():\n\u001b[0;32m-> 1905\u001b[0m         \u001b[39mself\u001b[39;49m\u001b[39m.\u001b[39;49mdraw(\u001b[39m*\u001b[39;49margs, \u001b[39m*\u001b[39;49m\u001b[39m*\u001b[39;49mkwargs)\n",
      "File \u001b[0;32m/Library/Frameworks/Python.framework/Versions/3.12/lib/python3.12/site-packages/matplotlib/backends/backend_agg.py:387\u001b[0m, in \u001b[0;36mFigureCanvasAgg.draw\u001b[0;34m(self)\u001b[0m\n\u001b[1;32m    384\u001b[0m \u001b[39m# Acquire a lock on the shared font cache.\u001b[39;00m\n\u001b[1;32m    385\u001b[0m \u001b[39mwith\u001b[39;00m (\u001b[39mself\u001b[39m\u001b[39m.\u001b[39mtoolbar\u001b[39m.\u001b[39m_wait_cursor_for_draw_cm() \u001b[39mif\u001b[39;00m \u001b[39mself\u001b[39m\u001b[39m.\u001b[39mtoolbar\n\u001b[1;32m    386\u001b[0m       \u001b[39melse\u001b[39;00m nullcontext()):\n\u001b[0;32m--> 387\u001b[0m     \u001b[39mself\u001b[39;49m\u001b[39m.\u001b[39;49mfigure\u001b[39m.\u001b[39;49mdraw(\u001b[39mself\u001b[39;49m\u001b[39m.\u001b[39;49mrenderer)\n\u001b[1;32m    388\u001b[0m     \u001b[39m# A GUI class may be need to update a window using this draw, so\u001b[39;00m\n\u001b[1;32m    389\u001b[0m     \u001b[39m# don't forget to call the superclass.\u001b[39;00m\n\u001b[1;32m    390\u001b[0m     \u001b[39msuper\u001b[39m()\u001b[39m.\u001b[39mdraw()\n",
      "File \u001b[0;32m/Library/Frameworks/Python.framework/Versions/3.12/lib/python3.12/site-packages/matplotlib/artist.py:95\u001b[0m, in \u001b[0;36m_finalize_rasterization.<locals>.draw_wrapper\u001b[0;34m(artist, renderer, *args, **kwargs)\u001b[0m\n\u001b[1;32m     93\u001b[0m \u001b[39m@wraps\u001b[39m(draw)\n\u001b[1;32m     94\u001b[0m \u001b[39mdef\u001b[39;00m \u001b[39mdraw_wrapper\u001b[39m(artist, renderer, \u001b[39m*\u001b[39margs, \u001b[39m*\u001b[39m\u001b[39m*\u001b[39mkwargs):\n\u001b[0;32m---> 95\u001b[0m     result \u001b[39m=\u001b[39m draw(artist, renderer, \u001b[39m*\u001b[39;49margs, \u001b[39m*\u001b[39;49m\u001b[39m*\u001b[39;49mkwargs)\n\u001b[1;32m     96\u001b[0m     \u001b[39mif\u001b[39;00m renderer\u001b[39m.\u001b[39m_rasterizing:\n\u001b[1;32m     97\u001b[0m         renderer\u001b[39m.\u001b[39mstop_rasterizing()\n",
      "File \u001b[0;32m/Library/Frameworks/Python.framework/Versions/3.12/lib/python3.12/site-packages/matplotlib/artist.py:72\u001b[0m, in \u001b[0;36mallow_rasterization.<locals>.draw_wrapper\u001b[0;34m(artist, renderer)\u001b[0m\n\u001b[1;32m     69\u001b[0m     \u001b[39mif\u001b[39;00m artist\u001b[39m.\u001b[39mget_agg_filter() \u001b[39mis\u001b[39;00m \u001b[39mnot\u001b[39;00m \u001b[39mNone\u001b[39;00m:\n\u001b[1;32m     70\u001b[0m         renderer\u001b[39m.\u001b[39mstart_filter()\n\u001b[0;32m---> 72\u001b[0m     \u001b[39mreturn\u001b[39;00m draw(artist, renderer)\n\u001b[1;32m     73\u001b[0m \u001b[39mfinally\u001b[39;00m:\n\u001b[1;32m     74\u001b[0m     \u001b[39mif\u001b[39;00m artist\u001b[39m.\u001b[39mget_agg_filter() \u001b[39mis\u001b[39;00m \u001b[39mnot\u001b[39;00m \u001b[39mNone\u001b[39;00m:\n",
      "File \u001b[0;32m/Library/Frameworks/Python.framework/Versions/3.12/lib/python3.12/site-packages/matplotlib/figure.py:3162\u001b[0m, in \u001b[0;36mFigure.draw\u001b[0;34m(self, renderer)\u001b[0m\n\u001b[1;32m   3159\u001b[0m             \u001b[39m# ValueError can occur when resizing a window.\u001b[39;00m\n\u001b[1;32m   3161\u001b[0m     \u001b[39mself\u001b[39m\u001b[39m.\u001b[39mpatch\u001b[39m.\u001b[39mdraw(renderer)\n\u001b[0;32m-> 3162\u001b[0m     mimage\u001b[39m.\u001b[39;49m_draw_list_compositing_images(\n\u001b[1;32m   3163\u001b[0m         renderer, \u001b[39mself\u001b[39;49m, artists, \u001b[39mself\u001b[39;49m\u001b[39m.\u001b[39;49msuppressComposite)\n\u001b[1;32m   3165\u001b[0m     renderer\u001b[39m.\u001b[39mclose_group(\u001b[39m'\u001b[39m\u001b[39mfigure\u001b[39m\u001b[39m'\u001b[39m)\n\u001b[1;32m   3166\u001b[0m \u001b[39mfinally\u001b[39;00m:\n",
      "File \u001b[0;32m/Library/Frameworks/Python.framework/Versions/3.12/lib/python3.12/site-packages/matplotlib/image.py:132\u001b[0m, in \u001b[0;36m_draw_list_compositing_images\u001b[0;34m(renderer, parent, artists, suppress_composite)\u001b[0m\n\u001b[1;32m    130\u001b[0m \u001b[39mif\u001b[39;00m not_composite \u001b[39mor\u001b[39;00m \u001b[39mnot\u001b[39;00m has_images:\n\u001b[1;32m    131\u001b[0m     \u001b[39mfor\u001b[39;00m a \u001b[39min\u001b[39;00m artists:\n\u001b[0;32m--> 132\u001b[0m         a\u001b[39m.\u001b[39;49mdraw(renderer)\n\u001b[1;32m    133\u001b[0m \u001b[39melse\u001b[39;00m:\n\u001b[1;32m    134\u001b[0m     \u001b[39m# Composite any adjacent images together\u001b[39;00m\n\u001b[1;32m    135\u001b[0m     image_group \u001b[39m=\u001b[39m []\n",
      "File \u001b[0;32m/Library/Frameworks/Python.framework/Versions/3.12/lib/python3.12/site-packages/matplotlib/artist.py:72\u001b[0m, in \u001b[0;36mallow_rasterization.<locals>.draw_wrapper\u001b[0;34m(artist, renderer)\u001b[0m\n\u001b[1;32m     69\u001b[0m     \u001b[39mif\u001b[39;00m artist\u001b[39m.\u001b[39mget_agg_filter() \u001b[39mis\u001b[39;00m \u001b[39mnot\u001b[39;00m \u001b[39mNone\u001b[39;00m:\n\u001b[1;32m     70\u001b[0m         renderer\u001b[39m.\u001b[39mstart_filter()\n\u001b[0;32m---> 72\u001b[0m     \u001b[39mreturn\u001b[39;00m draw(artist, renderer)\n\u001b[1;32m     73\u001b[0m \u001b[39mfinally\u001b[39;00m:\n\u001b[1;32m     74\u001b[0m     \u001b[39mif\u001b[39;00m artist\u001b[39m.\u001b[39mget_agg_filter() \u001b[39mis\u001b[39;00m \u001b[39mnot\u001b[39;00m \u001b[39mNone\u001b[39;00m:\n",
      "File \u001b[0;32m/Library/Frameworks/Python.framework/Versions/3.12/lib/python3.12/site-packages/matplotlib/axes/_base.py:3143\u001b[0m, in \u001b[0;36m_AxesBase.draw\u001b[0;34m(self, renderer)\u001b[0m\n\u001b[1;32m   3140\u001b[0m \u001b[39mif\u001b[39;00m artists_rasterized:\n\u001b[1;32m   3141\u001b[0m     _draw_rasterized(\u001b[39mself\u001b[39m\u001b[39m.\u001b[39mfigure, artists_rasterized, renderer)\n\u001b[0;32m-> 3143\u001b[0m mimage\u001b[39m.\u001b[39;49m_draw_list_compositing_images(\n\u001b[1;32m   3144\u001b[0m     renderer, \u001b[39mself\u001b[39;49m, artists, \u001b[39mself\u001b[39;49m\u001b[39m.\u001b[39;49mfigure\u001b[39m.\u001b[39;49msuppressComposite)\n\u001b[1;32m   3146\u001b[0m renderer\u001b[39m.\u001b[39mclose_group(\u001b[39m'\u001b[39m\u001b[39maxes\u001b[39m\u001b[39m'\u001b[39m)\n\u001b[1;32m   3147\u001b[0m \u001b[39mself\u001b[39m\u001b[39m.\u001b[39mstale \u001b[39m=\u001b[39m \u001b[39mFalse\u001b[39;00m\n",
      "File \u001b[0;32m/Library/Frameworks/Python.framework/Versions/3.12/lib/python3.12/site-packages/matplotlib/image.py:132\u001b[0m, in \u001b[0;36m_draw_list_compositing_images\u001b[0;34m(renderer, parent, artists, suppress_composite)\u001b[0m\n\u001b[1;32m    130\u001b[0m \u001b[39mif\u001b[39;00m not_composite \u001b[39mor\u001b[39;00m \u001b[39mnot\u001b[39;00m has_images:\n\u001b[1;32m    131\u001b[0m     \u001b[39mfor\u001b[39;00m a \u001b[39min\u001b[39;00m artists:\n\u001b[0;32m--> 132\u001b[0m         a\u001b[39m.\u001b[39;49mdraw(renderer)\n\u001b[1;32m    133\u001b[0m \u001b[39melse\u001b[39;00m:\n\u001b[1;32m    134\u001b[0m     \u001b[39m# Composite any adjacent images together\u001b[39;00m\n\u001b[1;32m    135\u001b[0m     image_group \u001b[39m=\u001b[39m []\n",
      "File \u001b[0;32m/Library/Frameworks/Python.framework/Versions/3.12/lib/python3.12/site-packages/matplotlib/artist.py:72\u001b[0m, in \u001b[0;36mallow_rasterization.<locals>.draw_wrapper\u001b[0;34m(artist, renderer)\u001b[0m\n\u001b[1;32m     69\u001b[0m     \u001b[39mif\u001b[39;00m artist\u001b[39m.\u001b[39mget_agg_filter() \u001b[39mis\u001b[39;00m \u001b[39mnot\u001b[39;00m \u001b[39mNone\u001b[39;00m:\n\u001b[1;32m     70\u001b[0m         renderer\u001b[39m.\u001b[39mstart_filter()\n\u001b[0;32m---> 72\u001b[0m     \u001b[39mreturn\u001b[39;00m draw(artist, renderer)\n\u001b[1;32m     73\u001b[0m \u001b[39mfinally\u001b[39;00m:\n\u001b[1;32m     74\u001b[0m     \u001b[39mif\u001b[39;00m artist\u001b[39m.\u001b[39mget_agg_filter() \u001b[39mis\u001b[39;00m \u001b[39mnot\u001b[39;00m \u001b[39mNone\u001b[39;00m:\n",
      "File \u001b[0;32m/Library/Frameworks/Python.framework/Versions/3.12/lib/python3.12/site-packages/matplotlib/axis.py:1423\u001b[0m, in \u001b[0;36mAxis.draw\u001b[0;34m(self, renderer)\u001b[0m\n\u001b[1;32m   1420\u001b[0m renderer\u001b[39m.\u001b[39mopen_group(\u001b[39m__name__\u001b[39m, gid\u001b[39m=\u001b[39m\u001b[39mself\u001b[39m\u001b[39m.\u001b[39mget_gid())\n\u001b[1;32m   1422\u001b[0m ticks_to_draw \u001b[39m=\u001b[39m \u001b[39mself\u001b[39m\u001b[39m.\u001b[39m_update_ticks()\n\u001b[0;32m-> 1423\u001b[0m tlb1, tlb2 \u001b[39m=\u001b[39m \u001b[39mself\u001b[39;49m\u001b[39m.\u001b[39;49m_get_ticklabel_bboxes(ticks_to_draw, renderer)\n\u001b[1;32m   1425\u001b[0m \u001b[39mfor\u001b[39;00m tick \u001b[39min\u001b[39;00m ticks_to_draw:\n\u001b[1;32m   1426\u001b[0m     tick\u001b[39m.\u001b[39mdraw(renderer)\n",
      "File \u001b[0;32m/Library/Frameworks/Python.framework/Versions/3.12/lib/python3.12/site-packages/matplotlib/axis.py:1350\u001b[0m, in \u001b[0;36mAxis._get_ticklabel_bboxes\u001b[0;34m(self, ticks, renderer)\u001b[0m\n\u001b[1;32m   1348\u001b[0m \u001b[39mif\u001b[39;00m renderer \u001b[39mis\u001b[39;00m \u001b[39mNone\u001b[39;00m:\n\u001b[1;32m   1349\u001b[0m     renderer \u001b[39m=\u001b[39m \u001b[39mself\u001b[39m\u001b[39m.\u001b[39mfigure\u001b[39m.\u001b[39m_get_renderer()\n\u001b[0;32m-> 1350\u001b[0m \u001b[39mreturn\u001b[39;00m ([tick\u001b[39m.\u001b[39;49mlabel1\u001b[39m.\u001b[39;49mget_window_extent(renderer)\n\u001b[1;32m   1351\u001b[0m          \u001b[39mfor\u001b[39;00m tick \u001b[39min\u001b[39;00m ticks \u001b[39mif\u001b[39;00m tick\u001b[39m.\u001b[39mlabel1\u001b[39m.\u001b[39mget_visible()],\n\u001b[1;32m   1352\u001b[0m         [tick\u001b[39m.\u001b[39mlabel2\u001b[39m.\u001b[39mget_window_extent(renderer)\n\u001b[1;32m   1353\u001b[0m          \u001b[39mfor\u001b[39;00m tick \u001b[39min\u001b[39;00m ticks \u001b[39mif\u001b[39;00m tick\u001b[39m.\u001b[39mlabel2\u001b[39m.\u001b[39mget_visible()])\n",
      "File \u001b[0;32m/Library/Frameworks/Python.framework/Versions/3.12/lib/python3.12/site-packages/matplotlib/text.py:959\u001b[0m, in \u001b[0;36mText.get_window_extent\u001b[0;34m(self, renderer, dpi)\u001b[0m\n\u001b[1;32m    954\u001b[0m     \u001b[39mraise\u001b[39;00m \u001b[39mRuntimeError\u001b[39;00m(\n\u001b[1;32m    955\u001b[0m         \u001b[39m\"\u001b[39m\u001b[39mCannot get window extent of text w/o renderer. You likely \u001b[39m\u001b[39m\"\u001b[39m\n\u001b[1;32m    956\u001b[0m         \u001b[39m\"\u001b[39m\u001b[39mwant to call \u001b[39m\u001b[39m'\u001b[39m\u001b[39mfigure.draw_without_rendering()\u001b[39m\u001b[39m'\u001b[39m\u001b[39m first.\u001b[39m\u001b[39m\"\u001b[39m)\n\u001b[1;32m    958\u001b[0m \u001b[39mwith\u001b[39;00m cbook\u001b[39m.\u001b[39m_setattr_cm(\u001b[39mself\u001b[39m\u001b[39m.\u001b[39mfigure, dpi\u001b[39m=\u001b[39mdpi):\n\u001b[0;32m--> 959\u001b[0m     bbox, info, descent \u001b[39m=\u001b[39m \u001b[39mself\u001b[39;49m\u001b[39m.\u001b[39;49m_get_layout(\u001b[39mself\u001b[39;49m\u001b[39m.\u001b[39;49m_renderer)\n\u001b[1;32m    960\u001b[0m     x, y \u001b[39m=\u001b[39m \u001b[39mself\u001b[39m\u001b[39m.\u001b[39mget_unitless_position()\n\u001b[1;32m    961\u001b[0m     x, y \u001b[39m=\u001b[39m \u001b[39mself\u001b[39m\u001b[39m.\u001b[39mget_transform()\u001b[39m.\u001b[39mtransform((x, y))\n",
      "File \u001b[0;32m/Library/Frameworks/Python.framework/Versions/3.12/lib/python3.12/site-packages/matplotlib/text.py:381\u001b[0m, in \u001b[0;36mText._get_layout\u001b[0;34m(self, renderer)\u001b[0m\n\u001b[1;32m    379\u001b[0m clean_line, ismath \u001b[39m=\u001b[39m \u001b[39mself\u001b[39m\u001b[39m.\u001b[39m_preprocess_math(line)\n\u001b[1;32m    380\u001b[0m \u001b[39mif\u001b[39;00m clean_line:\n\u001b[0;32m--> 381\u001b[0m     w, h, d \u001b[39m=\u001b[39m _get_text_metrics_with_cache(\n\u001b[1;32m    382\u001b[0m         renderer, clean_line, \u001b[39mself\u001b[39;49m\u001b[39m.\u001b[39;49m_fontproperties,\n\u001b[1;32m    383\u001b[0m         ismath\u001b[39m=\u001b[39;49mismath, dpi\u001b[39m=\u001b[39;49m\u001b[39mself\u001b[39;49m\u001b[39m.\u001b[39;49mfigure\u001b[39m.\u001b[39;49mdpi)\n\u001b[1;32m    384\u001b[0m \u001b[39melse\u001b[39;00m:\n\u001b[1;32m    385\u001b[0m     w \u001b[39m=\u001b[39m h \u001b[39m=\u001b[39m d \u001b[39m=\u001b[39m \u001b[39m0\u001b[39m\n",
      "File \u001b[0;32m/Library/Frameworks/Python.framework/Versions/3.12/lib/python3.12/site-packages/matplotlib/text.py:69\u001b[0m, in \u001b[0;36m_get_text_metrics_with_cache\u001b[0;34m(renderer, text, fontprop, ismath, dpi)\u001b[0m\n\u001b[1;32m     66\u001b[0m \u001b[39m\u001b[39m\u001b[39m\"\"\"Call ``renderer.get_text_width_height_descent``, caching the results.\"\"\"\u001b[39;00m\n\u001b[1;32m     67\u001b[0m \u001b[39m# Cached based on a copy of fontprop so that later in-place mutations of\u001b[39;00m\n\u001b[1;32m     68\u001b[0m \u001b[39m# the passed-in argument do not mess up the cache.\u001b[39;00m\n\u001b[0;32m---> 69\u001b[0m \u001b[39mreturn\u001b[39;00m _get_text_metrics_with_cache_impl(\n\u001b[1;32m     70\u001b[0m     weakref\u001b[39m.\u001b[39;49mref(renderer), text, fontprop\u001b[39m.\u001b[39;49mcopy(), ismath, dpi)\n",
      "File \u001b[0;32m/Library/Frameworks/Python.framework/Versions/3.12/lib/python3.12/site-packages/matplotlib/text.py:77\u001b[0m, in \u001b[0;36m_get_text_metrics_with_cache_impl\u001b[0;34m(renderer_ref, text, fontprop, ismath, dpi)\u001b[0m\n\u001b[1;32m     73\u001b[0m \u001b[39m@functools\u001b[39m\u001b[39m.\u001b[39mlru_cache(\u001b[39m4096\u001b[39m)\n\u001b[1;32m     74\u001b[0m \u001b[39mdef\u001b[39;00m \u001b[39m_get_text_metrics_with_cache_impl\u001b[39m(\n\u001b[1;32m     75\u001b[0m         renderer_ref, text, fontprop, ismath, dpi):\n\u001b[1;32m     76\u001b[0m     \u001b[39m# dpi is unused, but participates in cache invalidation (via the renderer).\u001b[39;00m\n\u001b[0;32m---> 77\u001b[0m     \u001b[39mreturn\u001b[39;00m renderer_ref()\u001b[39m.\u001b[39;49mget_text_width_height_descent(text, fontprop, ismath)\n",
      "File \u001b[0;32m/Library/Frameworks/Python.framework/Versions/3.12/lib/python3.12/site-packages/matplotlib/backends/backend_agg.py:219\u001b[0m, in \u001b[0;36mRendererAgg.get_text_width_height_descent\u001b[0;34m(self, s, prop, ismath)\u001b[0m\n\u001b[1;32m    215\u001b[0m     ox, oy, width, height, descent, font_image \u001b[39m=\u001b[39m \\\n\u001b[1;32m    216\u001b[0m         \u001b[39mself\u001b[39m\u001b[39m.\u001b[39mmathtext_parser\u001b[39m.\u001b[39mparse(s, \u001b[39mself\u001b[39m\u001b[39m.\u001b[39mdpi, prop)\n\u001b[1;32m    217\u001b[0m     \u001b[39mreturn\u001b[39;00m width, height, descent\n\u001b[0;32m--> 219\u001b[0m font \u001b[39m=\u001b[39m \u001b[39mself\u001b[39;49m\u001b[39m.\u001b[39;49m_prepare_font(prop)\n\u001b[1;32m    220\u001b[0m font\u001b[39m.\u001b[39mset_text(s, \u001b[39m0.0\u001b[39m, flags\u001b[39m=\u001b[39mget_hinting_flag())\n\u001b[1;32m    221\u001b[0m w, h \u001b[39m=\u001b[39m font\u001b[39m.\u001b[39mget_width_height()  \u001b[39m# width and height of unrotated string\u001b[39;00m\n",
      "File \u001b[0;32m/Library/Frameworks/Python.framework/Versions/3.12/lib/python3.12/site-packages/matplotlib/backends/backend_agg.py:254\u001b[0m, in \u001b[0;36mRendererAgg._prepare_font\u001b[0;34m(self, font_prop)\u001b[0m\n\u001b[1;32m    250\u001b[0m \u001b[39m\u001b[39m\u001b[39m\"\"\"\u001b[39;00m\n\u001b[1;32m    251\u001b[0m \u001b[39mGet the `.FT2Font` for *font_prop*, clear its buffer, and set its size.\u001b[39;00m\n\u001b[1;32m    252\u001b[0m \u001b[39m\"\"\"\u001b[39;00m\n\u001b[1;32m    253\u001b[0m font \u001b[39m=\u001b[39m get_font(_fontManager\u001b[39m.\u001b[39m_find_fonts_by_props(font_prop))\n\u001b[0;32m--> 254\u001b[0m font\u001b[39m.\u001b[39;49mclear()\n\u001b[1;32m    255\u001b[0m size \u001b[39m=\u001b[39m font_prop\u001b[39m.\u001b[39mget_size_in_points()\n\u001b[1;32m    256\u001b[0m font\u001b[39m.\u001b[39mset_size(size, \u001b[39mself\u001b[39m\u001b[39m.\u001b[39mdpi)\n",
      "\u001b[0;31mKeyboardInterrupt\u001b[0m: "
     ]
    },
    {
     "name": "stderr",
     "output_type": "stream",
     "text": [
      "Locator attempting to generate 21315 ticks ([-969.0, ..., 20345.0]), which exceeds Locator.MAXTICKS (1000).\n",
      "Locator attempting to generate 21315 ticks ([-969.0, ..., 20345.0]), which exceeds Locator.MAXTICKS (1000).\n"
     ]
    }
   ],
   "source": [
    "### DRAFT VERSION ON A RANDOM SET OF DATA\n",
    "### CAN IGNORE THIS PART\n",
    "# Sample data creation\n",
    "dates = pd.date_range(start = '2023-01-01', periods = 20)\n",
    "data = {\n",
    "    \"Date\": dates,\n",
    "    \"Open\": np.random.uniform(100, 200, size = 20),\n",
    "    \"High\": np.random.uniform(200, 300, size = 20),\n",
    "    \"Low\": np.random.uniform(50, 100, size = 20),\n",
    "    \"Close\": np.random.uniform(100, 250, size = 20),\n",
    "    \"Volume\": np.random.randint(1000, 5000, size = 20)\n",
    "}\n",
    "\n",
    "df = pd.DataFrame(data, index = pd.DatetimeIndex(data[\"Date\"]))\n",
    "\n",
    "# Calculate the 20-day moving average\n",
    "df[\"20_MA\"] = df[\"Close\"].rolling(window = 20).mean()\n",
    "\n",
    "# Create figure and axis\n",
    "fig, (ax1, ax2) = plt.subplots(2, 1, figsize = (60, 64), gridspec_kw = {\"height_ratios\": [4, 1]})\n",
    "\n",
    "# Plot OHLC\n",
    "ax1.plot(df[\"Date\"], df[\"Close\"], label = \"Close\", color = \"white\")\n",
    "ax1.plot(df[\"Date\"], df[\"20_MA\"], label = \"20-Day MA\", color = \"white\", linestyle = '--')\n",
    "mpf.plot(df, type = \"candle\", ax = ax1, volume = False, style = 'charles', show_nontrading = False)\n",
    "ax1.set_title('OHLC Chart with 20-Day Moving Average')\n",
    "ax1.xaxis.set_major_formatter(mdates.DateFormatter('%Y-%m-%d'))\n",
    "ax1.xaxis.set_major_locator(mdates.DayLocator())\n",
    "ax1.set_ylabel('Price')\n",
    "ax1.legend()\n",
    "\n",
    "# Plot Volume\n",
    "ax2.bar(df[\"Date\"], df[\"Volume\"], color = \"white\")\n",
    "\n",
    "# Set background color to black\n",
    "fig.patch.set_color(\"black\")\n",
    "ax1.set_facecolor(\"black\")\n",
    "ax2.set_facecolor(\"black\")\n",
    "\n",
    "# Save as black and white image\n",
    "plt.subplots_adjust(hspace=0.5)\n",
    "plt.savefig(f'ohlc_volume_chart_20_days.png', dpi=300, bbox_inches = 'tight')\n",
    "plt.show()\n",
    "\n"
   ]
  },
  {
   "cell_type": "code",
   "execution_count": null,
   "metadata": {},
   "outputs": [],
   "source": [
    "### WE REPLICATE THE IMAGE AGAIN TO CHECK THE FOLLOWING REQUIREMENT:\n",
    "# 1. IS THE IMAGE SPARSE (MEANS THAT MOST OF PIXELS ARE 0)?\n",
    "# 2. IS THAT \"REALLY\" BLACK AND WHITE (0 AND 255), OR UNEXPECTEDLY HAS SOME OTHER NUMBERS?\n",
    "# 3. DOES THE MOVING AVERAGE SATISFY THE AUTHORS' REQUIREMENTS, WHICH IS STAIRS-STYLE?"
   ]
  },
  {
   "cell_type": "code",
   "execution_count": 6,
   "metadata": {},
   "outputs": [
    {
     "name": "stdout",
     "output_type": "stream",
     "text": [
      "[10001 10002 10003 ... 93434 93435 93436]\n",
      "Len of unique ID: 23443\n"
     ]
    }
   ],
   "source": [
    "# CHECK THE AMOUNT OF PERMNO THAT WE HAVE\n",
    "unique_id = crsp_data_1993_2019[\"PERMNO\"].unique()\n",
    "print(unique_id)\n",
    "print(f\"Len of unique ID: {len(unique_id)}\")"
   ]
  },
  {
   "cell_type": "code",
   "execution_count": 7,
   "metadata": {},
   "outputs": [
    {
     "data": {
      "text/html": [
       "<div>\n",
       "<style scoped>\n",
       "    .dataframe tbody tr th:only-of-type {\n",
       "        vertical-align: middle;\n",
       "    }\n",
       "\n",
       "    .dataframe tbody tr th {\n",
       "        vertical-align: top;\n",
       "    }\n",
       "\n",
       "    .dataframe thead th {\n",
       "        text-align: right;\n",
       "    }\n",
       "</style>\n",
       "<table border=\"1\" class=\"dataframe\">\n",
       "  <thead>\n",
       "    <tr style=\"text-align: right;\">\n",
       "      <th></th>\n",
       "      <th>PERMNO</th>\n",
       "      <th>HdrCUSIP</th>\n",
       "      <th>Ticker</th>\n",
       "      <th>PERMCO</th>\n",
       "      <th>DlyCalDt</th>\n",
       "      <th>DlyVol</th>\n",
       "      <th>DlyClose</th>\n",
       "      <th>DlyLow</th>\n",
       "      <th>DlyHigh</th>\n",
       "      <th>DlyOpen</th>\n",
       "    </tr>\n",
       "  </thead>\n",
       "  <tbody>\n",
       "    <tr>\n",
       "      <th>0</th>\n",
       "      <td>10001</td>\n",
       "      <td>36720410</td>\n",
       "      <td>GFGC</td>\n",
       "      <td>7953</td>\n",
       "      <td>1993-01-04</td>\n",
       "      <td>150.0</td>\n",
       "      <td>14.50</td>\n",
       "      <td>14.50</td>\n",
       "      <td>14.50</td>\n",
       "      <td>14.50</td>\n",
       "    </tr>\n",
       "    <tr>\n",
       "      <th>1</th>\n",
       "      <td>10001</td>\n",
       "      <td>36720410</td>\n",
       "      <td>GFGC</td>\n",
       "      <td>7953</td>\n",
       "      <td>1993-01-05</td>\n",
       "      <td>0.0</td>\n",
       "      <td>NaN</td>\n",
       "      <td>NaN</td>\n",
       "      <td>NaN</td>\n",
       "      <td>NaN</td>\n",
       "    </tr>\n",
       "    <tr>\n",
       "      <th>2</th>\n",
       "      <td>10001</td>\n",
       "      <td>36720410</td>\n",
       "      <td>GFGC</td>\n",
       "      <td>7953</td>\n",
       "      <td>1993-01-06</td>\n",
       "      <td>0.0</td>\n",
       "      <td>NaN</td>\n",
       "      <td>NaN</td>\n",
       "      <td>NaN</td>\n",
       "      <td>NaN</td>\n",
       "    </tr>\n",
       "    <tr>\n",
       "      <th>3</th>\n",
       "      <td>10001</td>\n",
       "      <td>36720410</td>\n",
       "      <td>GFGC</td>\n",
       "      <td>7953</td>\n",
       "      <td>1993-01-07</td>\n",
       "      <td>228.0</td>\n",
       "      <td>14.50</td>\n",
       "      <td>14.50</td>\n",
       "      <td>14.50</td>\n",
       "      <td>14.50</td>\n",
       "    </tr>\n",
       "    <tr>\n",
       "      <th>4</th>\n",
       "      <td>10001</td>\n",
       "      <td>36720410</td>\n",
       "      <td>GFGC</td>\n",
       "      <td>7953</td>\n",
       "      <td>1993-01-08</td>\n",
       "      <td>1375.0</td>\n",
       "      <td>14.50</td>\n",
       "      <td>14.25</td>\n",
       "      <td>14.50</td>\n",
       "      <td>14.25</td>\n",
       "    </tr>\n",
       "    <tr>\n",
       "      <th>...</th>\n",
       "      <td>...</td>\n",
       "      <td>...</td>\n",
       "      <td>...</td>\n",
       "      <td>...</td>\n",
       "      <td>...</td>\n",
       "      <td>...</td>\n",
       "      <td>...</td>\n",
       "      <td>...</td>\n",
       "      <td>...</td>\n",
       "      <td>...</td>\n",
       "    </tr>\n",
       "    <tr>\n",
       "      <th>6189</th>\n",
       "      <td>10001</td>\n",
       "      <td>36720410</td>\n",
       "      <td>EGAS</td>\n",
       "      <td>7953</td>\n",
       "      <td>2017-07-31</td>\n",
       "      <td>30166.0</td>\n",
       "      <td>12.95</td>\n",
       "      <td>12.95</td>\n",
       "      <td>13.00</td>\n",
       "      <td>13.00</td>\n",
       "    </tr>\n",
       "    <tr>\n",
       "      <th>6190</th>\n",
       "      <td>10001</td>\n",
       "      <td>36720410</td>\n",
       "      <td>EGAS</td>\n",
       "      <td>7953</td>\n",
       "      <td>2017-08-01</td>\n",
       "      <td>153297.0</td>\n",
       "      <td>13.05</td>\n",
       "      <td>12.95</td>\n",
       "      <td>13.10</td>\n",
       "      <td>12.95</td>\n",
       "    </tr>\n",
       "    <tr>\n",
       "      <th>6191</th>\n",
       "      <td>10001</td>\n",
       "      <td>36720410</td>\n",
       "      <td>EGAS</td>\n",
       "      <td>7953</td>\n",
       "      <td>2017-08-02</td>\n",
       "      <td>509562.0</td>\n",
       "      <td>13.10</td>\n",
       "      <td>13.05</td>\n",
       "      <td>13.15</td>\n",
       "      <td>13.05</td>\n",
       "    </tr>\n",
       "    <tr>\n",
       "      <th>6192</th>\n",
       "      <td>10001</td>\n",
       "      <td>36720410</td>\n",
       "      <td>EGAS</td>\n",
       "      <td>7953</td>\n",
       "      <td>2017-08-03</td>\n",
       "      <td>40610.0</td>\n",
       "      <td>13.10</td>\n",
       "      <td>13.10</td>\n",
       "      <td>13.15</td>\n",
       "      <td>13.10</td>\n",
       "    </tr>\n",
       "    <tr>\n",
       "      <th>6193</th>\n",
       "      <td>10001</td>\n",
       "      <td>36720410</td>\n",
       "      <td>NaN</td>\n",
       "      <td>7953</td>\n",
       "      <td>2017-08-04</td>\n",
       "      <td>NaN</td>\n",
       "      <td>NaN</td>\n",
       "      <td>NaN</td>\n",
       "      <td>NaN</td>\n",
       "      <td>NaN</td>\n",
       "    </tr>\n",
       "  </tbody>\n",
       "</table>\n",
       "<p>6194 rows × 10 columns</p>\n",
       "</div>"
      ],
      "text/plain": [
       "      PERMNO  HdrCUSIP Ticker  PERMCO    DlyCalDt    DlyVol  DlyClose  DlyLow  \\\n",
       "0      10001  36720410   GFGC    7953  1993-01-04     150.0     14.50   14.50   \n",
       "1      10001  36720410   GFGC    7953  1993-01-05       0.0       NaN     NaN   \n",
       "2      10001  36720410   GFGC    7953  1993-01-06       0.0       NaN     NaN   \n",
       "3      10001  36720410   GFGC    7953  1993-01-07     228.0     14.50   14.50   \n",
       "4      10001  36720410   GFGC    7953  1993-01-08    1375.0     14.50   14.25   \n",
       "...      ...       ...    ...     ...         ...       ...       ...     ...   \n",
       "6189   10001  36720410   EGAS    7953  2017-07-31   30166.0     12.95   12.95   \n",
       "6190   10001  36720410   EGAS    7953  2017-08-01  153297.0     13.05   12.95   \n",
       "6191   10001  36720410   EGAS    7953  2017-08-02  509562.0     13.10   13.05   \n",
       "6192   10001  36720410   EGAS    7953  2017-08-03   40610.0     13.10   13.10   \n",
       "6193   10001  36720410    NaN    7953  2017-08-04       NaN       NaN     NaN   \n",
       "\n",
       "      DlyHigh  DlyOpen  \n",
       "0       14.50    14.50  \n",
       "1         NaN      NaN  \n",
       "2         NaN      NaN  \n",
       "3       14.50    14.50  \n",
       "4       14.50    14.25  \n",
       "...       ...      ...  \n",
       "6189    13.00    13.00  \n",
       "6190    13.10    12.95  \n",
       "6191    13.15    13.05  \n",
       "6192    13.15    13.10  \n",
       "6193      NaN      NaN  \n",
       "\n",
       "[6194 rows x 10 columns]"
      ]
     },
     "execution_count": 7,
     "metadata": {},
     "output_type": "execute_result"
    }
   ],
   "source": [
    "# IN THIS REPLICATION, WE USE ID 10001\n",
    "crsp_data_1993_2019_10001 = crsp_data_1993_2019[crsp_data_1993_2019[\"PERMNO\"] == 10001]\n",
    "crsp_data_1993_2019_10001"
   ]
  },
  {
   "cell_type": "code",
   "execution_count": 9,
   "metadata": {},
   "outputs": [
    {
     "data": {
      "text/html": [
       "<div>\n",
       "<style scoped>\n",
       "    .dataframe tbody tr th:only-of-type {\n",
       "        vertical-align: middle;\n",
       "    }\n",
       "\n",
       "    .dataframe tbody tr th {\n",
       "        vertical-align: top;\n",
       "    }\n",
       "\n",
       "    .dataframe thead th {\n",
       "        text-align: right;\n",
       "    }\n",
       "</style>\n",
       "<table border=\"1\" class=\"dataframe\">\n",
       "  <thead>\n",
       "    <tr style=\"text-align: right;\">\n",
       "      <th></th>\n",
       "      <th>PERMNO</th>\n",
       "      <th>HdrCUSIP</th>\n",
       "      <th>Ticker</th>\n",
       "      <th>PERMCO</th>\n",
       "      <th>DlyCalDt</th>\n",
       "      <th>DlyVol</th>\n",
       "      <th>DlyClose</th>\n",
       "      <th>DlyLow</th>\n",
       "      <th>DlyHigh</th>\n",
       "      <th>DlyOpen</th>\n",
       "    </tr>\n",
       "  </thead>\n",
       "  <tbody>\n",
       "    <tr>\n",
       "      <th>0</th>\n",
       "      <td>10001</td>\n",
       "      <td>36720410</td>\n",
       "      <td>GFGC</td>\n",
       "      <td>7953</td>\n",
       "      <td>1993-01-04</td>\n",
       "      <td>150.0</td>\n",
       "      <td>14.50</td>\n",
       "      <td>14.50</td>\n",
       "      <td>14.50</td>\n",
       "      <td>14.50</td>\n",
       "    </tr>\n",
       "    <tr>\n",
       "      <th>3</th>\n",
       "      <td>10001</td>\n",
       "      <td>36720410</td>\n",
       "      <td>GFGC</td>\n",
       "      <td>7953</td>\n",
       "      <td>1993-01-07</td>\n",
       "      <td>228.0</td>\n",
       "      <td>14.50</td>\n",
       "      <td>14.50</td>\n",
       "      <td>14.50</td>\n",
       "      <td>14.50</td>\n",
       "    </tr>\n",
       "    <tr>\n",
       "      <th>4</th>\n",
       "      <td>10001</td>\n",
       "      <td>36720410</td>\n",
       "      <td>GFGC</td>\n",
       "      <td>7953</td>\n",
       "      <td>1993-01-08</td>\n",
       "      <td>1375.0</td>\n",
       "      <td>14.50</td>\n",
       "      <td>14.25</td>\n",
       "      <td>14.50</td>\n",
       "      <td>14.25</td>\n",
       "    </tr>\n",
       "    <tr>\n",
       "      <th>5</th>\n",
       "      <td>10001</td>\n",
       "      <td>36720410</td>\n",
       "      <td>GFGC</td>\n",
       "      <td>7953</td>\n",
       "      <td>1993-01-11</td>\n",
       "      <td>200.0</td>\n",
       "      <td>14.50</td>\n",
       "      <td>14.50</td>\n",
       "      <td>14.50</td>\n",
       "      <td>14.50</td>\n",
       "    </tr>\n",
       "    <tr>\n",
       "      <th>7</th>\n",
       "      <td>10001</td>\n",
       "      <td>36720410</td>\n",
       "      <td>GFGC</td>\n",
       "      <td>7953</td>\n",
       "      <td>1993-01-13</td>\n",
       "      <td>700.0</td>\n",
       "      <td>13.75</td>\n",
       "      <td>13.75</td>\n",
       "      <td>14.00</td>\n",
       "      <td>14.00</td>\n",
       "    </tr>\n",
       "    <tr>\n",
       "      <th>...</th>\n",
       "      <td>...</td>\n",
       "      <td>...</td>\n",
       "      <td>...</td>\n",
       "      <td>...</td>\n",
       "      <td>...</td>\n",
       "      <td>...</td>\n",
       "      <td>...</td>\n",
       "      <td>...</td>\n",
       "      <td>...</td>\n",
       "      <td>...</td>\n",
       "    </tr>\n",
       "    <tr>\n",
       "      <th>6188</th>\n",
       "      <td>10001</td>\n",
       "      <td>36720410</td>\n",
       "      <td>EGAS</td>\n",
       "      <td>7953</td>\n",
       "      <td>2017-07-28</td>\n",
       "      <td>9166.0</td>\n",
       "      <td>13.00</td>\n",
       "      <td>12.95</td>\n",
       "      <td>13.00</td>\n",
       "      <td>12.95</td>\n",
       "    </tr>\n",
       "    <tr>\n",
       "      <th>6189</th>\n",
       "      <td>10001</td>\n",
       "      <td>36720410</td>\n",
       "      <td>EGAS</td>\n",
       "      <td>7953</td>\n",
       "      <td>2017-07-31</td>\n",
       "      <td>30166.0</td>\n",
       "      <td>12.95</td>\n",
       "      <td>12.95</td>\n",
       "      <td>13.00</td>\n",
       "      <td>13.00</td>\n",
       "    </tr>\n",
       "    <tr>\n",
       "      <th>6190</th>\n",
       "      <td>10001</td>\n",
       "      <td>36720410</td>\n",
       "      <td>EGAS</td>\n",
       "      <td>7953</td>\n",
       "      <td>2017-08-01</td>\n",
       "      <td>153297.0</td>\n",
       "      <td>13.05</td>\n",
       "      <td>12.95</td>\n",
       "      <td>13.10</td>\n",
       "      <td>12.95</td>\n",
       "    </tr>\n",
       "    <tr>\n",
       "      <th>6191</th>\n",
       "      <td>10001</td>\n",
       "      <td>36720410</td>\n",
       "      <td>EGAS</td>\n",
       "      <td>7953</td>\n",
       "      <td>2017-08-02</td>\n",
       "      <td>509562.0</td>\n",
       "      <td>13.10</td>\n",
       "      <td>13.05</td>\n",
       "      <td>13.15</td>\n",
       "      <td>13.05</td>\n",
       "    </tr>\n",
       "    <tr>\n",
       "      <th>6192</th>\n",
       "      <td>10001</td>\n",
       "      <td>36720410</td>\n",
       "      <td>EGAS</td>\n",
       "      <td>7953</td>\n",
       "      <td>2017-08-03</td>\n",
       "      <td>40610.0</td>\n",
       "      <td>13.10</td>\n",
       "      <td>13.10</td>\n",
       "      <td>13.15</td>\n",
       "      <td>13.10</td>\n",
       "    </tr>\n",
       "  </tbody>\n",
       "</table>\n",
       "<p>5666 rows × 10 columns</p>\n",
       "</div>"
      ],
      "text/plain": [
       "      PERMNO  HdrCUSIP Ticker  PERMCO    DlyCalDt    DlyVol  DlyClose  DlyLow  \\\n",
       "0      10001  36720410   GFGC    7953  1993-01-04     150.0     14.50   14.50   \n",
       "3      10001  36720410   GFGC    7953  1993-01-07     228.0     14.50   14.50   \n",
       "4      10001  36720410   GFGC    7953  1993-01-08    1375.0     14.50   14.25   \n",
       "5      10001  36720410   GFGC    7953  1993-01-11     200.0     14.50   14.50   \n",
       "7      10001  36720410   GFGC    7953  1993-01-13     700.0     13.75   13.75   \n",
       "...      ...       ...    ...     ...         ...       ...       ...     ...   \n",
       "6188   10001  36720410   EGAS    7953  2017-07-28    9166.0     13.00   12.95   \n",
       "6189   10001  36720410   EGAS    7953  2017-07-31   30166.0     12.95   12.95   \n",
       "6190   10001  36720410   EGAS    7953  2017-08-01  153297.0     13.05   12.95   \n",
       "6191   10001  36720410   EGAS    7953  2017-08-02  509562.0     13.10   13.05   \n",
       "6192   10001  36720410   EGAS    7953  2017-08-03   40610.0     13.10   13.10   \n",
       "\n",
       "      DlyHigh  DlyOpen  \n",
       "0       14.50    14.50  \n",
       "3       14.50    14.50  \n",
       "4       14.50    14.25  \n",
       "5       14.50    14.50  \n",
       "7       14.00    14.00  \n",
       "...       ...      ...  \n",
       "6188    13.00    12.95  \n",
       "6189    13.00    13.00  \n",
       "6190    13.10    12.95  \n",
       "6191    13.15    13.05  \n",
       "6192    13.15    13.10  \n",
       "\n",
       "[5666 rows x 10 columns]"
      ]
     },
     "execution_count": 9,
     "metadata": {},
     "output_type": "execute_result"
    }
   ],
   "source": [
    "# DROP NAN IN THE DATASET\n",
    "crsp_data_1993_2019_10001 = crsp_data_1993_2019_10001.dropna()\n",
    "crsp_data_1993_2019_10001"
   ]
  },
  {
   "cell_type": "code",
   "execution_count": 10,
   "metadata": {},
   "outputs": [
    {
     "data": {
      "text/html": [
       "<div>\n",
       "<style scoped>\n",
       "    .dataframe tbody tr th:only-of-type {\n",
       "        vertical-align: middle;\n",
       "    }\n",
       "\n",
       "    .dataframe tbody tr th {\n",
       "        vertical-align: top;\n",
       "    }\n",
       "\n",
       "    .dataframe thead th {\n",
       "        text-align: right;\n",
       "    }\n",
       "</style>\n",
       "<table border=\"1\" class=\"dataframe\">\n",
       "  <thead>\n",
       "    <tr style=\"text-align: right;\">\n",
       "      <th></th>\n",
       "      <th>PERMNO</th>\n",
       "      <th>DlyCalDt</th>\n",
       "      <th>DlyVol</th>\n",
       "      <th>DlyClose</th>\n",
       "      <th>DlyLow</th>\n",
       "      <th>DlyHigh</th>\n",
       "      <th>DlyOpen</th>\n",
       "    </tr>\n",
       "  </thead>\n",
       "  <tbody>\n",
       "    <tr>\n",
       "      <th>0</th>\n",
       "      <td>10001</td>\n",
       "      <td>1993-01-04</td>\n",
       "      <td>150.0</td>\n",
       "      <td>14.50</td>\n",
       "      <td>14.50</td>\n",
       "      <td>14.50</td>\n",
       "      <td>14.50</td>\n",
       "    </tr>\n",
       "    <tr>\n",
       "      <th>3</th>\n",
       "      <td>10001</td>\n",
       "      <td>1993-01-07</td>\n",
       "      <td>228.0</td>\n",
       "      <td>14.50</td>\n",
       "      <td>14.50</td>\n",
       "      <td>14.50</td>\n",
       "      <td>14.50</td>\n",
       "    </tr>\n",
       "    <tr>\n",
       "      <th>4</th>\n",
       "      <td>10001</td>\n",
       "      <td>1993-01-08</td>\n",
       "      <td>1375.0</td>\n",
       "      <td>14.50</td>\n",
       "      <td>14.25</td>\n",
       "      <td>14.50</td>\n",
       "      <td>14.25</td>\n",
       "    </tr>\n",
       "    <tr>\n",
       "      <th>5</th>\n",
       "      <td>10001</td>\n",
       "      <td>1993-01-11</td>\n",
       "      <td>200.0</td>\n",
       "      <td>14.50</td>\n",
       "      <td>14.50</td>\n",
       "      <td>14.50</td>\n",
       "      <td>14.50</td>\n",
       "    </tr>\n",
       "    <tr>\n",
       "      <th>7</th>\n",
       "      <td>10001</td>\n",
       "      <td>1993-01-13</td>\n",
       "      <td>700.0</td>\n",
       "      <td>13.75</td>\n",
       "      <td>13.75</td>\n",
       "      <td>14.00</td>\n",
       "      <td>14.00</td>\n",
       "    </tr>\n",
       "    <tr>\n",
       "      <th>...</th>\n",
       "      <td>...</td>\n",
       "      <td>...</td>\n",
       "      <td>...</td>\n",
       "      <td>...</td>\n",
       "      <td>...</td>\n",
       "      <td>...</td>\n",
       "      <td>...</td>\n",
       "    </tr>\n",
       "    <tr>\n",
       "      <th>6188</th>\n",
       "      <td>10001</td>\n",
       "      <td>2017-07-28</td>\n",
       "      <td>9166.0</td>\n",
       "      <td>13.00</td>\n",
       "      <td>12.95</td>\n",
       "      <td>13.00</td>\n",
       "      <td>12.95</td>\n",
       "    </tr>\n",
       "    <tr>\n",
       "      <th>6189</th>\n",
       "      <td>10001</td>\n",
       "      <td>2017-07-31</td>\n",
       "      <td>30166.0</td>\n",
       "      <td>12.95</td>\n",
       "      <td>12.95</td>\n",
       "      <td>13.00</td>\n",
       "      <td>13.00</td>\n",
       "    </tr>\n",
       "    <tr>\n",
       "      <th>6190</th>\n",
       "      <td>10001</td>\n",
       "      <td>2017-08-01</td>\n",
       "      <td>153297.0</td>\n",
       "      <td>13.05</td>\n",
       "      <td>12.95</td>\n",
       "      <td>13.10</td>\n",
       "      <td>12.95</td>\n",
       "    </tr>\n",
       "    <tr>\n",
       "      <th>6191</th>\n",
       "      <td>10001</td>\n",
       "      <td>2017-08-02</td>\n",
       "      <td>509562.0</td>\n",
       "      <td>13.10</td>\n",
       "      <td>13.05</td>\n",
       "      <td>13.15</td>\n",
       "      <td>13.05</td>\n",
       "    </tr>\n",
       "    <tr>\n",
       "      <th>6192</th>\n",
       "      <td>10001</td>\n",
       "      <td>2017-08-03</td>\n",
       "      <td>40610.0</td>\n",
       "      <td>13.10</td>\n",
       "      <td>13.10</td>\n",
       "      <td>13.15</td>\n",
       "      <td>13.10</td>\n",
       "    </tr>\n",
       "  </tbody>\n",
       "</table>\n",
       "<p>5666 rows × 7 columns</p>\n",
       "</div>"
      ],
      "text/plain": [
       "      PERMNO    DlyCalDt    DlyVol  DlyClose  DlyLow  DlyHigh  DlyOpen\n",
       "0      10001  1993-01-04     150.0     14.50   14.50    14.50    14.50\n",
       "3      10001  1993-01-07     228.0     14.50   14.50    14.50    14.50\n",
       "4      10001  1993-01-08    1375.0     14.50   14.25    14.50    14.25\n",
       "5      10001  1993-01-11     200.0     14.50   14.50    14.50    14.50\n",
       "7      10001  1993-01-13     700.0     13.75   13.75    14.00    14.00\n",
       "...      ...         ...       ...       ...     ...      ...      ...\n",
       "6188   10001  2017-07-28    9166.0     13.00   12.95    13.00    12.95\n",
       "6189   10001  2017-07-31   30166.0     12.95   12.95    13.00    13.00\n",
       "6190   10001  2017-08-01  153297.0     13.05   12.95    13.10    12.95\n",
       "6191   10001  2017-08-02  509562.0     13.10   13.05    13.15    13.05\n",
       "6192   10001  2017-08-03   40610.0     13.10   13.10    13.15    13.10\n",
       "\n",
       "[5666 rows x 7 columns]"
      ]
     },
     "execution_count": 10,
     "metadata": {},
     "output_type": "execute_result"
    }
   ],
   "source": [
    "# DROP USELESS COLUMNS\n",
    "crsp_data_1993_2019_10001 = crsp_data_1993_2019_10001.drop([\"HdrCUSIP\", \"Ticker\", \"PERMCO\"], axis = 1)\n",
    "crsp_data_1993_2019_10001"
   ]
  },
  {
   "cell_type": "code",
   "execution_count": 11,
   "metadata": {},
   "outputs": [
    {
     "data": {
      "text/html": [
       "<div>\n",
       "<style scoped>\n",
       "    .dataframe tbody tr th:only-of-type {\n",
       "        vertical-align: middle;\n",
       "    }\n",
       "\n",
       "    .dataframe tbody tr th {\n",
       "        vertical-align: top;\n",
       "    }\n",
       "\n",
       "    .dataframe thead th {\n",
       "        text-align: right;\n",
       "    }\n",
       "</style>\n",
       "<table border=\"1\" class=\"dataframe\">\n",
       "  <thead>\n",
       "    <tr style=\"text-align: right;\">\n",
       "      <th></th>\n",
       "      <th>PERMNO</th>\n",
       "      <th>DlyCalDt</th>\n",
       "      <th>DlyVol</th>\n",
       "      <th>DlyClose</th>\n",
       "      <th>DlyLow</th>\n",
       "      <th>DlyHigh</th>\n",
       "      <th>DlyOpen</th>\n",
       "      <th>20_Day_MA_Low</th>\n",
       "    </tr>\n",
       "  </thead>\n",
       "  <tbody>\n",
       "    <tr>\n",
       "      <th>0</th>\n",
       "      <td>10001</td>\n",
       "      <td>1993-01-04</td>\n",
       "      <td>150.0</td>\n",
       "      <td>14.50</td>\n",
       "      <td>14.50</td>\n",
       "      <td>14.50</td>\n",
       "      <td>14.50</td>\n",
       "      <td>14.50000</td>\n",
       "    </tr>\n",
       "    <tr>\n",
       "      <th>3</th>\n",
       "      <td>10001</td>\n",
       "      <td>1993-01-07</td>\n",
       "      <td>228.0</td>\n",
       "      <td>14.50</td>\n",
       "      <td>14.50</td>\n",
       "      <td>14.50</td>\n",
       "      <td>14.50</td>\n",
       "      <td>14.50000</td>\n",
       "    </tr>\n",
       "    <tr>\n",
       "      <th>4</th>\n",
       "      <td>10001</td>\n",
       "      <td>1993-01-08</td>\n",
       "      <td>1375.0</td>\n",
       "      <td>14.50</td>\n",
       "      <td>14.25</td>\n",
       "      <td>14.50</td>\n",
       "      <td>14.25</td>\n",
       "      <td>14.25000</td>\n",
       "    </tr>\n",
       "    <tr>\n",
       "      <th>5</th>\n",
       "      <td>10001</td>\n",
       "      <td>1993-01-11</td>\n",
       "      <td>200.0</td>\n",
       "      <td>14.50</td>\n",
       "      <td>14.50</td>\n",
       "      <td>14.50</td>\n",
       "      <td>14.50</td>\n",
       "      <td>14.50000</td>\n",
       "    </tr>\n",
       "    <tr>\n",
       "      <th>7</th>\n",
       "      <td>10001</td>\n",
       "      <td>1993-01-13</td>\n",
       "      <td>700.0</td>\n",
       "      <td>13.75</td>\n",
       "      <td>13.75</td>\n",
       "      <td>14.00</td>\n",
       "      <td>14.00</td>\n",
       "      <td>13.75000</td>\n",
       "    </tr>\n",
       "    <tr>\n",
       "      <th>...</th>\n",
       "      <td>...</td>\n",
       "      <td>...</td>\n",
       "      <td>...</td>\n",
       "      <td>...</td>\n",
       "      <td>...</td>\n",
       "      <td>...</td>\n",
       "      <td>...</td>\n",
       "      <td>...</td>\n",
       "    </tr>\n",
       "    <tr>\n",
       "      <th>6188</th>\n",
       "      <td>10001</td>\n",
       "      <td>2017-07-28</td>\n",
       "      <td>9166.0</td>\n",
       "      <td>13.00</td>\n",
       "      <td>12.95</td>\n",
       "      <td>13.00</td>\n",
       "      <td>12.95</td>\n",
       "      <td>12.86970</td>\n",
       "    </tr>\n",
       "    <tr>\n",
       "      <th>6189</th>\n",
       "      <td>10001</td>\n",
       "      <td>2017-07-31</td>\n",
       "      <td>30166.0</td>\n",
       "      <td>12.95</td>\n",
       "      <td>12.95</td>\n",
       "      <td>13.00</td>\n",
       "      <td>13.00</td>\n",
       "      <td>12.87220</td>\n",
       "    </tr>\n",
       "    <tr>\n",
       "      <th>6190</th>\n",
       "      <td>10001</td>\n",
       "      <td>2017-08-01</td>\n",
       "      <td>153297.0</td>\n",
       "      <td>13.05</td>\n",
       "      <td>12.95</td>\n",
       "      <td>13.10</td>\n",
       "      <td>12.95</td>\n",
       "      <td>12.87720</td>\n",
       "    </tr>\n",
       "    <tr>\n",
       "      <th>6191</th>\n",
       "      <td>10001</td>\n",
       "      <td>2017-08-02</td>\n",
       "      <td>509562.0</td>\n",
       "      <td>13.10</td>\n",
       "      <td>13.05</td>\n",
       "      <td>13.15</td>\n",
       "      <td>13.05</td>\n",
       "      <td>12.88625</td>\n",
       "    </tr>\n",
       "    <tr>\n",
       "      <th>6192</th>\n",
       "      <td>10001</td>\n",
       "      <td>2017-08-03</td>\n",
       "      <td>40610.0</td>\n",
       "      <td>13.10</td>\n",
       "      <td>13.10</td>\n",
       "      <td>13.15</td>\n",
       "      <td>13.10</td>\n",
       "      <td>12.89625</td>\n",
       "    </tr>\n",
       "  </tbody>\n",
       "</table>\n",
       "<p>5666 rows × 8 columns</p>\n",
       "</div>"
      ],
      "text/plain": [
       "      PERMNO    DlyCalDt    DlyVol  DlyClose  DlyLow  DlyHigh  DlyOpen  \\\n",
       "0      10001  1993-01-04     150.0     14.50   14.50    14.50    14.50   \n",
       "3      10001  1993-01-07     228.0     14.50   14.50    14.50    14.50   \n",
       "4      10001  1993-01-08    1375.0     14.50   14.25    14.50    14.25   \n",
       "5      10001  1993-01-11     200.0     14.50   14.50    14.50    14.50   \n",
       "7      10001  1993-01-13     700.0     13.75   13.75    14.00    14.00   \n",
       "...      ...         ...       ...       ...     ...      ...      ...   \n",
       "6188   10001  2017-07-28    9166.0     13.00   12.95    13.00    12.95   \n",
       "6189   10001  2017-07-31   30166.0     12.95   12.95    13.00    13.00   \n",
       "6190   10001  2017-08-01  153297.0     13.05   12.95    13.10    12.95   \n",
       "6191   10001  2017-08-02  509562.0     13.10   13.05    13.15    13.05   \n",
       "6192   10001  2017-08-03   40610.0     13.10   13.10    13.15    13.10   \n",
       "\n",
       "      20_Day_MA_Low  \n",
       "0          14.50000  \n",
       "3          14.50000  \n",
       "4          14.25000  \n",
       "5          14.50000  \n",
       "7          13.75000  \n",
       "...             ...  \n",
       "6188       12.86970  \n",
       "6189       12.87220  \n",
       "6190       12.87720  \n",
       "6191       12.88625  \n",
       "6192       12.89625  \n",
       "\n",
       "[5666 rows x 8 columns]"
      ]
     },
     "execution_count": 11,
     "metadata": {},
     "output_type": "execute_result"
    }
   ],
   "source": [
    "# CALCULATE THE 20-DAY MOVING AVERAGE\n",
    "crsp_data_1993_2019_10001[\"20_Day_MA_Low\"] = crsp_data_1993_2019_10001[\"DlyLow\"].rolling(window = 20).mean().fillna(crsp_data_1993_2019_10001[\"DlyLow\"])\n",
    "crsp_data_1993_2019_10001"
   ]
  },
  {
   "cell_type": "code",
   "execution_count": 13,
   "metadata": {},
   "outputs": [
    {
     "data": {
      "text/html": [
       "<div>\n",
       "<style scoped>\n",
       "    .dataframe tbody tr th:only-of-type {\n",
       "        vertical-align: middle;\n",
       "    }\n",
       "\n",
       "    .dataframe tbody tr th {\n",
       "        vertical-align: top;\n",
       "    }\n",
       "\n",
       "    .dataframe thead th {\n",
       "        text-align: right;\n",
       "    }\n",
       "</style>\n",
       "<table border=\"1\" class=\"dataframe\">\n",
       "  <thead>\n",
       "    <tr style=\"text-align: right;\">\n",
       "      <th></th>\n",
       "      <th>PERMNO</th>\n",
       "      <th>DlyCalDt</th>\n",
       "      <th>DlyVol</th>\n",
       "      <th>DlyClose</th>\n",
       "      <th>DlyLow</th>\n",
       "      <th>DlyHigh</th>\n",
       "      <th>DlyOpen</th>\n",
       "      <th>20_Day_MA_Low</th>\n",
       "    </tr>\n",
       "  </thead>\n",
       "  <tbody>\n",
       "    <tr>\n",
       "      <th>6045</th>\n",
       "      <td>10001</td>\n",
       "      <td>2017-01-03</td>\n",
       "      <td>70124.0</td>\n",
       "      <td>12.60</td>\n",
       "      <td>12.55</td>\n",
       "      <td>12.60</td>\n",
       "      <td>12.55</td>\n",
       "      <td>12.511935</td>\n",
       "    </tr>\n",
       "    <tr>\n",
       "      <th>6046</th>\n",
       "      <td>10001</td>\n",
       "      <td>2017-01-04</td>\n",
       "      <td>4013.0</td>\n",
       "      <td>12.55</td>\n",
       "      <td>12.55</td>\n",
       "      <td>12.60</td>\n",
       "      <td>12.60</td>\n",
       "      <td>12.516935</td>\n",
       "    </tr>\n",
       "    <tr>\n",
       "      <th>6047</th>\n",
       "      <td>10001</td>\n",
       "      <td>2017-01-05</td>\n",
       "      <td>97588.0</td>\n",
       "      <td>12.70</td>\n",
       "      <td>12.60</td>\n",
       "      <td>12.70</td>\n",
       "      <td>12.60</td>\n",
       "      <td>12.521935</td>\n",
       "    </tr>\n",
       "    <tr>\n",
       "      <th>6048</th>\n",
       "      <td>10001</td>\n",
       "      <td>2017-01-06</td>\n",
       "      <td>164633.0</td>\n",
       "      <td>12.70</td>\n",
       "      <td>12.60</td>\n",
       "      <td>12.75</td>\n",
       "      <td>12.65</td>\n",
       "      <td>12.526935</td>\n",
       "    </tr>\n",
       "    <tr>\n",
       "      <th>6049</th>\n",
       "      <td>10001</td>\n",
       "      <td>2017-01-09</td>\n",
       "      <td>27508.0</td>\n",
       "      <td>12.60</td>\n",
       "      <td>12.60</td>\n",
       "      <td>12.70</td>\n",
       "      <td>12.70</td>\n",
       "      <td>12.529435</td>\n",
       "    </tr>\n",
       "    <tr>\n",
       "      <th>...</th>\n",
       "      <td>...</td>\n",
       "      <td>...</td>\n",
       "      <td>...</td>\n",
       "      <td>...</td>\n",
       "      <td>...</td>\n",
       "      <td>...</td>\n",
       "      <td>...</td>\n",
       "      <td>...</td>\n",
       "    </tr>\n",
       "    <tr>\n",
       "      <th>6188</th>\n",
       "      <td>10001</td>\n",
       "      <td>2017-07-28</td>\n",
       "      <td>9166.0</td>\n",
       "      <td>13.00</td>\n",
       "      <td>12.95</td>\n",
       "      <td>13.00</td>\n",
       "      <td>12.95</td>\n",
       "      <td>12.869700</td>\n",
       "    </tr>\n",
       "    <tr>\n",
       "      <th>6189</th>\n",
       "      <td>10001</td>\n",
       "      <td>2017-07-31</td>\n",
       "      <td>30166.0</td>\n",
       "      <td>12.95</td>\n",
       "      <td>12.95</td>\n",
       "      <td>13.00</td>\n",
       "      <td>13.00</td>\n",
       "      <td>12.872200</td>\n",
       "    </tr>\n",
       "    <tr>\n",
       "      <th>6190</th>\n",
       "      <td>10001</td>\n",
       "      <td>2017-08-01</td>\n",
       "      <td>153297.0</td>\n",
       "      <td>13.05</td>\n",
       "      <td>12.95</td>\n",
       "      <td>13.10</td>\n",
       "      <td>12.95</td>\n",
       "      <td>12.877200</td>\n",
       "    </tr>\n",
       "    <tr>\n",
       "      <th>6191</th>\n",
       "      <td>10001</td>\n",
       "      <td>2017-08-02</td>\n",
       "      <td>509562.0</td>\n",
       "      <td>13.10</td>\n",
       "      <td>13.05</td>\n",
       "      <td>13.15</td>\n",
       "      <td>13.05</td>\n",
       "      <td>12.886250</td>\n",
       "    </tr>\n",
       "    <tr>\n",
       "      <th>6192</th>\n",
       "      <td>10001</td>\n",
       "      <td>2017-08-03</td>\n",
       "      <td>40610.0</td>\n",
       "      <td>13.10</td>\n",
       "      <td>13.10</td>\n",
       "      <td>13.15</td>\n",
       "      <td>13.10</td>\n",
       "      <td>12.896250</td>\n",
       "    </tr>\n",
       "  </tbody>\n",
       "</table>\n",
       "<p>148 rows × 8 columns</p>\n",
       "</div>"
      ],
      "text/plain": [
       "      PERMNO    DlyCalDt    DlyVol  DlyClose  DlyLow  DlyHigh  DlyOpen  \\\n",
       "6045   10001  2017-01-03   70124.0     12.60   12.55    12.60    12.55   \n",
       "6046   10001  2017-01-04    4013.0     12.55   12.55    12.60    12.60   \n",
       "6047   10001  2017-01-05   97588.0     12.70   12.60    12.70    12.60   \n",
       "6048   10001  2017-01-06  164633.0     12.70   12.60    12.75    12.65   \n",
       "6049   10001  2017-01-09   27508.0     12.60   12.60    12.70    12.70   \n",
       "...      ...         ...       ...       ...     ...      ...      ...   \n",
       "6188   10001  2017-07-28    9166.0     13.00   12.95    13.00    12.95   \n",
       "6189   10001  2017-07-31   30166.0     12.95   12.95    13.00    13.00   \n",
       "6190   10001  2017-08-01  153297.0     13.05   12.95    13.10    12.95   \n",
       "6191   10001  2017-08-02  509562.0     13.10   13.05    13.15    13.05   \n",
       "6192   10001  2017-08-03   40610.0     13.10   13.10    13.15    13.10   \n",
       "\n",
       "      20_Day_MA_Low  \n",
       "6045      12.511935  \n",
       "6046      12.516935  \n",
       "6047      12.521935  \n",
       "6048      12.526935  \n",
       "6049      12.529435  \n",
       "...             ...  \n",
       "6188      12.869700  \n",
       "6189      12.872200  \n",
       "6190      12.877200  \n",
       "6191      12.886250  \n",
       "6192      12.896250  \n",
       "\n",
       "[148 rows x 8 columns]"
      ]
     },
     "execution_count": 13,
     "metadata": {},
     "output_type": "execute_result"
    }
   ],
   "source": [
    "# SINCE DACHENG'S EXAMPLE IS 2017, I WANT TO TAKE ONLY 2017 HERE\n",
    "crsp_data_2017_10001 = crsp_data_1993_2019_10001[crsp_data_1993_2019_10001[\"DlyCalDt\"].str.startswith(\"2017\")]\n",
    "crsp_data_2017_10001"
   ]
  },
  {
   "cell_type": "code",
   "execution_count": 15,
   "metadata": {},
   "outputs": [
    {
     "data": {
      "text/html": [
       "<div>\n",
       "<style scoped>\n",
       "    .dataframe tbody tr th:only-of-type {\n",
       "        vertical-align: middle;\n",
       "    }\n",
       "\n",
       "    .dataframe tbody tr th {\n",
       "        vertical-align: top;\n",
       "    }\n",
       "\n",
       "    .dataframe thead th {\n",
       "        text-align: right;\n",
       "    }\n",
       "</style>\n",
       "<table border=\"1\" class=\"dataframe\">\n",
       "  <thead>\n",
       "    <tr style=\"text-align: right;\">\n",
       "      <th></th>\n",
       "      <th>PERMNO</th>\n",
       "      <th>DlyCalDt</th>\n",
       "      <th>DlyVol</th>\n",
       "      <th>DlyClose</th>\n",
       "      <th>DlyLow</th>\n",
       "      <th>DlyHigh</th>\n",
       "      <th>DlyOpen</th>\n",
       "      <th>20_Day_MA_Low</th>\n",
       "    </tr>\n",
       "  </thead>\n",
       "  <tbody>\n",
       "    <tr>\n",
       "      <th>6045</th>\n",
       "      <td>10001</td>\n",
       "      <td>2017-01-03</td>\n",
       "      <td>70124.0</td>\n",
       "      <td>12.6000</td>\n",
       "      <td>12.55</td>\n",
       "      <td>12.60</td>\n",
       "      <td>12.55</td>\n",
       "      <td>12.511935</td>\n",
       "    </tr>\n",
       "    <tr>\n",
       "      <th>6046</th>\n",
       "      <td>10001</td>\n",
       "      <td>2017-01-04</td>\n",
       "      <td>4013.0</td>\n",
       "      <td>12.5500</td>\n",
       "      <td>12.55</td>\n",
       "      <td>12.60</td>\n",
       "      <td>12.60</td>\n",
       "      <td>12.516935</td>\n",
       "    </tr>\n",
       "    <tr>\n",
       "      <th>6047</th>\n",
       "      <td>10001</td>\n",
       "      <td>2017-01-05</td>\n",
       "      <td>97588.0</td>\n",
       "      <td>12.7000</td>\n",
       "      <td>12.60</td>\n",
       "      <td>12.70</td>\n",
       "      <td>12.60</td>\n",
       "      <td>12.521935</td>\n",
       "    </tr>\n",
       "    <tr>\n",
       "      <th>6048</th>\n",
       "      <td>10001</td>\n",
       "      <td>2017-01-06</td>\n",
       "      <td>164633.0</td>\n",
       "      <td>12.7000</td>\n",
       "      <td>12.60</td>\n",
       "      <td>12.75</td>\n",
       "      <td>12.65</td>\n",
       "      <td>12.526935</td>\n",
       "    </tr>\n",
       "    <tr>\n",
       "      <th>6049</th>\n",
       "      <td>10001</td>\n",
       "      <td>2017-01-09</td>\n",
       "      <td>27508.0</td>\n",
       "      <td>12.6000</td>\n",
       "      <td>12.60</td>\n",
       "      <td>12.70</td>\n",
       "      <td>12.70</td>\n",
       "      <td>12.529435</td>\n",
       "    </tr>\n",
       "    <tr>\n",
       "      <th>6050</th>\n",
       "      <td>10001</td>\n",
       "      <td>2017-01-10</td>\n",
       "      <td>92207.0</td>\n",
       "      <td>12.7500</td>\n",
       "      <td>12.65</td>\n",
       "      <td>12.75</td>\n",
       "      <td>12.65</td>\n",
       "      <td>12.534435</td>\n",
       "    </tr>\n",
       "    <tr>\n",
       "      <th>6051</th>\n",
       "      <td>10001</td>\n",
       "      <td>2017-01-11</td>\n",
       "      <td>38915.0</td>\n",
       "      <td>12.7000</td>\n",
       "      <td>12.65</td>\n",
       "      <td>12.75</td>\n",
       "      <td>12.75</td>\n",
       "      <td>12.539435</td>\n",
       "    </tr>\n",
       "    <tr>\n",
       "      <th>6052</th>\n",
       "      <td>10001</td>\n",
       "      <td>2017-01-12</td>\n",
       "      <td>10891.0</td>\n",
       "      <td>12.6500</td>\n",
       "      <td>12.65</td>\n",
       "      <td>12.75</td>\n",
       "      <td>12.70</td>\n",
       "      <td>12.543490</td>\n",
       "    </tr>\n",
       "    <tr>\n",
       "      <th>6053</th>\n",
       "      <td>10001</td>\n",
       "      <td>2017-01-13</td>\n",
       "      <td>166632.0</td>\n",
       "      <td>12.6500</td>\n",
       "      <td>12.55</td>\n",
       "      <td>12.67</td>\n",
       "      <td>12.65</td>\n",
       "      <td>12.543490</td>\n",
       "    </tr>\n",
       "    <tr>\n",
       "      <th>6054</th>\n",
       "      <td>10001</td>\n",
       "      <td>2017-01-17</td>\n",
       "      <td>22987.0</td>\n",
       "      <td>12.6000</td>\n",
       "      <td>12.60</td>\n",
       "      <td>12.65</td>\n",
       "      <td>12.65</td>\n",
       "      <td>12.550990</td>\n",
       "    </tr>\n",
       "    <tr>\n",
       "      <th>6055</th>\n",
       "      <td>10001</td>\n",
       "      <td>2017-01-18</td>\n",
       "      <td>29799.0</td>\n",
       "      <td>12.6499</td>\n",
       "      <td>12.60</td>\n",
       "      <td>12.65</td>\n",
       "      <td>12.60</td>\n",
       "      <td>12.560990</td>\n",
       "    </tr>\n",
       "    <tr>\n",
       "      <th>6056</th>\n",
       "      <td>10001</td>\n",
       "      <td>2017-01-19</td>\n",
       "      <td>33412.0</td>\n",
       "      <td>12.6500</td>\n",
       "      <td>12.60</td>\n",
       "      <td>12.70</td>\n",
       "      <td>12.60</td>\n",
       "      <td>12.568465</td>\n",
       "    </tr>\n",
       "    <tr>\n",
       "      <th>6057</th>\n",
       "      <td>10001</td>\n",
       "      <td>2017-01-20</td>\n",
       "      <td>21519.0</td>\n",
       "      <td>12.6500</td>\n",
       "      <td>12.60</td>\n",
       "      <td>12.70</td>\n",
       "      <td>12.60</td>\n",
       "      <td>12.575965</td>\n",
       "    </tr>\n",
       "    <tr>\n",
       "      <th>6058</th>\n",
       "      <td>10001</td>\n",
       "      <td>2017-01-23</td>\n",
       "      <td>46063.0</td>\n",
       "      <td>12.7000</td>\n",
       "      <td>12.60</td>\n",
       "      <td>12.75</td>\n",
       "      <td>12.60</td>\n",
       "      <td>12.578465</td>\n",
       "    </tr>\n",
       "    <tr>\n",
       "      <th>6059</th>\n",
       "      <td>10001</td>\n",
       "      <td>2017-01-24</td>\n",
       "      <td>41413.0</td>\n",
       "      <td>12.6500</td>\n",
       "      <td>12.65</td>\n",
       "      <td>12.70</td>\n",
       "      <td>12.70</td>\n",
       "      <td>12.583465</td>\n",
       "    </tr>\n",
       "    <tr>\n",
       "      <th>6060</th>\n",
       "      <td>10001</td>\n",
       "      <td>2017-01-25</td>\n",
       "      <td>12930.0</td>\n",
       "      <td>12.7000</td>\n",
       "      <td>12.65</td>\n",
       "      <td>12.70</td>\n",
       "      <td>12.65</td>\n",
       "      <td>12.590965</td>\n",
       "    </tr>\n",
       "    <tr>\n",
       "      <th>6061</th>\n",
       "      <td>10001</td>\n",
       "      <td>2017-01-26</td>\n",
       "      <td>2162.0</td>\n",
       "      <td>12.7000</td>\n",
       "      <td>12.65</td>\n",
       "      <td>12.70</td>\n",
       "      <td>12.65</td>\n",
       "      <td>12.595965</td>\n",
       "    </tr>\n",
       "    <tr>\n",
       "      <th>6062</th>\n",
       "      <td>10001</td>\n",
       "      <td>2017-01-27</td>\n",
       "      <td>11796.0</td>\n",
       "      <td>12.7000</td>\n",
       "      <td>12.65</td>\n",
       "      <td>12.70</td>\n",
       "      <td>12.70</td>\n",
       "      <td>12.600965</td>\n",
       "    </tr>\n",
       "    <tr>\n",
       "      <th>6063</th>\n",
       "      <td>10001</td>\n",
       "      <td>2017-01-30</td>\n",
       "      <td>23486.0</td>\n",
       "      <td>12.6500</td>\n",
       "      <td>12.65</td>\n",
       "      <td>12.70</td>\n",
       "      <td>12.70</td>\n",
       "      <td>12.608465</td>\n",
       "    </tr>\n",
       "    <tr>\n",
       "      <th>6064</th>\n",
       "      <td>10001</td>\n",
       "      <td>2017-01-31</td>\n",
       "      <td>11585.0</td>\n",
       "      <td>12.6500</td>\n",
       "      <td>12.65</td>\n",
       "      <td>12.70</td>\n",
       "      <td>12.65</td>\n",
       "      <td>12.615000</td>\n",
       "    </tr>\n",
       "  </tbody>\n",
       "</table>\n",
       "</div>"
      ],
      "text/plain": [
       "      PERMNO    DlyCalDt    DlyVol  DlyClose  DlyLow  DlyHigh  DlyOpen  \\\n",
       "6045   10001  2017-01-03   70124.0   12.6000   12.55    12.60    12.55   \n",
       "6046   10001  2017-01-04    4013.0   12.5500   12.55    12.60    12.60   \n",
       "6047   10001  2017-01-05   97588.0   12.7000   12.60    12.70    12.60   \n",
       "6048   10001  2017-01-06  164633.0   12.7000   12.60    12.75    12.65   \n",
       "6049   10001  2017-01-09   27508.0   12.6000   12.60    12.70    12.70   \n",
       "6050   10001  2017-01-10   92207.0   12.7500   12.65    12.75    12.65   \n",
       "6051   10001  2017-01-11   38915.0   12.7000   12.65    12.75    12.75   \n",
       "6052   10001  2017-01-12   10891.0   12.6500   12.65    12.75    12.70   \n",
       "6053   10001  2017-01-13  166632.0   12.6500   12.55    12.67    12.65   \n",
       "6054   10001  2017-01-17   22987.0   12.6000   12.60    12.65    12.65   \n",
       "6055   10001  2017-01-18   29799.0   12.6499   12.60    12.65    12.60   \n",
       "6056   10001  2017-01-19   33412.0   12.6500   12.60    12.70    12.60   \n",
       "6057   10001  2017-01-20   21519.0   12.6500   12.60    12.70    12.60   \n",
       "6058   10001  2017-01-23   46063.0   12.7000   12.60    12.75    12.60   \n",
       "6059   10001  2017-01-24   41413.0   12.6500   12.65    12.70    12.70   \n",
       "6060   10001  2017-01-25   12930.0   12.7000   12.65    12.70    12.65   \n",
       "6061   10001  2017-01-26    2162.0   12.7000   12.65    12.70    12.65   \n",
       "6062   10001  2017-01-27   11796.0   12.7000   12.65    12.70    12.70   \n",
       "6063   10001  2017-01-30   23486.0   12.6500   12.65    12.70    12.70   \n",
       "6064   10001  2017-01-31   11585.0   12.6500   12.65    12.70    12.65   \n",
       "\n",
       "      20_Day_MA_Low  \n",
       "6045      12.511935  \n",
       "6046      12.516935  \n",
       "6047      12.521935  \n",
       "6048      12.526935  \n",
       "6049      12.529435  \n",
       "6050      12.534435  \n",
       "6051      12.539435  \n",
       "6052      12.543490  \n",
       "6053      12.543490  \n",
       "6054      12.550990  \n",
       "6055      12.560990  \n",
       "6056      12.568465  \n",
       "6057      12.575965  \n",
       "6058      12.578465  \n",
       "6059      12.583465  \n",
       "6060      12.590965  \n",
       "6061      12.595965  \n",
       "6062      12.600965  \n",
       "6063      12.608465  \n",
       "6064      12.615000  "
      ]
     },
     "execution_count": 15,
     "metadata": {},
     "output_type": "execute_result"
    }
   ],
   "source": [
    "# DACHENG'S WEBSITE ONLY EXPERIMENTS WITH JANUARY, SO I EXTRACT THE DATA THAT IS FROM JAN\n",
    "\n",
    "crsp_data_012017_10001 = crsp_data_1993_2019_10001[crsp_data_1993_2019_10001[\"DlyCalDt\"].str.startswith(\"2017-01\")]\n",
    "crsp_data_012017_10001"
   ]
  },
  {
   "cell_type": "code",
   "execution_count": 26,
   "metadata": {},
   "outputs": [
    {
     "name": "stdout",
     "output_type": "stream",
     "text": [
      "Len X Moving Average: 20\n",
      "Len Y Moving Average: 20\n",
      "X Moving Average: 6045    2017-01-03\n",
      "6046    2017-01-04\n",
      "6047    2017-01-05\n",
      "6048    2017-01-06\n",
      "6049    2017-01-09\n",
      "6050    2017-01-10\n",
      "6051    2017-01-11\n",
      "6052    2017-01-12\n",
      "6053    2017-01-13\n",
      "6054    2017-01-17\n",
      "6055    2017-01-18\n",
      "6056    2017-01-19\n",
      "6057    2017-01-20\n",
      "6058    2017-01-23\n",
      "6059    2017-01-24\n",
      "6060    2017-01-25\n",
      "6061    2017-01-26\n",
      "6062    2017-01-27\n",
      "6063    2017-01-30\n",
      "6064    2017-01-31\n",
      "Name: DlyCalDt, dtype: object\n",
      "Y Moving Average: 6045    12.511935\n",
      "6046    12.516935\n",
      "6047    12.521935\n",
      "6048    12.526935\n",
      "6049    12.529435\n",
      "6050    12.534435\n",
      "6051    12.539435\n",
      "6052    12.543490\n",
      "6053    12.543490\n",
      "6054    12.550990\n",
      "6055    12.560990\n",
      "6056    12.568465\n",
      "6057    12.575965\n",
      "6058    12.578465\n",
      "6059    12.583465\n",
      "6060    12.590965\n",
      "6061    12.595965\n",
      "6062    12.600965\n",
      "6063    12.608465\n",
      "6064    12.615000\n",
      "Name: 20_Day_MA_Low, dtype: float64\n"
     ]
    },
    {
     "data": {
      "application/vnd.plotly.v1+json": {
       "config": {
        "plotlyServerURL": "https://plot.ly"
       },
       "data": [
        {
         "close": [
          12.6,
          12.55,
          12.7,
          12.7,
          12.6,
          12.75,
          12.7,
          12.65,
          12.65,
          12.6,
          12.6499,
          12.65,
          12.65,
          12.7,
          12.65,
          12.7,
          12.7,
          12.7,
          12.65,
          12.65
         ],
         "decreasing": {
          "line": {
           "color": "white"
          }
         },
         "high": [
          12.6,
          12.6,
          12.7,
          12.75,
          12.7,
          12.75,
          12.75,
          12.75,
          12.67,
          12.65,
          12.65,
          12.7,
          12.7,
          12.75,
          12.7,
          12.7,
          12.7,
          12.7,
          12.7,
          12.7
         ],
         "increasing": {
          "line": {
           "color": "white"
          }
         },
         "line": {
          "width": 10
         },
         "low": [
          12.55,
          12.55,
          12.6,
          12.6,
          12.6,
          12.65,
          12.65,
          12.65,
          12.55,
          12.6,
          12.6,
          12.6,
          12.6,
          12.6,
          12.65,
          12.65,
          12.65,
          12.65,
          12.65,
          12.65
         ],
         "name": "OHLC",
         "open": [
          12.55,
          12.6,
          12.6,
          12.65,
          12.7,
          12.65,
          12.75,
          12.7,
          12.65,
          12.65,
          12.6,
          12.6,
          12.6,
          12.6,
          12.7,
          12.65,
          12.65,
          12.7,
          12.7,
          12.65
         ],
         "type": "ohlc",
         "x": [
          "2017-01-03",
          "2017-01-04",
          "2017-01-05",
          "2017-01-06",
          "2017-01-09",
          "2017-01-10",
          "2017-01-11",
          "2017-01-12",
          "2017-01-13",
          "2017-01-17",
          "2017-01-18",
          "2017-01-19",
          "2017-01-20",
          "2017-01-23",
          "2017-01-24",
          "2017-01-25",
          "2017-01-26",
          "2017-01-27",
          "2017-01-30",
          "2017-01-31"
         ],
         "yaxis": "y"
        },
        {
         "line": {
          "color": "white",
          "width": 7
         },
         "name": "20-day-moving-average",
         "type": "scatter",
         "x": [
          "2017-01-03",
          "2017-01-04",
          "2017-01-05",
          "2017-01-06",
          "2017-01-09",
          "2017-01-10",
          "2017-01-11",
          "2017-01-12",
          "2017-01-13",
          "2017-01-17",
          "2017-01-18",
          "2017-01-19",
          "2017-01-20",
          "2017-01-23",
          "2017-01-24",
          "2017-01-25",
          "2017-01-26",
          "2017-01-27",
          "2017-01-30",
          "2017-01-31"
         ],
         "y": [
          12.511935000000001,
          12.516935,
          12.521935000000001,
          12.526935,
          12.529435000000001,
          12.534435,
          12.539435000000001,
          12.54349,
          12.54349,
          12.55099,
          12.56099,
          12.568465,
          12.575965,
          12.578465,
          12.583465,
          12.590965,
          12.595965,
          12.600964999999999,
          12.608464999999999,
          12.615
         ]
        },
        {
         "marker": {
          "color": "white"
         },
         "name": "Volume",
         "type": "bar",
         "x": [
          "2017-01-03",
          "2017-01-04",
          "2017-01-05",
          "2017-01-06",
          "2017-01-09",
          "2017-01-10",
          "2017-01-11",
          "2017-01-12",
          "2017-01-13",
          "2017-01-17",
          "2017-01-18",
          "2017-01-19",
          "2017-01-20",
          "2017-01-23",
          "2017-01-24",
          "2017-01-25",
          "2017-01-26",
          "2017-01-27",
          "2017-01-30",
          "2017-01-31"
         ],
         "y": [
          70124,
          4013,
          97588,
          164633,
          27508,
          92207,
          38915,
          10891,
          166632,
          22987,
          29799,
          33412,
          21519,
          46063,
          41413,
          12930,
          2162,
          11796,
          23486,
          11585
         ],
         "yaxis": "y2"
        }
       ],
       "layout": {
        "height": 640,
        "margin": {
         "b": 0,
         "l": 0,
         "r": 0,
         "t": 0
        },
        "paper_bgcolor": "black",
        "plot_bgcolor": "black",
        "showlegend": false,
        "template": {
         "data": {
          "bar": [
           {
            "error_x": {
             "color": "#2a3f5f"
            },
            "error_y": {
             "color": "#2a3f5f"
            },
            "marker": {
             "line": {
              "color": "#E5ECF6",
              "width": 0.5
             },
             "pattern": {
              "fillmode": "overlay",
              "size": 10,
              "solidity": 0.2
             }
            },
            "type": "bar"
           }
          ],
          "barpolar": [
           {
            "marker": {
             "line": {
              "color": "#E5ECF6",
              "width": 0.5
             },
             "pattern": {
              "fillmode": "overlay",
              "size": 10,
              "solidity": 0.2
             }
            },
            "type": "barpolar"
           }
          ],
          "carpet": [
           {
            "aaxis": {
             "endlinecolor": "#2a3f5f",
             "gridcolor": "white",
             "linecolor": "white",
             "minorgridcolor": "white",
             "startlinecolor": "#2a3f5f"
            },
            "baxis": {
             "endlinecolor": "#2a3f5f",
             "gridcolor": "white",
             "linecolor": "white",
             "minorgridcolor": "white",
             "startlinecolor": "#2a3f5f"
            },
            "type": "carpet"
           }
          ],
          "choropleth": [
           {
            "colorbar": {
             "outlinewidth": 0,
             "ticks": ""
            },
            "type": "choropleth"
           }
          ],
          "contour": [
           {
            "colorbar": {
             "outlinewidth": 0,
             "ticks": ""
            },
            "colorscale": [
             [
              0,
              "#0d0887"
             ],
             [
              0.1111111111111111,
              "#46039f"
             ],
             [
              0.2222222222222222,
              "#7201a8"
             ],
             [
              0.3333333333333333,
              "#9c179e"
             ],
             [
              0.4444444444444444,
              "#bd3786"
             ],
             [
              0.5555555555555556,
              "#d8576b"
             ],
             [
              0.6666666666666666,
              "#ed7953"
             ],
             [
              0.7777777777777778,
              "#fb9f3a"
             ],
             [
              0.8888888888888888,
              "#fdca26"
             ],
             [
              1,
              "#f0f921"
             ]
            ],
            "type": "contour"
           }
          ],
          "contourcarpet": [
           {
            "colorbar": {
             "outlinewidth": 0,
             "ticks": ""
            },
            "type": "contourcarpet"
           }
          ],
          "heatmap": [
           {
            "colorbar": {
             "outlinewidth": 0,
             "ticks": ""
            },
            "colorscale": [
             [
              0,
              "#0d0887"
             ],
             [
              0.1111111111111111,
              "#46039f"
             ],
             [
              0.2222222222222222,
              "#7201a8"
             ],
             [
              0.3333333333333333,
              "#9c179e"
             ],
             [
              0.4444444444444444,
              "#bd3786"
             ],
             [
              0.5555555555555556,
              "#d8576b"
             ],
             [
              0.6666666666666666,
              "#ed7953"
             ],
             [
              0.7777777777777778,
              "#fb9f3a"
             ],
             [
              0.8888888888888888,
              "#fdca26"
             ],
             [
              1,
              "#f0f921"
             ]
            ],
            "type": "heatmap"
           }
          ],
          "heatmapgl": [
           {
            "colorbar": {
             "outlinewidth": 0,
             "ticks": ""
            },
            "colorscale": [
             [
              0,
              "#0d0887"
             ],
             [
              0.1111111111111111,
              "#46039f"
             ],
             [
              0.2222222222222222,
              "#7201a8"
             ],
             [
              0.3333333333333333,
              "#9c179e"
             ],
             [
              0.4444444444444444,
              "#bd3786"
             ],
             [
              0.5555555555555556,
              "#d8576b"
             ],
             [
              0.6666666666666666,
              "#ed7953"
             ],
             [
              0.7777777777777778,
              "#fb9f3a"
             ],
             [
              0.8888888888888888,
              "#fdca26"
             ],
             [
              1,
              "#f0f921"
             ]
            ],
            "type": "heatmapgl"
           }
          ],
          "histogram": [
           {
            "marker": {
             "pattern": {
              "fillmode": "overlay",
              "size": 10,
              "solidity": 0.2
             }
            },
            "type": "histogram"
           }
          ],
          "histogram2d": [
           {
            "colorbar": {
             "outlinewidth": 0,
             "ticks": ""
            },
            "colorscale": [
             [
              0,
              "#0d0887"
             ],
             [
              0.1111111111111111,
              "#46039f"
             ],
             [
              0.2222222222222222,
              "#7201a8"
             ],
             [
              0.3333333333333333,
              "#9c179e"
             ],
             [
              0.4444444444444444,
              "#bd3786"
             ],
             [
              0.5555555555555556,
              "#d8576b"
             ],
             [
              0.6666666666666666,
              "#ed7953"
             ],
             [
              0.7777777777777778,
              "#fb9f3a"
             ],
             [
              0.8888888888888888,
              "#fdca26"
             ],
             [
              1,
              "#f0f921"
             ]
            ],
            "type": "histogram2d"
           }
          ],
          "histogram2dcontour": [
           {
            "colorbar": {
             "outlinewidth": 0,
             "ticks": ""
            },
            "colorscale": [
             [
              0,
              "#0d0887"
             ],
             [
              0.1111111111111111,
              "#46039f"
             ],
             [
              0.2222222222222222,
              "#7201a8"
             ],
             [
              0.3333333333333333,
              "#9c179e"
             ],
             [
              0.4444444444444444,
              "#bd3786"
             ],
             [
              0.5555555555555556,
              "#d8576b"
             ],
             [
              0.6666666666666666,
              "#ed7953"
             ],
             [
              0.7777777777777778,
              "#fb9f3a"
             ],
             [
              0.8888888888888888,
              "#fdca26"
             ],
             [
              1,
              "#f0f921"
             ]
            ],
            "type": "histogram2dcontour"
           }
          ],
          "mesh3d": [
           {
            "colorbar": {
             "outlinewidth": 0,
             "ticks": ""
            },
            "type": "mesh3d"
           }
          ],
          "parcoords": [
           {
            "line": {
             "colorbar": {
              "outlinewidth": 0,
              "ticks": ""
             }
            },
            "type": "parcoords"
           }
          ],
          "pie": [
           {
            "automargin": true,
            "type": "pie"
           }
          ],
          "scatter": [
           {
            "fillpattern": {
             "fillmode": "overlay",
             "size": 10,
             "solidity": 0.2
            },
            "type": "scatter"
           }
          ],
          "scatter3d": [
           {
            "line": {
             "colorbar": {
              "outlinewidth": 0,
              "ticks": ""
             }
            },
            "marker": {
             "colorbar": {
              "outlinewidth": 0,
              "ticks": ""
             }
            },
            "type": "scatter3d"
           }
          ],
          "scattercarpet": [
           {
            "marker": {
             "colorbar": {
              "outlinewidth": 0,
              "ticks": ""
             }
            },
            "type": "scattercarpet"
           }
          ],
          "scattergeo": [
           {
            "marker": {
             "colorbar": {
              "outlinewidth": 0,
              "ticks": ""
             }
            },
            "type": "scattergeo"
           }
          ],
          "scattergl": [
           {
            "marker": {
             "colorbar": {
              "outlinewidth": 0,
              "ticks": ""
             }
            },
            "type": "scattergl"
           }
          ],
          "scattermapbox": [
           {
            "marker": {
             "colorbar": {
              "outlinewidth": 0,
              "ticks": ""
             }
            },
            "type": "scattermapbox"
           }
          ],
          "scatterpolar": [
           {
            "marker": {
             "colorbar": {
              "outlinewidth": 0,
              "ticks": ""
             }
            },
            "type": "scatterpolar"
           }
          ],
          "scatterpolargl": [
           {
            "marker": {
             "colorbar": {
              "outlinewidth": 0,
              "ticks": ""
             }
            },
            "type": "scatterpolargl"
           }
          ],
          "scatterternary": [
           {
            "marker": {
             "colorbar": {
              "outlinewidth": 0,
              "ticks": ""
             }
            },
            "type": "scatterternary"
           }
          ],
          "surface": [
           {
            "colorbar": {
             "outlinewidth": 0,
             "ticks": ""
            },
            "colorscale": [
             [
              0,
              "#0d0887"
             ],
             [
              0.1111111111111111,
              "#46039f"
             ],
             [
              0.2222222222222222,
              "#7201a8"
             ],
             [
              0.3333333333333333,
              "#9c179e"
             ],
             [
              0.4444444444444444,
              "#bd3786"
             ],
             [
              0.5555555555555556,
              "#d8576b"
             ],
             [
              0.6666666666666666,
              "#ed7953"
             ],
             [
              0.7777777777777778,
              "#fb9f3a"
             ],
             [
              0.8888888888888888,
              "#fdca26"
             ],
             [
              1,
              "#f0f921"
             ]
            ],
            "type": "surface"
           }
          ],
          "table": [
           {
            "cells": {
             "fill": {
              "color": "#EBF0F8"
             },
             "line": {
              "color": "white"
             }
            },
            "header": {
             "fill": {
              "color": "#C8D4E3"
             },
             "line": {
              "color": "white"
             }
            },
            "type": "table"
           }
          ]
         },
         "layout": {
          "annotationdefaults": {
           "arrowcolor": "#2a3f5f",
           "arrowhead": 0,
           "arrowwidth": 1
          },
          "autotypenumbers": "strict",
          "coloraxis": {
           "colorbar": {
            "outlinewidth": 0,
            "ticks": ""
           }
          },
          "colorscale": {
           "diverging": [
            [
             0,
             "#8e0152"
            ],
            [
             0.1,
             "#c51b7d"
            ],
            [
             0.2,
             "#de77ae"
            ],
            [
             0.3,
             "#f1b6da"
            ],
            [
             0.4,
             "#fde0ef"
            ],
            [
             0.5,
             "#f7f7f7"
            ],
            [
             0.6,
             "#e6f5d0"
            ],
            [
             0.7,
             "#b8e186"
            ],
            [
             0.8,
             "#7fbc41"
            ],
            [
             0.9,
             "#4d9221"
            ],
            [
             1,
             "#276419"
            ]
           ],
           "sequential": [
            [
             0,
             "#0d0887"
            ],
            [
             0.1111111111111111,
             "#46039f"
            ],
            [
             0.2222222222222222,
             "#7201a8"
            ],
            [
             0.3333333333333333,
             "#9c179e"
            ],
            [
             0.4444444444444444,
             "#bd3786"
            ],
            [
             0.5555555555555556,
             "#d8576b"
            ],
            [
             0.6666666666666666,
             "#ed7953"
            ],
            [
             0.7777777777777778,
             "#fb9f3a"
            ],
            [
             0.8888888888888888,
             "#fdca26"
            ],
            [
             1,
             "#f0f921"
            ]
           ],
           "sequentialminus": [
            [
             0,
             "#0d0887"
            ],
            [
             0.1111111111111111,
             "#46039f"
            ],
            [
             0.2222222222222222,
             "#7201a8"
            ],
            [
             0.3333333333333333,
             "#9c179e"
            ],
            [
             0.4444444444444444,
             "#bd3786"
            ],
            [
             0.5555555555555556,
             "#d8576b"
            ],
            [
             0.6666666666666666,
             "#ed7953"
            ],
            [
             0.7777777777777778,
             "#fb9f3a"
            ],
            [
             0.8888888888888888,
             "#fdca26"
            ],
            [
             1,
             "#f0f921"
            ]
           ]
          },
          "colorway": [
           "#636efa",
           "#EF553B",
           "#00cc96",
           "#ab63fa",
           "#FFA15A",
           "#19d3f3",
           "#FF6692",
           "#B6E880",
           "#FF97FF",
           "#FECB52"
          ],
          "font": {
           "color": "#2a3f5f"
          },
          "geo": {
           "bgcolor": "white",
           "lakecolor": "white",
           "landcolor": "#E5ECF6",
           "showlakes": true,
           "showland": true,
           "subunitcolor": "white"
          },
          "hoverlabel": {
           "align": "left"
          },
          "hovermode": "closest",
          "mapbox": {
           "style": "light"
          },
          "paper_bgcolor": "white",
          "plot_bgcolor": "#E5ECF6",
          "polar": {
           "angularaxis": {
            "gridcolor": "white",
            "linecolor": "white",
            "ticks": ""
           },
           "bgcolor": "#E5ECF6",
           "radialaxis": {
            "gridcolor": "white",
            "linecolor": "white",
            "ticks": ""
           }
          },
          "scene": {
           "xaxis": {
            "backgroundcolor": "#E5ECF6",
            "gridcolor": "white",
            "gridwidth": 2,
            "linecolor": "white",
            "showbackground": true,
            "ticks": "",
            "zerolinecolor": "white"
           },
           "yaxis": {
            "backgroundcolor": "#E5ECF6",
            "gridcolor": "white",
            "gridwidth": 2,
            "linecolor": "white",
            "showbackground": true,
            "ticks": "",
            "zerolinecolor": "white"
           },
           "zaxis": {
            "backgroundcolor": "#E5ECF6",
            "gridcolor": "white",
            "gridwidth": 2,
            "linecolor": "white",
            "showbackground": true,
            "ticks": "",
            "zerolinecolor": "white"
           }
          },
          "shapedefaults": {
           "line": {
            "color": "#2a3f5f"
           }
          },
          "ternary": {
           "aaxis": {
            "gridcolor": "white",
            "linecolor": "white",
            "ticks": ""
           },
           "baxis": {
            "gridcolor": "white",
            "linecolor": "white",
            "ticks": ""
           },
           "bgcolor": "#E5ECF6",
           "caxis": {
            "gridcolor": "white",
            "linecolor": "white",
            "ticks": ""
           }
          },
          "title": {
           "x": 0.05
          },
          "xaxis": {
           "automargin": true,
           "gridcolor": "white",
           "linecolor": "white",
           "ticks": "",
           "title": {
            "standoff": 15
           },
           "zerolinecolor": "white",
           "zerolinewidth": 2
          },
          "yaxis": {
           "automargin": true,
           "gridcolor": "white",
           "linecolor": "white",
           "ticks": "",
           "title": {
            "standoff": 15
           },
           "zerolinecolor": "white",
           "zerolinewidth": 2
          }
         }
        },
        "width": 600,
        "xaxis": {
         "gridcolor": "gray",
         "rangebreaks": [
          {
           "values": [
            "2017-01-07",
            "2017-01-08",
            "2017-01-14",
            "2017-01-15",
            "2017-01-16",
            "2017-01-21",
            "2017-01-22",
            "2017-01-28",
            "2017-01-29"
           ]
          }
         ],
         "rangeslider": {
          "visible": false
         },
         "showticklabels": false,
         "ticks": "",
         "type": "date"
        },
        "yaxis": {
         "domain": [
          0.2,
          1
         ],
         "gridcolor": "gray",
         "range": [
          12.511935000000001,
          12.75
         ],
         "visible": false
        },
        "yaxis2": {
         "domain": [
          0,
          0.2
         ],
         "gridcolor": "gray",
         "visible": false
        }
       }
      }
     },
     "metadata": {},
     "output_type": "display_data"
    }
   ],
   "source": [
    "# START PLOTTING THE IMAGE\n",
    "\n",
    "# Create a figure\n",
    "fig = go.Figure()\n",
    "\n",
    "# If we use go.Ohlc directly, there will be gaps between days (this library follows the date in exact order),\n",
    "# We should specify what dates we want it to appear\n",
    "x_dates = crsp_data_012017_10001[\"DlyCalDt\"]\n",
    "all_dates = pd.date_range(start = crsp_data_012017_10001[\"DlyCalDt\"].min(), end = crsp_data_012017_10001[\"DlyCalDt\"].max(), freq = 'D').strftime('%Y-%m-%d')\n",
    "crsp_data_012017_10001 = crsp_data_012017_10001[crsp_data_012017_10001[\"DlyCalDt\"].isin(x_dates)]\n",
    "\n",
    "# Add the OHLC bar first\n",
    "fig.add_trace(go.Ohlc(x = crsp_data_012017_10001[\"DlyCalDt\"], open = crsp_data_012017_10001[\"DlyOpen\"],\n",
    "                      high = crsp_data_012017_10001[\"DlyHigh\"], low = crsp_data_012017_10001[\"DlyLow\"],\n",
    "                      close = crsp_data_012017_10001[\"DlyClose\"], name = \"OHLC\", line = dict(width = 10), \n",
    "                      increasing_line_color = \"white\", decreasing_line_color = \"white\", \n",
    "                      yaxis = \"y\"))\n",
    "\n",
    "# Add the moving average line\n",
    "x_moving_average = crsp_data_012017_10001[\"DlyCalDt\"]\n",
    "y_moving_average = crsp_data_012017_10001[\"20_Day_MA_Low\"]\n",
    "\n",
    "## Since we want to make the stair-step effects, we have to extend the x and y arrays\n",
    "x_stairs = []\n",
    "y_stairs = []\n",
    "\n",
    "\n",
    "print(f\"Len X Moving Average: {len(x_moving_average)}\")\n",
    "print(f\"Len Y Moving Average: {len(y_moving_average)}\")\n",
    "\n",
    "print(f\"X Moving Average: {(x_moving_average)}\")\n",
    "print(f\"Y Moving Average: {(y_moving_average)}\")\n",
    "# for i in range(len(y_moving_average)):\n",
    "#     if not pd.isna(y_moving_average[i]):  # Check for NaN\n",
    "#         x_stairs.append(x_moving_average[i])\n",
    "#         y_stairs.append(y_moving_average[i])\n",
    "#         x_stairs.append(x_moving_average[i + 1])\n",
    "#         y_stairs.append(y_moving_average[i])\n",
    "\n",
    "## Add the moving average line as a stair step\n",
    "fig.add_trace(go.Scatter(x = x_moving_average, y = y_moving_average, name = \"20-day-moving-average\", line = dict(color = \"white\", width = 7)))\n",
    "# Add the moving average line\n",
    "# fig.add_trace(go.Scatter(x = crsp_data_012017_10001[\"DlyCalDt\"], y = crsp_data_012017_10001[\"20_Day_MA_Low\"], yaxis = \"y\", name = \"20-day-moving-average\", line = dict(color = \"white\", width = 7)))\n",
    "\n",
    "# Add the volume bar\n",
    "fig.add_trace(go.Bar(x = crsp_data_012017_10001[\"DlyCalDt\"], y = crsp_data_012017_10001[\"DlyVol\"], yaxis = \"y2\", name = \"Volume\", marker = dict(color = \"white\")))\n",
    "\n",
    "# Ensure the layout is black\n",
    "fig.update_layout(\n",
    "    paper_bgcolor='black',\n",
    "    plot_bgcolor='black',\n",
    "    xaxis_rangeslider_visible = False,\n",
    "    xaxis = {\n",
    "    \"showticklabels\": False,\n",
    "    \"ticks\": \"\",\n",
    "    \"type\": \"date\",\n",
    "    \"rangebreaks\": [\n",
    "        # dict(bounds = [\"sat\", \"mon\"]),\n",
    "        # dict(pattern = \"day of week\", values = [1, 2, 3, 4, 5])\n",
    "        dict(values = all_dates[~all_dates.isin(crsp_data_012017_10001[\"DlyCalDt\"].tolist())])\n",
    "    ],\n",
    "    \"gridcolor\": \"gray\"\n",
    "    },\n",
    "    yaxis = {\n",
    "        'domain': [0.2, 1],\n",
    "        'range': [min(crsp_data_012017_10001[\"DlyLow\"].min(), crsp_data_012017_10001[\"DlyOpen\"].min(), \n",
    "                       crsp_data_012017_10001[\"DlyClose\"].min(), crsp_data_012017_10001[\"20_Day_MA_Low\"].min()), \n",
    "                      max(crsp_data_012017_10001[\"DlyHigh\"].max(), crsp_data_012017_10001[\"DlyOpen\"].max(), \n",
    "                        crsp_data_012017_10001[\"DlyClose\"].max(), crsp_data_012017_10001[\"20_Day_MA_Low\"].max())],\n",
    "        'visible': False,\n",
    "        \"gridcolor\": \"gray\"\n",
    "    },\n",
    "    # yaxis2 = {\n",
    "    #     'domain': [0.2, 1],\n",
    "    #     'range': [min(crsp_data_10001_2017_1[\"DlyLow\"].min(), crsp_data_10001_2017_1[\"DlyOpen\"].min(), \n",
    "    #                   crsp_data_10001_2017_1[\"DlyClose\"].min()), \n",
    "    #                   max(crsp_data_10001_2017_1[\"DlyHigh\"].max(), crsp_data_10001_2017_1[\"DlyOpen\"].max(), \n",
    "    #                     crsp_data_10001_2017_1[\"DlyClose\"].max())],\n",
    "    #     'visible': False\n",
    "    # },\n",
    "    yaxis2 = dict(domain = [0, 0.2], visible = False, gridcolor = \"gray\"),\n",
    "    width = 600,\n",
    "    height = 640,\n",
    "    showlegend = False,\n",
    "    margin = dict(l = 0, r = 0, t = 0, b = 0)\n",
    ")\n",
    "\n",
    "# Show the figure\n",
    "fig.show()\n",
    "\n"
   ]
  },
  {
   "cell_type": "code",
   "execution_count": 8,
   "metadata": {},
   "outputs": [
    {
     "data": {
      "image/png": "[encoded data removed]",
      "text/plain": [
       "<Figure size 640x480 with 1 Axes>"
      ]
     },
     "metadata": {},
     "output_type": "display_data"
    }
   ],
   "source": [
    "import matplotlib.pyplot as plt\n",
    "import numpy as np\n",
    "\n",
    "# Sample data\n",
    "data = np.random.randn(100).cumsum()\n",
    "window_size = 5\n",
    "\n",
    "# Calculate moving averages\n",
    "moving_averages = [np.mean(data[i:i+window_size]) for i in range(len(data) - window_size + 1)]\n",
    "\n",
    "# Create stair-step plot\n",
    "plt.step(range(window_size - 1, len(data)), moving_averages, where='post')\n",
    "plt.title('Stair-Step Moving Average')\n",
    "plt.xlabel('Index')\n",
    "plt.ylabel('Moving Average')\n",
    "plt.show()"
   ]
  }
 ],
 "metadata": {
  "kernelspec": {
   "display_name": "Python 3",
   "language": "python",
   "name": "python3"
  },
  "language_info": {
   "codemirror_mode": {
    "name": "ipython",
    "version": 3
   },
   "file_extension": ".py",
   "mimetype": "text/x-python",
   "name": "python",
   "nbconvert_exporter": "python",
   "pygments_lexer": "ipython3",
   "version": "3.12.4"
  },
  "orig_nbformat": 4,
  "vscode": {
   "interpreter": {
    "hash": "f1062708a37074d70712b695aadee582e0b0b9f95f45576b5521424137d05fec"
   }
  }
 },
 "nbformat": 4,
 "nbformat_minor": 2
}
