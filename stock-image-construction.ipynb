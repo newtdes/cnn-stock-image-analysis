{
 "cells": [
  {
   "cell_type": "code",
   "execution_count": 4,
   "metadata": {},
   "outputs": [],
   "source": [
    "# All necessary libraries must be put here\n",
    "import numpy as np\n",
    "import pandas as pd\n",
    "import matplotlib.pyplot as plt\n",
    "import matplotlib.dates as mdates\n",
    "import mplfinance as mpf\n",
    "import plotly.graph_objects as go\n",
    "import pandas as pd"
   ]
  },
  {
   "cell_type": "code",
   "execution_count": 5,
   "metadata": {},
   "outputs": [
    {
     "name": "stderr",
     "output_type": "stream",
     "text": [
      "/var/folders/pl/z1lfm5xs7299k23shpwd6ngh0000gp/T/ipykernel_22954/4244800754.py:2: DtypeWarning:\n",
      "\n",
      "Columns (1) have mixed types. Specify dtype option on import or set low_memory=False.\n",
      "\n"
     ]
    },
    {
     "data": {
      "text/html": [
       "<div>\n",
       "<style scoped>\n",
       "    .dataframe tbody tr th:only-of-type {\n",
       "        vertical-align: middle;\n",
       "    }\n",
       "\n",
       "    .dataframe tbody tr th {\n",
       "        vertical-align: top;\n",
       "    }\n",
       "\n",
       "    .dataframe thead th {\n",
       "        text-align: right;\n",
       "    }\n",
       "</style>\n",
       "<table border=\"1\" class=\"dataframe\">\n",
       "  <thead>\n",
       "    <tr style=\"text-align: right;\">\n",
       "      <th></th>\n",
       "      <th>PERMNO</th>\n",
       "      <th>HdrCUSIP</th>\n",
       "      <th>Ticker</th>\n",
       "      <th>PERMCO</th>\n",
       "      <th>DlyCalDt</th>\n",
       "      <th>DlyVol</th>\n",
       "      <th>DlyClose</th>\n",
       "      <th>DlyLow</th>\n",
       "      <th>DlyHigh</th>\n",
       "      <th>DlyOpen</th>\n",
       "    </tr>\n",
       "  </thead>\n",
       "  <tbody>\n",
       "    <tr>\n",
       "      <th>0</th>\n",
       "      <td>10001</td>\n",
       "      <td>36720410</td>\n",
       "      <td>GFGC</td>\n",
       "      <td>7953</td>\n",
       "      <td>1993-01-04</td>\n",
       "      <td>150.0</td>\n",
       "      <td>14.5</td>\n",
       "      <td>14.50</td>\n",
       "      <td>14.5</td>\n",
       "      <td>14.50</td>\n",
       "    </tr>\n",
       "    <tr>\n",
       "      <th>1</th>\n",
       "      <td>10001</td>\n",
       "      <td>36720410</td>\n",
       "      <td>GFGC</td>\n",
       "      <td>7953</td>\n",
       "      <td>1993-01-05</td>\n",
       "      <td>0.0</td>\n",
       "      <td>NaN</td>\n",
       "      <td>NaN</td>\n",
       "      <td>NaN</td>\n",
       "      <td>NaN</td>\n",
       "    </tr>\n",
       "    <tr>\n",
       "      <th>2</th>\n",
       "      <td>10001</td>\n",
       "      <td>36720410</td>\n",
       "      <td>GFGC</td>\n",
       "      <td>7953</td>\n",
       "      <td>1993-01-06</td>\n",
       "      <td>0.0</td>\n",
       "      <td>NaN</td>\n",
       "      <td>NaN</td>\n",
       "      <td>NaN</td>\n",
       "      <td>NaN</td>\n",
       "    </tr>\n",
       "    <tr>\n",
       "      <th>3</th>\n",
       "      <td>10001</td>\n",
       "      <td>36720410</td>\n",
       "      <td>GFGC</td>\n",
       "      <td>7953</td>\n",
       "      <td>1993-01-07</td>\n",
       "      <td>228.0</td>\n",
       "      <td>14.5</td>\n",
       "      <td>14.50</td>\n",
       "      <td>14.5</td>\n",
       "      <td>14.50</td>\n",
       "    </tr>\n",
       "    <tr>\n",
       "      <th>4</th>\n",
       "      <td>10001</td>\n",
       "      <td>36720410</td>\n",
       "      <td>GFGC</td>\n",
       "      <td>7953</td>\n",
       "      <td>1993-01-08</td>\n",
       "      <td>1375.0</td>\n",
       "      <td>14.5</td>\n",
       "      <td>14.25</td>\n",
       "      <td>14.5</td>\n",
       "      <td>14.25</td>\n",
       "    </tr>\n",
       "  </tbody>\n",
       "</table>\n",
       "</div>"
      ],
      "text/plain": [
       "   PERMNO  HdrCUSIP Ticker  PERMCO    DlyCalDt  DlyVol  DlyClose  DlyLow  \\\n",
       "0   10001  36720410   GFGC    7953  1993-01-04   150.0      14.5   14.50   \n",
       "1   10001  36720410   GFGC    7953  1993-01-05     0.0       NaN     NaN   \n",
       "2   10001  36720410   GFGC    7953  1993-01-06     0.0       NaN     NaN   \n",
       "3   10001  36720410   GFGC    7953  1993-01-07   228.0      14.5   14.50   \n",
       "4   10001  36720410   GFGC    7953  1993-01-08  1375.0      14.5   14.25   \n",
       "\n",
       "   DlyHigh  DlyOpen  \n",
       "0     14.5    14.50  \n",
       "1      NaN      NaN  \n",
       "2      NaN      NaN  \n",
       "3     14.5    14.50  \n",
       "4     14.5    14.25  "
      ]
     },
     "execution_count": 5,
     "metadata": {},
     "output_type": "execute_result"
    }
   ],
   "source": [
    "# Read the CRSP Data and make it become a dataframe\n",
    "crsp_data_1993_2019 = pd.read_csv(\"/Users/namnguyen/Desktop/Research/Don/Imaging_Price_Trends_Code/crsp_data_20240719_1.csv\")\n",
    "\n",
    "# Check the data\n",
    "crsp_data_1993_2019.head(5)"
   ]
  },
  {
   "cell_type": "code",
   "execution_count": 43,
   "metadata": {},
   "outputs": [],
   "source": [
    "# ### DRAFT VERSION ON A RANDOM SET OF DATA\n",
    "# ### CAN IGNORE THIS PART\n",
    "# # Sample data creation\n",
    "# dates = pd.date_range(start = '2023-01-01', periods = 20)\n",
    "# data = {\n",
    "#     \"Date\": dates,\n",
    "#     \"Open\": np.random.uniform(100, 200, size = 20),\n",
    "#     \"High\": np.random.uniform(200, 300, size = 20),\n",
    "#     \"Low\": np.random.uniform(50, 100, size = 20),\n",
    "#     \"Close\": np.random.uniform(100, 250, size = 20),\n",
    "#     \"Volume\": np.random.randint(1000, 5000, size = 20)\n",
    "# }\n",
    "\n",
    "# df = pd.DataFrame(data, index = pd.DatetimeIndex(data[\"Date\"]))\n",
    "\n",
    "# # Calculate the 20-day moving average\n",
    "# df[\"20_MA\"] = df[\"Close\"].rolling(window = 20).mean()\n",
    "\n",
    "# # Create figure and axis\n",
    "# fig, (ax1, ax2) = plt.subplots(2, 1, figsize = (60, 64), gridspec_kw = {\"height_ratios\": [4, 1]})\n",
    "\n",
    "# # Plot OHLC\n",
    "# ax1.plot(df[\"Date\"], df[\"Close\"], label = \"Close\", color = \"white\")\n",
    "# ax1.plot(df[\"Date\"], df[\"20_MA\"], label = \"20-Day MA\", color = \"white\", linestyle = '--')\n",
    "# mpf.plot(df, type = \"candle\", ax = ax1, volume = False, style = 'charles', show_nontrading = False)\n",
    "# ax1.set_title('OHLC Chart with 20-Day Moving Average')\n",
    "# ax1.xaxis.set_major_formatter(mdates.DateFormatter('%Y-%m-%d'))\n",
    "# ax1.xaxis.set_major_locator(mdates.DayLocator())\n",
    "# ax1.set_ylabel('Price')\n",
    "# ax1.legend()\n",
    "\n",
    "# # Plot Volume\n",
    "# ax2.bar(df[\"Date\"], df[\"Volume\"], color = \"white\")\n",
    "\n",
    "# # Set background color to black\n",
    "# fig.patch.set_color(\"black\")\n",
    "# ax1.set_facecolor(\"black\")\n",
    "# ax2.set_facecolor(\"black\")\n",
    "\n",
    "# # Save as black and white image\n",
    "# plt.subplots_adjust(hspace=0.5)\n",
    "# plt.savefig(f'ohlc_volume_chart_20_days.png', dpi=300, bbox_inches = 'tight')\n",
    "# plt.show()\n",
    "\n"
   ]
  },
  {
   "cell_type": "code",
   "execution_count": null,
   "metadata": {},
   "outputs": [],
   "source": [
    "### WE REPLICATE THE IMAGE AGAIN TO CHECK THE FOLLOWING REQUIREMENT:\n",
    "# 1. IS THE IMAGE SPARSE (MEANS THAT MOST OF PIXELS ARE 0)?\n",
    "# 2. IS THAT \"REALLY\" BLACK AND WHITE (0 AND 255), OR UNEXPECTEDLY HAS SOME OTHER NUMBERS?\n",
    "# 3. DOES THE MOVING AVERAGE SATISFY THE AUTHORS' REQUIREMENTS, WHICH IS STAIRS-STYLE?"
   ]
  },
  {
   "cell_type": "code",
   "execution_count": 6,
   "metadata": {},
   "outputs": [
    {
     "name": "stdout",
     "output_type": "stream",
     "text": [
      "[10001 10002 10003 ... 93434 93435 93436]\n",
      "Len of unique ID: 23443\n"
     ]
    }
   ],
   "source": [
    "# CHECK THE AMOUNT OF PERMNO THAT WE HAVE\n",
    "unique_id = crsp_data_1993_2019[\"PERMNO\"].unique()\n",
    "print(unique_id)\n",
    "print(f\"Len of unique ID: {len(unique_id)}\")"
   ]
  },
  {
   "cell_type": "code",
   "execution_count": 7,
   "metadata": {},
   "outputs": [
    {
     "data": {
      "text/html": [
       "<div>\n",
       "<style scoped>\n",
       "    .dataframe tbody tr th:only-of-type {\n",
       "        vertical-align: middle;\n",
       "    }\n",
       "\n",
       "    .dataframe tbody tr th {\n",
       "        vertical-align: top;\n",
       "    }\n",
       "\n",
       "    .dataframe thead th {\n",
       "        text-align: right;\n",
       "    }\n",
       "</style>\n",
       "<table border=\"1\" class=\"dataframe\">\n",
       "  <thead>\n",
       "    <tr style=\"text-align: right;\">\n",
       "      <th></th>\n",
       "      <th>PERMNO</th>\n",
       "      <th>HdrCUSIP</th>\n",
       "      <th>Ticker</th>\n",
       "      <th>PERMCO</th>\n",
       "      <th>DlyCalDt</th>\n",
       "      <th>DlyVol</th>\n",
       "      <th>DlyClose</th>\n",
       "      <th>DlyLow</th>\n",
       "      <th>DlyHigh</th>\n",
       "      <th>DlyOpen</th>\n",
       "    </tr>\n",
       "  </thead>\n",
       "  <tbody>\n",
       "    <tr>\n",
       "      <th>0</th>\n",
       "      <td>10001</td>\n",
       "      <td>36720410</td>\n",
       "      <td>GFGC</td>\n",
       "      <td>7953</td>\n",
       "      <td>1993-01-04</td>\n",
       "      <td>150.0</td>\n",
       "      <td>14.50</td>\n",
       "      <td>14.50</td>\n",
       "      <td>14.50</td>\n",
       "      <td>14.50</td>\n",
       "    </tr>\n",
       "    <tr>\n",
       "      <th>1</th>\n",
       "      <td>10001</td>\n",
       "      <td>36720410</td>\n",
       "      <td>GFGC</td>\n",
       "      <td>7953</td>\n",
       "      <td>1993-01-05</td>\n",
       "      <td>0.0</td>\n",
       "      <td>NaN</td>\n",
       "      <td>NaN</td>\n",
       "      <td>NaN</td>\n",
       "      <td>NaN</td>\n",
       "    </tr>\n",
       "    <tr>\n",
       "      <th>2</th>\n",
       "      <td>10001</td>\n",
       "      <td>36720410</td>\n",
       "      <td>GFGC</td>\n",
       "      <td>7953</td>\n",
       "      <td>1993-01-06</td>\n",
       "      <td>0.0</td>\n",
       "      <td>NaN</td>\n",
       "      <td>NaN</td>\n",
       "      <td>NaN</td>\n",
       "      <td>NaN</td>\n",
       "    </tr>\n",
       "    <tr>\n",
       "      <th>3</th>\n",
       "      <td>10001</td>\n",
       "      <td>36720410</td>\n",
       "      <td>GFGC</td>\n",
       "      <td>7953</td>\n",
       "      <td>1993-01-07</td>\n",
       "      <td>228.0</td>\n",
       "      <td>14.50</td>\n",
       "      <td>14.50</td>\n",
       "      <td>14.50</td>\n",
       "      <td>14.50</td>\n",
       "    </tr>\n",
       "    <tr>\n",
       "      <th>4</th>\n",
       "      <td>10001</td>\n",
       "      <td>36720410</td>\n",
       "      <td>GFGC</td>\n",
       "      <td>7953</td>\n",
       "      <td>1993-01-08</td>\n",
       "      <td>1375.0</td>\n",
       "      <td>14.50</td>\n",
       "      <td>14.25</td>\n",
       "      <td>14.50</td>\n",
       "      <td>14.25</td>\n",
       "    </tr>\n",
       "    <tr>\n",
       "      <th>...</th>\n",
       "      <td>...</td>\n",
       "      <td>...</td>\n",
       "      <td>...</td>\n",
       "      <td>...</td>\n",
       "      <td>...</td>\n",
       "      <td>...</td>\n",
       "      <td>...</td>\n",
       "      <td>...</td>\n",
       "      <td>...</td>\n",
       "      <td>...</td>\n",
       "    </tr>\n",
       "    <tr>\n",
       "      <th>6189</th>\n",
       "      <td>10001</td>\n",
       "      <td>36720410</td>\n",
       "      <td>EGAS</td>\n",
       "      <td>7953</td>\n",
       "      <td>2017-07-31</td>\n",
       "      <td>30166.0</td>\n",
       "      <td>12.95</td>\n",
       "      <td>12.95</td>\n",
       "      <td>13.00</td>\n",
       "      <td>13.00</td>\n",
       "    </tr>\n",
       "    <tr>\n",
       "      <th>6190</th>\n",
       "      <td>10001</td>\n",
       "      <td>36720410</td>\n",
       "      <td>EGAS</td>\n",
       "      <td>7953</td>\n",
       "      <td>2017-08-01</td>\n",
       "      <td>153297.0</td>\n",
       "      <td>13.05</td>\n",
       "      <td>12.95</td>\n",
       "      <td>13.10</td>\n",
       "      <td>12.95</td>\n",
       "    </tr>\n",
       "    <tr>\n",
       "      <th>6191</th>\n",
       "      <td>10001</td>\n",
       "      <td>36720410</td>\n",
       "      <td>EGAS</td>\n",
       "      <td>7953</td>\n",
       "      <td>2017-08-02</td>\n",
       "      <td>509562.0</td>\n",
       "      <td>13.10</td>\n",
       "      <td>13.05</td>\n",
       "      <td>13.15</td>\n",
       "      <td>13.05</td>\n",
       "    </tr>\n",
       "    <tr>\n",
       "      <th>6192</th>\n",
       "      <td>10001</td>\n",
       "      <td>36720410</td>\n",
       "      <td>EGAS</td>\n",
       "      <td>7953</td>\n",
       "      <td>2017-08-03</td>\n",
       "      <td>40610.0</td>\n",
       "      <td>13.10</td>\n",
       "      <td>13.10</td>\n",
       "      <td>13.15</td>\n",
       "      <td>13.10</td>\n",
       "    </tr>\n",
       "    <tr>\n",
       "      <th>6193</th>\n",
       "      <td>10001</td>\n",
       "      <td>36720410</td>\n",
       "      <td>NaN</td>\n",
       "      <td>7953</td>\n",
       "      <td>2017-08-04</td>\n",
       "      <td>NaN</td>\n",
       "      <td>NaN</td>\n",
       "      <td>NaN</td>\n",
       "      <td>NaN</td>\n",
       "      <td>NaN</td>\n",
       "    </tr>\n",
       "  </tbody>\n",
       "</table>\n",
       "<p>6194 rows × 10 columns</p>\n",
       "</div>"
      ],
      "text/plain": [
       "      PERMNO  HdrCUSIP Ticker  PERMCO    DlyCalDt    DlyVol  DlyClose  DlyLow  \\\n",
       "0      10001  36720410   GFGC    7953  1993-01-04     150.0     14.50   14.50   \n",
       "1      10001  36720410   GFGC    7953  1993-01-05       0.0       NaN     NaN   \n",
       "2      10001  36720410   GFGC    7953  1993-01-06       0.0       NaN     NaN   \n",
       "3      10001  36720410   GFGC    7953  1993-01-07     228.0     14.50   14.50   \n",
       "4      10001  36720410   GFGC    7953  1993-01-08    1375.0     14.50   14.25   \n",
       "...      ...       ...    ...     ...         ...       ...       ...     ...   \n",
       "6189   10001  36720410   EGAS    7953  2017-07-31   30166.0     12.95   12.95   \n",
       "6190   10001  36720410   EGAS    7953  2017-08-01  153297.0     13.05   12.95   \n",
       "6191   10001  36720410   EGAS    7953  2017-08-02  509562.0     13.10   13.05   \n",
       "6192   10001  36720410   EGAS    7953  2017-08-03   40610.0     13.10   13.10   \n",
       "6193   10001  36720410    NaN    7953  2017-08-04       NaN       NaN     NaN   \n",
       "\n",
       "      DlyHigh  DlyOpen  \n",
       "0       14.50    14.50  \n",
       "1         NaN      NaN  \n",
       "2         NaN      NaN  \n",
       "3       14.50    14.50  \n",
       "4       14.50    14.25  \n",
       "...       ...      ...  \n",
       "6189    13.00    13.00  \n",
       "6190    13.10    12.95  \n",
       "6191    13.15    13.05  \n",
       "6192    13.15    13.10  \n",
       "6193      NaN      NaN  \n",
       "\n",
       "[6194 rows x 10 columns]"
      ]
     },
     "execution_count": 7,
     "metadata": {},
     "output_type": "execute_result"
    }
   ],
   "source": [
    "# IN THIS REPLICATION, WE USE ID 10001\n",
    "crsp_data_1993_2019_10001 = crsp_data_1993_2019[crsp_data_1993_2019[\"PERMNO\"] == 10001]\n",
    "crsp_data_1993_2019_10001"
   ]
  },
  {
   "cell_type": "code",
   "execution_count": 9,
   "metadata": {},
   "outputs": [
    {
     "data": {
      "text/html": [
       "<div>\n",
       "<style scoped>\n",
       "    .dataframe tbody tr th:only-of-type {\n",
       "        vertical-align: middle;\n",
       "    }\n",
       "\n",
       "    .dataframe tbody tr th {\n",
       "        vertical-align: top;\n",
       "    }\n",
       "\n",
       "    .dataframe thead th {\n",
       "        text-align: right;\n",
       "    }\n",
       "</style>\n",
       "<table border=\"1\" class=\"dataframe\">\n",
       "  <thead>\n",
       "    <tr style=\"text-align: right;\">\n",
       "      <th></th>\n",
       "      <th>PERMNO</th>\n",
       "      <th>HdrCUSIP</th>\n",
       "      <th>Ticker</th>\n",
       "      <th>PERMCO</th>\n",
       "      <th>DlyCalDt</th>\n",
       "      <th>DlyVol</th>\n",
       "      <th>DlyClose</th>\n",
       "      <th>DlyLow</th>\n",
       "      <th>DlyHigh</th>\n",
       "      <th>DlyOpen</th>\n",
       "    </tr>\n",
       "  </thead>\n",
       "  <tbody>\n",
       "    <tr>\n",
       "      <th>0</th>\n",
       "      <td>10001</td>\n",
       "      <td>36720410</td>\n",
       "      <td>GFGC</td>\n",
       "      <td>7953</td>\n",
       "      <td>1993-01-04</td>\n",
       "      <td>150.0</td>\n",
       "      <td>14.50</td>\n",
       "      <td>14.50</td>\n",
       "      <td>14.50</td>\n",
       "      <td>14.50</td>\n",
       "    </tr>\n",
       "    <tr>\n",
       "      <th>3</th>\n",
       "      <td>10001</td>\n",
       "      <td>36720410</td>\n",
       "      <td>GFGC</td>\n",
       "      <td>7953</td>\n",
       "      <td>1993-01-07</td>\n",
       "      <td>228.0</td>\n",
       "      <td>14.50</td>\n",
       "      <td>14.50</td>\n",
       "      <td>14.50</td>\n",
       "      <td>14.50</td>\n",
       "    </tr>\n",
       "    <tr>\n",
       "      <th>4</th>\n",
       "      <td>10001</td>\n",
       "      <td>36720410</td>\n",
       "      <td>GFGC</td>\n",
       "      <td>7953</td>\n",
       "      <td>1993-01-08</td>\n",
       "      <td>1375.0</td>\n",
       "      <td>14.50</td>\n",
       "      <td>14.25</td>\n",
       "      <td>14.50</td>\n",
       "      <td>14.25</td>\n",
       "    </tr>\n",
       "    <tr>\n",
       "      <th>5</th>\n",
       "      <td>10001</td>\n",
       "      <td>36720410</td>\n",
       "      <td>GFGC</td>\n",
       "      <td>7953</td>\n",
       "      <td>1993-01-11</td>\n",
       "      <td>200.0</td>\n",
       "      <td>14.50</td>\n",
       "      <td>14.50</td>\n",
       "      <td>14.50</td>\n",
       "      <td>14.50</td>\n",
       "    </tr>\n",
       "    <tr>\n",
       "      <th>7</th>\n",
       "      <td>10001</td>\n",
       "      <td>36720410</td>\n",
       "      <td>GFGC</td>\n",
       "      <td>7953</td>\n",
       "      <td>1993-01-13</td>\n",
       "      <td>700.0</td>\n",
       "      <td>13.75</td>\n",
       "      <td>13.75</td>\n",
       "      <td>14.00</td>\n",
       "      <td>14.00</td>\n",
       "    </tr>\n",
       "    <tr>\n",
       "      <th>...</th>\n",
       "      <td>...</td>\n",
       "      <td>...</td>\n",
       "      <td>...</td>\n",
       "      <td>...</td>\n",
       "      <td>...</td>\n",
       "      <td>...</td>\n",
       "      <td>...</td>\n",
       "      <td>...</td>\n",
       "      <td>...</td>\n",
       "      <td>...</td>\n",
       "    </tr>\n",
       "    <tr>\n",
       "      <th>6188</th>\n",
       "      <td>10001</td>\n",
       "      <td>36720410</td>\n",
       "      <td>EGAS</td>\n",
       "      <td>7953</td>\n",
       "      <td>2017-07-28</td>\n",
       "      <td>9166.0</td>\n",
       "      <td>13.00</td>\n",
       "      <td>12.95</td>\n",
       "      <td>13.00</td>\n",
       "      <td>12.95</td>\n",
       "    </tr>\n",
       "    <tr>\n",
       "      <th>6189</th>\n",
       "      <td>10001</td>\n",
       "      <td>36720410</td>\n",
       "      <td>EGAS</td>\n",
       "      <td>7953</td>\n",
       "      <td>2017-07-31</td>\n",
       "      <td>30166.0</td>\n",
       "      <td>12.95</td>\n",
       "      <td>12.95</td>\n",
       "      <td>13.00</td>\n",
       "      <td>13.00</td>\n",
       "    </tr>\n",
       "    <tr>\n",
       "      <th>6190</th>\n",
       "      <td>10001</td>\n",
       "      <td>36720410</td>\n",
       "      <td>EGAS</td>\n",
       "      <td>7953</td>\n",
       "      <td>2017-08-01</td>\n",
       "      <td>153297.0</td>\n",
       "      <td>13.05</td>\n",
       "      <td>12.95</td>\n",
       "      <td>13.10</td>\n",
       "      <td>12.95</td>\n",
       "    </tr>\n",
       "    <tr>\n",
       "      <th>6191</th>\n",
       "      <td>10001</td>\n",
       "      <td>36720410</td>\n",
       "      <td>EGAS</td>\n",
       "      <td>7953</td>\n",
       "      <td>2017-08-02</td>\n",
       "      <td>509562.0</td>\n",
       "      <td>13.10</td>\n",
       "      <td>13.05</td>\n",
       "      <td>13.15</td>\n",
       "      <td>13.05</td>\n",
       "    </tr>\n",
       "    <tr>\n",
       "      <th>6192</th>\n",
       "      <td>10001</td>\n",
       "      <td>36720410</td>\n",
       "      <td>EGAS</td>\n",
       "      <td>7953</td>\n",
       "      <td>2017-08-03</td>\n",
       "      <td>40610.0</td>\n",
       "      <td>13.10</td>\n",
       "      <td>13.10</td>\n",
       "      <td>13.15</td>\n",
       "      <td>13.10</td>\n",
       "    </tr>\n",
       "  </tbody>\n",
       "</table>\n",
       "<p>5666 rows × 10 columns</p>\n",
       "</div>"
      ],
      "text/plain": [
       "      PERMNO  HdrCUSIP Ticker  PERMCO    DlyCalDt    DlyVol  DlyClose  DlyLow  \\\n",
       "0      10001  36720410   GFGC    7953  1993-01-04     150.0     14.50   14.50   \n",
       "3      10001  36720410   GFGC    7953  1993-01-07     228.0     14.50   14.50   \n",
       "4      10001  36720410   GFGC    7953  1993-01-08    1375.0     14.50   14.25   \n",
       "5      10001  36720410   GFGC    7953  1993-01-11     200.0     14.50   14.50   \n",
       "7      10001  36720410   GFGC    7953  1993-01-13     700.0     13.75   13.75   \n",
       "...      ...       ...    ...     ...         ...       ...       ...     ...   \n",
       "6188   10001  36720410   EGAS    7953  2017-07-28    9166.0     13.00   12.95   \n",
       "6189   10001  36720410   EGAS    7953  2017-07-31   30166.0     12.95   12.95   \n",
       "6190   10001  36720410   EGAS    7953  2017-08-01  153297.0     13.05   12.95   \n",
       "6191   10001  36720410   EGAS    7953  2017-08-02  509562.0     13.10   13.05   \n",
       "6192   10001  36720410   EGAS    7953  2017-08-03   40610.0     13.10   13.10   \n",
       "\n",
       "      DlyHigh  DlyOpen  \n",
       "0       14.50    14.50  \n",
       "3       14.50    14.50  \n",
       "4       14.50    14.25  \n",
       "5       14.50    14.50  \n",
       "7       14.00    14.00  \n",
       "...       ...      ...  \n",
       "6188    13.00    12.95  \n",
       "6189    13.00    13.00  \n",
       "6190    13.10    12.95  \n",
       "6191    13.15    13.05  \n",
       "6192    13.15    13.10  \n",
       "\n",
       "[5666 rows x 10 columns]"
      ]
     },
     "execution_count": 9,
     "metadata": {},
     "output_type": "execute_result"
    }
   ],
   "source": [
    "# DROP NAN IN THE DATASET\n",
    "crsp_data_1993_2019_10001 = crsp_data_1993_2019_10001.dropna()\n",
    "crsp_data_1993_2019_10001"
   ]
  },
  {
   "cell_type": "code",
   "execution_count": 10,
   "metadata": {},
   "outputs": [
    {
     "data": {
      "text/html": [
       "<div>\n",
       "<style scoped>\n",
       "    .dataframe tbody tr th:only-of-type {\n",
       "        vertical-align: middle;\n",
       "    }\n",
       "\n",
       "    .dataframe tbody tr th {\n",
       "        vertical-align: top;\n",
       "    }\n",
       "\n",
       "    .dataframe thead th {\n",
       "        text-align: right;\n",
       "    }\n",
       "</style>\n",
       "<table border=\"1\" class=\"dataframe\">\n",
       "  <thead>\n",
       "    <tr style=\"text-align: right;\">\n",
       "      <th></th>\n",
       "      <th>PERMNO</th>\n",
       "      <th>DlyCalDt</th>\n",
       "      <th>DlyVol</th>\n",
       "      <th>DlyClose</th>\n",
       "      <th>DlyLow</th>\n",
       "      <th>DlyHigh</th>\n",
       "      <th>DlyOpen</th>\n",
       "    </tr>\n",
       "  </thead>\n",
       "  <tbody>\n",
       "    <tr>\n",
       "      <th>0</th>\n",
       "      <td>10001</td>\n",
       "      <td>1993-01-04</td>\n",
       "      <td>150.0</td>\n",
       "      <td>14.50</td>\n",
       "      <td>14.50</td>\n",
       "      <td>14.50</td>\n",
       "      <td>14.50</td>\n",
       "    </tr>\n",
       "    <tr>\n",
       "      <th>3</th>\n",
       "      <td>10001</td>\n",
       "      <td>1993-01-07</td>\n",
       "      <td>228.0</td>\n",
       "      <td>14.50</td>\n",
       "      <td>14.50</td>\n",
       "      <td>14.50</td>\n",
       "      <td>14.50</td>\n",
       "    </tr>\n",
       "    <tr>\n",
       "      <th>4</th>\n",
       "      <td>10001</td>\n",
       "      <td>1993-01-08</td>\n",
       "      <td>1375.0</td>\n",
       "      <td>14.50</td>\n",
       "      <td>14.25</td>\n",
       "      <td>14.50</td>\n",
       "      <td>14.25</td>\n",
       "    </tr>\n",
       "    <tr>\n",
       "      <th>5</th>\n",
       "      <td>10001</td>\n",
       "      <td>1993-01-11</td>\n",
       "      <td>200.0</td>\n",
       "      <td>14.50</td>\n",
       "      <td>14.50</td>\n",
       "      <td>14.50</td>\n",
       "      <td>14.50</td>\n",
       "    </tr>\n",
       "    <tr>\n",
       "      <th>7</th>\n",
       "      <td>10001</td>\n",
       "      <td>1993-01-13</td>\n",
       "      <td>700.0</td>\n",
       "      <td>13.75</td>\n",
       "      <td>13.75</td>\n",
       "      <td>14.00</td>\n",
       "      <td>14.00</td>\n",
       "    </tr>\n",
       "    <tr>\n",
       "      <th>...</th>\n",
       "      <td>...</td>\n",
       "      <td>...</td>\n",
       "      <td>...</td>\n",
       "      <td>...</td>\n",
       "      <td>...</td>\n",
       "      <td>...</td>\n",
       "      <td>...</td>\n",
       "    </tr>\n",
       "    <tr>\n",
       "      <th>6188</th>\n",
       "      <td>10001</td>\n",
       "      <td>2017-07-28</td>\n",
       "      <td>9166.0</td>\n",
       "      <td>13.00</td>\n",
       "      <td>12.95</td>\n",
       "      <td>13.00</td>\n",
       "      <td>12.95</td>\n",
       "    </tr>\n",
       "    <tr>\n",
       "      <th>6189</th>\n",
       "      <td>10001</td>\n",
       "      <td>2017-07-31</td>\n",
       "      <td>30166.0</td>\n",
       "      <td>12.95</td>\n",
       "      <td>12.95</td>\n",
       "      <td>13.00</td>\n",
       "      <td>13.00</td>\n",
       "    </tr>\n",
       "    <tr>\n",
       "      <th>6190</th>\n",
       "      <td>10001</td>\n",
       "      <td>2017-08-01</td>\n",
       "      <td>153297.0</td>\n",
       "      <td>13.05</td>\n",
       "      <td>12.95</td>\n",
       "      <td>13.10</td>\n",
       "      <td>12.95</td>\n",
       "    </tr>\n",
       "    <tr>\n",
       "      <th>6191</th>\n",
       "      <td>10001</td>\n",
       "      <td>2017-08-02</td>\n",
       "      <td>509562.0</td>\n",
       "      <td>13.10</td>\n",
       "      <td>13.05</td>\n",
       "      <td>13.15</td>\n",
       "      <td>13.05</td>\n",
       "    </tr>\n",
       "    <tr>\n",
       "      <th>6192</th>\n",
       "      <td>10001</td>\n",
       "      <td>2017-08-03</td>\n",
       "      <td>40610.0</td>\n",
       "      <td>13.10</td>\n",
       "      <td>13.10</td>\n",
       "      <td>13.15</td>\n",
       "      <td>13.10</td>\n",
       "    </tr>\n",
       "  </tbody>\n",
       "</table>\n",
       "<p>5666 rows × 7 columns</p>\n",
       "</div>"
      ],
      "text/plain": [
       "      PERMNO    DlyCalDt    DlyVol  DlyClose  DlyLow  DlyHigh  DlyOpen\n",
       "0      10001  1993-01-04     150.0     14.50   14.50    14.50    14.50\n",
       "3      10001  1993-01-07     228.0     14.50   14.50    14.50    14.50\n",
       "4      10001  1993-01-08    1375.0     14.50   14.25    14.50    14.25\n",
       "5      10001  1993-01-11     200.0     14.50   14.50    14.50    14.50\n",
       "7      10001  1993-01-13     700.0     13.75   13.75    14.00    14.00\n",
       "...      ...         ...       ...       ...     ...      ...      ...\n",
       "6188   10001  2017-07-28    9166.0     13.00   12.95    13.00    12.95\n",
       "6189   10001  2017-07-31   30166.0     12.95   12.95    13.00    13.00\n",
       "6190   10001  2017-08-01  153297.0     13.05   12.95    13.10    12.95\n",
       "6191   10001  2017-08-02  509562.0     13.10   13.05    13.15    13.05\n",
       "6192   10001  2017-08-03   40610.0     13.10   13.10    13.15    13.10\n",
       "\n",
       "[5666 rows x 7 columns]"
      ]
     },
     "execution_count": 10,
     "metadata": {},
     "output_type": "execute_result"
    }
   ],
   "source": [
    "# DROP USELESS COLUMNS\n",
    "crsp_data_1993_2019_10001 = crsp_data_1993_2019_10001.drop([\"HdrCUSIP\", \"Ticker\", \"PERMCO\"], axis = 1)\n",
    "crsp_data_1993_2019_10001"
   ]
  },
  {
   "cell_type": "code",
   "execution_count": 11,
   "metadata": {},
   "outputs": [
    {
     "data": {
      "text/html": [
       "<div>\n",
       "<style scoped>\n",
       "    .dataframe tbody tr th:only-of-type {\n",
       "        vertical-align: middle;\n",
       "    }\n",
       "\n",
       "    .dataframe tbody tr th {\n",
       "        vertical-align: top;\n",
       "    }\n",
       "\n",
       "    .dataframe thead th {\n",
       "        text-align: right;\n",
       "    }\n",
       "</style>\n",
       "<table border=\"1\" class=\"dataframe\">\n",
       "  <thead>\n",
       "    <tr style=\"text-align: right;\">\n",
       "      <th></th>\n",
       "      <th>PERMNO</th>\n",
       "      <th>DlyCalDt</th>\n",
       "      <th>DlyVol</th>\n",
       "      <th>DlyClose</th>\n",
       "      <th>DlyLow</th>\n",
       "      <th>DlyHigh</th>\n",
       "      <th>DlyOpen</th>\n",
       "      <th>20_Day_MA_Low</th>\n",
       "    </tr>\n",
       "  </thead>\n",
       "  <tbody>\n",
       "    <tr>\n",
       "      <th>0</th>\n",
       "      <td>10001</td>\n",
       "      <td>1993-01-04</td>\n",
       "      <td>150.0</td>\n",
       "      <td>14.50</td>\n",
       "      <td>14.50</td>\n",
       "      <td>14.50</td>\n",
       "      <td>14.50</td>\n",
       "      <td>14.50000</td>\n",
       "    </tr>\n",
       "    <tr>\n",
       "      <th>3</th>\n",
       "      <td>10001</td>\n",
       "      <td>1993-01-07</td>\n",
       "      <td>228.0</td>\n",
       "      <td>14.50</td>\n",
       "      <td>14.50</td>\n",
       "      <td>14.50</td>\n",
       "      <td>14.50</td>\n",
       "      <td>14.50000</td>\n",
       "    </tr>\n",
       "    <tr>\n",
       "      <th>4</th>\n",
       "      <td>10001</td>\n",
       "      <td>1993-01-08</td>\n",
       "      <td>1375.0</td>\n",
       "      <td>14.50</td>\n",
       "      <td>14.25</td>\n",
       "      <td>14.50</td>\n",
       "      <td>14.25</td>\n",
       "      <td>14.25000</td>\n",
       "    </tr>\n",
       "    <tr>\n",
       "      <th>5</th>\n",
       "      <td>10001</td>\n",
       "      <td>1993-01-11</td>\n",
       "      <td>200.0</td>\n",
       "      <td>14.50</td>\n",
       "      <td>14.50</td>\n",
       "      <td>14.50</td>\n",
       "      <td>14.50</td>\n",
       "      <td>14.50000</td>\n",
       "    </tr>\n",
       "    <tr>\n",
       "      <th>7</th>\n",
       "      <td>10001</td>\n",
       "      <td>1993-01-13</td>\n",
       "      <td>700.0</td>\n",
       "      <td>13.75</td>\n",
       "      <td>13.75</td>\n",
       "      <td>14.00</td>\n",
       "      <td>14.00</td>\n",
       "      <td>13.75000</td>\n",
       "    </tr>\n",
       "    <tr>\n",
       "      <th>...</th>\n",
       "      <td>...</td>\n",
       "      <td>...</td>\n",
       "      <td>...</td>\n",
       "      <td>...</td>\n",
       "      <td>...</td>\n",
       "      <td>...</td>\n",
       "      <td>...</td>\n",
       "      <td>...</td>\n",
       "    </tr>\n",
       "    <tr>\n",
       "      <th>6188</th>\n",
       "      <td>10001</td>\n",
       "      <td>2017-07-28</td>\n",
       "      <td>9166.0</td>\n",
       "      <td>13.00</td>\n",
       "      <td>12.95</td>\n",
       "      <td>13.00</td>\n",
       "      <td>12.95</td>\n",
       "      <td>12.86970</td>\n",
       "    </tr>\n",
       "    <tr>\n",
       "      <th>6189</th>\n",
       "      <td>10001</td>\n",
       "      <td>2017-07-31</td>\n",
       "      <td>30166.0</td>\n",
       "      <td>12.95</td>\n",
       "      <td>12.95</td>\n",
       "      <td>13.00</td>\n",
       "      <td>13.00</td>\n",
       "      <td>12.87220</td>\n",
       "    </tr>\n",
       "    <tr>\n",
       "      <th>6190</th>\n",
       "      <td>10001</td>\n",
       "      <td>2017-08-01</td>\n",
       "      <td>153297.0</td>\n",
       "      <td>13.05</td>\n",
       "      <td>12.95</td>\n",
       "      <td>13.10</td>\n",
       "      <td>12.95</td>\n",
       "      <td>12.87720</td>\n",
       "    </tr>\n",
       "    <tr>\n",
       "      <th>6191</th>\n",
       "      <td>10001</td>\n",
       "      <td>2017-08-02</td>\n",
       "      <td>509562.0</td>\n",
       "      <td>13.10</td>\n",
       "      <td>13.05</td>\n",
       "      <td>13.15</td>\n",
       "      <td>13.05</td>\n",
       "      <td>12.88625</td>\n",
       "    </tr>\n",
       "    <tr>\n",
       "      <th>6192</th>\n",
       "      <td>10001</td>\n",
       "      <td>2017-08-03</td>\n",
       "      <td>40610.0</td>\n",
       "      <td>13.10</td>\n",
       "      <td>13.10</td>\n",
       "      <td>13.15</td>\n",
       "      <td>13.10</td>\n",
       "      <td>12.89625</td>\n",
       "    </tr>\n",
       "  </tbody>\n",
       "</table>\n",
       "<p>5666 rows × 8 columns</p>\n",
       "</div>"
      ],
      "text/plain": [
       "      PERMNO    DlyCalDt    DlyVol  DlyClose  DlyLow  DlyHigh  DlyOpen  \\\n",
       "0      10001  1993-01-04     150.0     14.50   14.50    14.50    14.50   \n",
       "3      10001  1993-01-07     228.0     14.50   14.50    14.50    14.50   \n",
       "4      10001  1993-01-08    1375.0     14.50   14.25    14.50    14.25   \n",
       "5      10001  1993-01-11     200.0     14.50   14.50    14.50    14.50   \n",
       "7      10001  1993-01-13     700.0     13.75   13.75    14.00    14.00   \n",
       "...      ...         ...       ...       ...     ...      ...      ...   \n",
       "6188   10001  2017-07-28    9166.0     13.00   12.95    13.00    12.95   \n",
       "6189   10001  2017-07-31   30166.0     12.95   12.95    13.00    13.00   \n",
       "6190   10001  2017-08-01  153297.0     13.05   12.95    13.10    12.95   \n",
       "6191   10001  2017-08-02  509562.0     13.10   13.05    13.15    13.05   \n",
       "6192   10001  2017-08-03   40610.0     13.10   13.10    13.15    13.10   \n",
       "\n",
       "      20_Day_MA_Low  \n",
       "0          14.50000  \n",
       "3          14.50000  \n",
       "4          14.25000  \n",
       "5          14.50000  \n",
       "7          13.75000  \n",
       "...             ...  \n",
       "6188       12.86970  \n",
       "6189       12.87220  \n",
       "6190       12.87720  \n",
       "6191       12.88625  \n",
       "6192       12.89625  \n",
       "\n",
       "[5666 rows x 8 columns]"
      ]
     },
     "execution_count": 11,
     "metadata": {},
     "output_type": "execute_result"
    }
   ],
   "source": [
    "# CALCULATE THE 20-DAY MOVING AVERAGE\n",
    "crsp_data_1993_2019_10001[\"20_Day_MA_Low\"] = crsp_data_1993_2019_10001[\"DlyLow\"].rolling(window = 20).mean().fillna(crsp_data_1993_2019_10001[\"DlyLow\"])\n",
    "crsp_data_1993_2019_10001"
   ]
  },
  {
   "cell_type": "code",
   "execution_count": 13,
   "metadata": {},
   "outputs": [
    {
     "data": {
      "text/html": [
       "<div>\n",
       "<style scoped>\n",
       "    .dataframe tbody tr th:only-of-type {\n",
       "        vertical-align: middle;\n",
       "    }\n",
       "\n",
       "    .dataframe tbody tr th {\n",
       "        vertical-align: top;\n",
       "    }\n",
       "\n",
       "    .dataframe thead th {\n",
       "        text-align: right;\n",
       "    }\n",
       "</style>\n",
       "<table border=\"1\" class=\"dataframe\">\n",
       "  <thead>\n",
       "    <tr style=\"text-align: right;\">\n",
       "      <th></th>\n",
       "      <th>PERMNO</th>\n",
       "      <th>DlyCalDt</th>\n",
       "      <th>DlyVol</th>\n",
       "      <th>DlyClose</th>\n",
       "      <th>DlyLow</th>\n",
       "      <th>DlyHigh</th>\n",
       "      <th>DlyOpen</th>\n",
       "      <th>20_Day_MA_Low</th>\n",
       "    </tr>\n",
       "  </thead>\n",
       "  <tbody>\n",
       "    <tr>\n",
       "      <th>6045</th>\n",
       "      <td>10001</td>\n",
       "      <td>2017-01-03</td>\n",
       "      <td>70124.0</td>\n",
       "      <td>12.60</td>\n",
       "      <td>12.55</td>\n",
       "      <td>12.60</td>\n",
       "      <td>12.55</td>\n",
       "      <td>12.511935</td>\n",
       "    </tr>\n",
       "    <tr>\n",
       "      <th>6046</th>\n",
       "      <td>10001</td>\n",
       "      <td>2017-01-04</td>\n",
       "      <td>4013.0</td>\n",
       "      <td>12.55</td>\n",
       "      <td>12.55</td>\n",
       "      <td>12.60</td>\n",
       "      <td>12.60</td>\n",
       "      <td>12.516935</td>\n",
       "    </tr>\n",
       "    <tr>\n",
       "      <th>6047</th>\n",
       "      <td>10001</td>\n",
       "      <td>2017-01-05</td>\n",
       "      <td>97588.0</td>\n",
       "      <td>12.70</td>\n",
       "      <td>12.60</td>\n",
       "      <td>12.70</td>\n",
       "      <td>12.60</td>\n",
       "      <td>12.521935</td>\n",
       "    </tr>\n",
       "    <tr>\n",
       "      <th>6048</th>\n",
       "      <td>10001</td>\n",
       "      <td>2017-01-06</td>\n",
       "      <td>164633.0</td>\n",
       "      <td>12.70</td>\n",
       "      <td>12.60</td>\n",
       "      <td>12.75</td>\n",
       "      <td>12.65</td>\n",
       "      <td>12.526935</td>\n",
       "    </tr>\n",
       "    <tr>\n",
       "      <th>6049</th>\n",
       "      <td>10001</td>\n",
       "      <td>2017-01-09</td>\n",
       "      <td>27508.0</td>\n",
       "      <td>12.60</td>\n",
       "      <td>12.60</td>\n",
       "      <td>12.70</td>\n",
       "      <td>12.70</td>\n",
       "      <td>12.529435</td>\n",
       "    </tr>\n",
       "    <tr>\n",
       "      <th>...</th>\n",
       "      <td>...</td>\n",
       "      <td>...</td>\n",
       "      <td>...</td>\n",
       "      <td>...</td>\n",
       "      <td>...</td>\n",
       "      <td>...</td>\n",
       "      <td>...</td>\n",
       "      <td>...</td>\n",
       "    </tr>\n",
       "    <tr>\n",
       "      <th>6188</th>\n",
       "      <td>10001</td>\n",
       "      <td>2017-07-28</td>\n",
       "      <td>9166.0</td>\n",
       "      <td>13.00</td>\n",
       "      <td>12.95</td>\n",
       "      <td>13.00</td>\n",
       "      <td>12.95</td>\n",
       "      <td>12.869700</td>\n",
       "    </tr>\n",
       "    <tr>\n",
       "      <th>6189</th>\n",
       "      <td>10001</td>\n",
       "      <td>2017-07-31</td>\n",
       "      <td>30166.0</td>\n",
       "      <td>12.95</td>\n",
       "      <td>12.95</td>\n",
       "      <td>13.00</td>\n",
       "      <td>13.00</td>\n",
       "      <td>12.872200</td>\n",
       "    </tr>\n",
       "    <tr>\n",
       "      <th>6190</th>\n",
       "      <td>10001</td>\n",
       "      <td>2017-08-01</td>\n",
       "      <td>153297.0</td>\n",
       "      <td>13.05</td>\n",
       "      <td>12.95</td>\n",
       "      <td>13.10</td>\n",
       "      <td>12.95</td>\n",
       "      <td>12.877200</td>\n",
       "    </tr>\n",
       "    <tr>\n",
       "      <th>6191</th>\n",
       "      <td>10001</td>\n",
       "      <td>2017-08-02</td>\n",
       "      <td>509562.0</td>\n",
       "      <td>13.10</td>\n",
       "      <td>13.05</td>\n",
       "      <td>13.15</td>\n",
       "      <td>13.05</td>\n",
       "      <td>12.886250</td>\n",
       "    </tr>\n",
       "    <tr>\n",
       "      <th>6192</th>\n",
       "      <td>10001</td>\n",
       "      <td>2017-08-03</td>\n",
       "      <td>40610.0</td>\n",
       "      <td>13.10</td>\n",
       "      <td>13.10</td>\n",
       "      <td>13.15</td>\n",
       "      <td>13.10</td>\n",
       "      <td>12.896250</td>\n",
       "    </tr>\n",
       "  </tbody>\n",
       "</table>\n",
       "<p>148 rows × 8 columns</p>\n",
       "</div>"
      ],
      "text/plain": [
       "      PERMNO    DlyCalDt    DlyVol  DlyClose  DlyLow  DlyHigh  DlyOpen  \\\n",
       "6045   10001  2017-01-03   70124.0     12.60   12.55    12.60    12.55   \n",
       "6046   10001  2017-01-04    4013.0     12.55   12.55    12.60    12.60   \n",
       "6047   10001  2017-01-05   97588.0     12.70   12.60    12.70    12.60   \n",
       "6048   10001  2017-01-06  164633.0     12.70   12.60    12.75    12.65   \n",
       "6049   10001  2017-01-09   27508.0     12.60   12.60    12.70    12.70   \n",
       "...      ...         ...       ...       ...     ...      ...      ...   \n",
       "6188   10001  2017-07-28    9166.0     13.00   12.95    13.00    12.95   \n",
       "6189   10001  2017-07-31   30166.0     12.95   12.95    13.00    13.00   \n",
       "6190   10001  2017-08-01  153297.0     13.05   12.95    13.10    12.95   \n",
       "6191   10001  2017-08-02  509562.0     13.10   13.05    13.15    13.05   \n",
       "6192   10001  2017-08-03   40610.0     13.10   13.10    13.15    13.10   \n",
       "\n",
       "      20_Day_MA_Low  \n",
       "6045      12.511935  \n",
       "6046      12.516935  \n",
       "6047      12.521935  \n",
       "6048      12.526935  \n",
       "6049      12.529435  \n",
       "...             ...  \n",
       "6188      12.869700  \n",
       "6189      12.872200  \n",
       "6190      12.877200  \n",
       "6191      12.886250  \n",
       "6192      12.896250  \n",
       "\n",
       "[148 rows x 8 columns]"
      ]
     },
     "execution_count": 13,
     "metadata": {},
     "output_type": "execute_result"
    }
   ],
   "source": [
    "# SINCE DACHENG'S EXAMPLE IS 2017, I WANT TO TAKE ONLY 2017 HERE\n",
    "crsp_data_2017_10001 = crsp_data_1993_2019_10001[crsp_data_1993_2019_10001[\"DlyCalDt\"].str.startswith(\"2017\")]\n",
    "crsp_data_2017_10001"
   ]
  },
  {
   "cell_type": "code",
   "execution_count": 15,
   "metadata": {},
   "outputs": [
    {
     "data": {
      "text/html": [
       "<div>\n",
       "<style scoped>\n",
       "    .dataframe tbody tr th:only-of-type {\n",
       "        vertical-align: middle;\n",
       "    }\n",
       "\n",
       "    .dataframe tbody tr th {\n",
       "        vertical-align: top;\n",
       "    }\n",
       "\n",
       "    .dataframe thead th {\n",
       "        text-align: right;\n",
       "    }\n",
       "</style>\n",
       "<table border=\"1\" class=\"dataframe\">\n",
       "  <thead>\n",
       "    <tr style=\"text-align: right;\">\n",
       "      <th></th>\n",
       "      <th>PERMNO</th>\n",
       "      <th>DlyCalDt</th>\n",
       "      <th>DlyVol</th>\n",
       "      <th>DlyClose</th>\n",
       "      <th>DlyLow</th>\n",
       "      <th>DlyHigh</th>\n",
       "      <th>DlyOpen</th>\n",
       "      <th>20_Day_MA_Low</th>\n",
       "    </tr>\n",
       "  </thead>\n",
       "  <tbody>\n",
       "    <tr>\n",
       "      <th>6045</th>\n",
       "      <td>10001</td>\n",
       "      <td>2017-01-03</td>\n",
       "      <td>70124.0</td>\n",
       "      <td>12.6000</td>\n",
       "      <td>12.55</td>\n",
       "      <td>12.60</td>\n",
       "      <td>12.55</td>\n",
       "      <td>12.511935</td>\n",
       "    </tr>\n",
       "    <tr>\n",
       "      <th>6046</th>\n",
       "      <td>10001</td>\n",
       "      <td>2017-01-04</td>\n",
       "      <td>4013.0</td>\n",
       "      <td>12.5500</td>\n",
       "      <td>12.55</td>\n",
       "      <td>12.60</td>\n",
       "      <td>12.60</td>\n",
       "      <td>12.516935</td>\n",
       "    </tr>\n",
       "    <tr>\n",
       "      <th>6047</th>\n",
       "      <td>10001</td>\n",
       "      <td>2017-01-05</td>\n",
       "      <td>97588.0</td>\n",
       "      <td>12.7000</td>\n",
       "      <td>12.60</td>\n",
       "      <td>12.70</td>\n",
       "      <td>12.60</td>\n",
       "      <td>12.521935</td>\n",
       "    </tr>\n",
       "    <tr>\n",
       "      <th>6048</th>\n",
       "      <td>10001</td>\n",
       "      <td>2017-01-06</td>\n",
       "      <td>164633.0</td>\n",
       "      <td>12.7000</td>\n",
       "      <td>12.60</td>\n",
       "      <td>12.75</td>\n",
       "      <td>12.65</td>\n",
       "      <td>12.526935</td>\n",
       "    </tr>\n",
       "    <tr>\n",
       "      <th>6049</th>\n",
       "      <td>10001</td>\n",
       "      <td>2017-01-09</td>\n",
       "      <td>27508.0</td>\n",
       "      <td>12.6000</td>\n",
       "      <td>12.60</td>\n",
       "      <td>12.70</td>\n",
       "      <td>12.70</td>\n",
       "      <td>12.529435</td>\n",
       "    </tr>\n",
       "    <tr>\n",
       "      <th>6050</th>\n",
       "      <td>10001</td>\n",
       "      <td>2017-01-10</td>\n",
       "      <td>92207.0</td>\n",
       "      <td>12.7500</td>\n",
       "      <td>12.65</td>\n",
       "      <td>12.75</td>\n",
       "      <td>12.65</td>\n",
       "      <td>12.534435</td>\n",
       "    </tr>\n",
       "    <tr>\n",
       "      <th>6051</th>\n",
       "      <td>10001</td>\n",
       "      <td>2017-01-11</td>\n",
       "      <td>38915.0</td>\n",
       "      <td>12.7000</td>\n",
       "      <td>12.65</td>\n",
       "      <td>12.75</td>\n",
       "      <td>12.75</td>\n",
       "      <td>12.539435</td>\n",
       "    </tr>\n",
       "    <tr>\n",
       "      <th>6052</th>\n",
       "      <td>10001</td>\n",
       "      <td>2017-01-12</td>\n",
       "      <td>10891.0</td>\n",
       "      <td>12.6500</td>\n",
       "      <td>12.65</td>\n",
       "      <td>12.75</td>\n",
       "      <td>12.70</td>\n",
       "      <td>12.543490</td>\n",
       "    </tr>\n",
       "    <tr>\n",
       "      <th>6053</th>\n",
       "      <td>10001</td>\n",
       "      <td>2017-01-13</td>\n",
       "      <td>166632.0</td>\n",
       "      <td>12.6500</td>\n",
       "      <td>12.55</td>\n",
       "      <td>12.67</td>\n",
       "      <td>12.65</td>\n",
       "      <td>12.543490</td>\n",
       "    </tr>\n",
       "    <tr>\n",
       "      <th>6054</th>\n",
       "      <td>10001</td>\n",
       "      <td>2017-01-17</td>\n",
       "      <td>22987.0</td>\n",
       "      <td>12.6000</td>\n",
       "      <td>12.60</td>\n",
       "      <td>12.65</td>\n",
       "      <td>12.65</td>\n",
       "      <td>12.550990</td>\n",
       "    </tr>\n",
       "    <tr>\n",
       "      <th>6055</th>\n",
       "      <td>10001</td>\n",
       "      <td>2017-01-18</td>\n",
       "      <td>29799.0</td>\n",
       "      <td>12.6499</td>\n",
       "      <td>12.60</td>\n",
       "      <td>12.65</td>\n",
       "      <td>12.60</td>\n",
       "      <td>12.560990</td>\n",
       "    </tr>\n",
       "    <tr>\n",
       "      <th>6056</th>\n",
       "      <td>10001</td>\n",
       "      <td>2017-01-19</td>\n",
       "      <td>33412.0</td>\n",
       "      <td>12.6500</td>\n",
       "      <td>12.60</td>\n",
       "      <td>12.70</td>\n",
       "      <td>12.60</td>\n",
       "      <td>12.568465</td>\n",
       "    </tr>\n",
       "    <tr>\n",
       "      <th>6057</th>\n",
       "      <td>10001</td>\n",
       "      <td>2017-01-20</td>\n",
       "      <td>21519.0</td>\n",
       "      <td>12.6500</td>\n",
       "      <td>12.60</td>\n",
       "      <td>12.70</td>\n",
       "      <td>12.60</td>\n",
       "      <td>12.575965</td>\n",
       "    </tr>\n",
       "    <tr>\n",
       "      <th>6058</th>\n",
       "      <td>10001</td>\n",
       "      <td>2017-01-23</td>\n",
       "      <td>46063.0</td>\n",
       "      <td>12.7000</td>\n",
       "      <td>12.60</td>\n",
       "      <td>12.75</td>\n",
       "      <td>12.60</td>\n",
       "      <td>12.578465</td>\n",
       "    </tr>\n",
       "    <tr>\n",
       "      <th>6059</th>\n",
       "      <td>10001</td>\n",
       "      <td>2017-01-24</td>\n",
       "      <td>41413.0</td>\n",
       "      <td>12.6500</td>\n",
       "      <td>12.65</td>\n",
       "      <td>12.70</td>\n",
       "      <td>12.70</td>\n",
       "      <td>12.583465</td>\n",
       "    </tr>\n",
       "    <tr>\n",
       "      <th>6060</th>\n",
       "      <td>10001</td>\n",
       "      <td>2017-01-25</td>\n",
       "      <td>12930.0</td>\n",
       "      <td>12.7000</td>\n",
       "      <td>12.65</td>\n",
       "      <td>12.70</td>\n",
       "      <td>12.65</td>\n",
       "      <td>12.590965</td>\n",
       "    </tr>\n",
       "    <tr>\n",
       "      <th>6061</th>\n",
       "      <td>10001</td>\n",
       "      <td>2017-01-26</td>\n",
       "      <td>2162.0</td>\n",
       "      <td>12.7000</td>\n",
       "      <td>12.65</td>\n",
       "      <td>12.70</td>\n",
       "      <td>12.65</td>\n",
       "      <td>12.595965</td>\n",
       "    </tr>\n",
       "    <tr>\n",
       "      <th>6062</th>\n",
       "      <td>10001</td>\n",
       "      <td>2017-01-27</td>\n",
       "      <td>11796.0</td>\n",
       "      <td>12.7000</td>\n",
       "      <td>12.65</td>\n",
       "      <td>12.70</td>\n",
       "      <td>12.70</td>\n",
       "      <td>12.600965</td>\n",
       "    </tr>\n",
       "    <tr>\n",
       "      <th>6063</th>\n",
       "      <td>10001</td>\n",
       "      <td>2017-01-30</td>\n",
       "      <td>23486.0</td>\n",
       "      <td>12.6500</td>\n",
       "      <td>12.65</td>\n",
       "      <td>12.70</td>\n",
       "      <td>12.70</td>\n",
       "      <td>12.608465</td>\n",
       "    </tr>\n",
       "    <tr>\n",
       "      <th>6064</th>\n",
       "      <td>10001</td>\n",
       "      <td>2017-01-31</td>\n",
       "      <td>11585.0</td>\n",
       "      <td>12.6500</td>\n",
       "      <td>12.65</td>\n",
       "      <td>12.70</td>\n",
       "      <td>12.65</td>\n",
       "      <td>12.615000</td>\n",
       "    </tr>\n",
       "  </tbody>\n",
       "</table>\n",
       "</div>"
      ],
      "text/plain": [
       "      PERMNO    DlyCalDt    DlyVol  DlyClose  DlyLow  DlyHigh  DlyOpen  \\\n",
       "6045   10001  2017-01-03   70124.0   12.6000   12.55    12.60    12.55   \n",
       "6046   10001  2017-01-04    4013.0   12.5500   12.55    12.60    12.60   \n",
       "6047   10001  2017-01-05   97588.0   12.7000   12.60    12.70    12.60   \n",
       "6048   10001  2017-01-06  164633.0   12.7000   12.60    12.75    12.65   \n",
       "6049   10001  2017-01-09   27508.0   12.6000   12.60    12.70    12.70   \n",
       "6050   10001  2017-01-10   92207.0   12.7500   12.65    12.75    12.65   \n",
       "6051   10001  2017-01-11   38915.0   12.7000   12.65    12.75    12.75   \n",
       "6052   10001  2017-01-12   10891.0   12.6500   12.65    12.75    12.70   \n",
       "6053   10001  2017-01-13  166632.0   12.6500   12.55    12.67    12.65   \n",
       "6054   10001  2017-01-17   22987.0   12.6000   12.60    12.65    12.65   \n",
       "6055   10001  2017-01-18   29799.0   12.6499   12.60    12.65    12.60   \n",
       "6056   10001  2017-01-19   33412.0   12.6500   12.60    12.70    12.60   \n",
       "6057   10001  2017-01-20   21519.0   12.6500   12.60    12.70    12.60   \n",
       "6058   10001  2017-01-23   46063.0   12.7000   12.60    12.75    12.60   \n",
       "6059   10001  2017-01-24   41413.0   12.6500   12.65    12.70    12.70   \n",
       "6060   10001  2017-01-25   12930.0   12.7000   12.65    12.70    12.65   \n",
       "6061   10001  2017-01-26    2162.0   12.7000   12.65    12.70    12.65   \n",
       "6062   10001  2017-01-27   11796.0   12.7000   12.65    12.70    12.70   \n",
       "6063   10001  2017-01-30   23486.0   12.6500   12.65    12.70    12.70   \n",
       "6064   10001  2017-01-31   11585.0   12.6500   12.65    12.70    12.65   \n",
       "\n",
       "      20_Day_MA_Low  \n",
       "6045      12.511935  \n",
       "6046      12.516935  \n",
       "6047      12.521935  \n",
       "6048      12.526935  \n",
       "6049      12.529435  \n",
       "6050      12.534435  \n",
       "6051      12.539435  \n",
       "6052      12.543490  \n",
       "6053      12.543490  \n",
       "6054      12.550990  \n",
       "6055      12.560990  \n",
       "6056      12.568465  \n",
       "6057      12.575965  \n",
       "6058      12.578465  \n",
       "6059      12.583465  \n",
       "6060      12.590965  \n",
       "6061      12.595965  \n",
       "6062      12.600965  \n",
       "6063      12.608465  \n",
       "6064      12.615000  "
      ]
     },
     "execution_count": 15,
     "metadata": {},
     "output_type": "execute_result"
    }
   ],
   "source": [
    "# DACHENG'S WEBSITE ONLY EXPERIMENTS WITH JANUARY, SO I EXTRACT THE DATA THAT IS FROM JAN\n",
    "\n",
    "crsp_data_012017_10001 = crsp_data_1993_2019_10001[crsp_data_1993_2019_10001[\"DlyCalDt\"].str.startswith(\"2017-01\")]\n",
    "crsp_data_012017_10001"
   ]
  },
  {
   "cell_type": "code",
   "execution_count": 42,
   "metadata": {},
   "outputs": [
    {
     "data": {
      "application/vnd.plotly.v1+json": {
       "config": {
        "plotlyServerURL": "https://plot.ly"
       },
       "data": [
        {
         "close": [
          12.6,
          12.55,
          12.7,
          12.7,
          12.6,
          12.75,
          12.7,
          12.65,
          12.65,
          12.6,
          12.6499,
          12.65,
          12.65,
          12.7,
          12.65,
          12.7,
          12.7,
          12.7,
          12.65,
          12.65
         ],
         "decreasing": {
          "line": {
           "color": "white"
          }
         },
         "high": [
          12.6,
          12.6,
          12.7,
          12.75,
          12.7,
          12.75,
          12.75,
          12.75,
          12.67,
          12.65,
          12.65,
          12.7,
          12.7,
          12.75,
          12.7,
          12.7,
          12.7,
          12.7,
          12.7,
          12.7
         ],
         "increasing": {
          "line": {
           "color": "white"
          }
         },
         "line": {
          "width": 1
         },
         "low": [
          12.55,
          12.55,
          12.6,
          12.6,
          12.6,
          12.65,
          12.65,
          12.65,
          12.55,
          12.6,
          12.6,
          12.6,
          12.6,
          12.6,
          12.65,
          12.65,
          12.65,
          12.65,
          12.65,
          12.65
         ],
         "name": "OHLC",
         "open": [
          12.55,
          12.6,
          12.6,
          12.65,
          12.7,
          12.65,
          12.75,
          12.7,
          12.65,
          12.65,
          12.6,
          12.6,
          12.6,
          12.6,
          12.7,
          12.65,
          12.65,
          12.7,
          12.7,
          12.65
         ],
         "type": "ohlc",
         "x": [
          "2017-01-03",
          "2017-01-04",
          "2017-01-05",
          "2017-01-06",
          "2017-01-09",
          "2017-01-10",
          "2017-01-11",
          "2017-01-12",
          "2017-01-13",
          "2017-01-17",
          "2017-01-18",
          "2017-01-19",
          "2017-01-20",
          "2017-01-23",
          "2017-01-24",
          "2017-01-25",
          "2017-01-26",
          "2017-01-27",
          "2017-01-30",
          "2017-01-31"
         ],
         "yaxis": "y"
        },
        {
         "line": {
          "color": "white",
          "width": 1
         },
         "name": "20-day-moving-average",
         "type": "scatter",
         "x": [
          "2017-01-03",
          "2017-01-04",
          "2017-01-04",
          "2017-01-05",
          "2017-01-05",
          "2017-01-06",
          "2017-01-06",
          "2017-01-09",
          "2017-01-09",
          "2017-01-10",
          "2017-01-10",
          "2017-01-11",
          "2017-01-11",
          "2017-01-12",
          "2017-01-12",
          "2017-01-13",
          "2017-01-13",
          "2017-01-17",
          "2017-01-17",
          "2017-01-18",
          "2017-01-18",
          "2017-01-19",
          "2017-01-19",
          "2017-01-20",
          "2017-01-20",
          "2017-01-23",
          "2017-01-23",
          "2017-01-24",
          "2017-01-24",
          "2017-01-25",
          "2017-01-25",
          "2017-01-26",
          "2017-01-26",
          "2017-01-27",
          "2017-01-27",
          "2017-01-30",
          "2017-01-30",
          "2017-01-31",
          "2017-01-31",
          "2017-01-31"
         ],
         "y": [
          12.511935000000001,
          12.511935000000001,
          12.516935,
          12.516935,
          12.521935000000001,
          12.521935000000001,
          12.526935,
          12.526935,
          12.529435000000001,
          12.529435000000001,
          12.534435,
          12.534435,
          12.539435000000001,
          12.539435000000001,
          12.54349,
          12.54349,
          12.54349,
          12.54349,
          12.55099,
          12.55099,
          12.56099,
          12.56099,
          12.568465,
          12.568465,
          12.575965,
          12.575965,
          12.578465,
          12.578465,
          12.583465,
          12.583465,
          12.590965,
          12.590965,
          12.595965,
          12.595965,
          12.600964999999999,
          12.600964999999999,
          12.608464999999999,
          12.608464999999999,
          12.615,
          12.615
         ]
        },
        {
         "marker": {
          "color": "white"
         },
         "name": "Volume",
         "type": "bar",
         "x": [
          "2017-01-03",
          "2017-01-04",
          "2017-01-05",
          "2017-01-06",
          "2017-01-09",
          "2017-01-10",
          "2017-01-11",
          "2017-01-12",
          "2017-01-13",
          "2017-01-17",
          "2017-01-18",
          "2017-01-19",
          "2017-01-20",
          "2017-01-23",
          "2017-01-24",
          "2017-01-25",
          "2017-01-26",
          "2017-01-27",
          "2017-01-30",
          "2017-01-31"
         ],
         "y": [
          70124,
          4013,
          97588,
          164633,
          27508,
          92207,
          38915,
          10891,
          166632,
          22987,
          29799,
          33412,
          21519,
          46063,
          41413,
          12930,
          2162,
          11796,
          23486,
          11585
         ],
         "yaxis": "y2"
        }
       ],
       "layout": {
        "height": 64,
        "margin": {
         "b": 0,
         "l": 0,
         "r": 0,
         "t": 0
        },
        "paper_bgcolor": "black",
        "plot_bgcolor": "black",
        "showlegend": false,
        "template": {
         "data": {
          "bar": [
           {
            "error_x": {
             "color": "#2a3f5f"
            },
            "error_y": {
             "color": "#2a3f5f"
            },
            "marker": {
             "line": {
              "color": "#E5ECF6",
              "width": 0.5
             },
             "pattern": {
              "fillmode": "overlay",
              "size": 10,
              "solidity": 0.2
             }
            },
            "type": "bar"
           }
          ],
          "barpolar": [
           {
            "marker": {
             "line": {
              "color": "#E5ECF6",
              "width": 0.5
             },
             "pattern": {
              "fillmode": "overlay",
              "size": 10,
              "solidity": 0.2
             }
            },
            "type": "barpolar"
           }
          ],
          "carpet": [
           {
            "aaxis": {
             "endlinecolor": "#2a3f5f",
             "gridcolor": "white",
             "linecolor": "white",
             "minorgridcolor": "white",
             "startlinecolor": "#2a3f5f"
            },
            "baxis": {
             "endlinecolor": "#2a3f5f",
             "gridcolor": "white",
             "linecolor": "white",
             "minorgridcolor": "white",
             "startlinecolor": "#2a3f5f"
            },
            "type": "carpet"
           }
          ],
          "choropleth": [
           {
            "colorbar": {
             "outlinewidth": 0,
             "ticks": ""
            },
            "type": "choropleth"
           }
          ],
          "contour": [
           {
            "colorbar": {
             "outlinewidth": 0,
             "ticks": ""
            },
            "colorscale": [
             [
              0,
              "#0d0887"
             ],
             [
              0.1111111111111111,
              "#46039f"
             ],
             [
              0.2222222222222222,
              "#7201a8"
             ],
             [
              0.3333333333333333,
              "#9c179e"
             ],
             [
              0.4444444444444444,
              "#bd3786"
             ],
             [
              0.5555555555555556,
              "#d8576b"
             ],
             [
              0.6666666666666666,
              "#ed7953"
             ],
             [
              0.7777777777777778,
              "#fb9f3a"
             ],
             [
              0.8888888888888888,
              "#fdca26"
             ],
             [
              1,
              "#f0f921"
             ]
            ],
            "type": "contour"
           }
          ],
          "contourcarpet": [
           {
            "colorbar": {
             "outlinewidth": 0,
             "ticks": ""
            },
            "type": "contourcarpet"
           }
          ],
          "heatmap": [
           {
            "colorbar": {
             "outlinewidth": 0,
             "ticks": ""
            },
            "colorscale": [
             [
              0,
              "#0d0887"
             ],
             [
              0.1111111111111111,
              "#46039f"
             ],
             [
              0.2222222222222222,
              "#7201a8"
             ],
             [
              0.3333333333333333,
              "#9c179e"
             ],
             [
              0.4444444444444444,
              "#bd3786"
             ],
             [
              0.5555555555555556,
              "#d8576b"
             ],
             [
              0.6666666666666666,
              "#ed7953"
             ],
             [
              0.7777777777777778,
              "#fb9f3a"
             ],
             [
              0.8888888888888888,
              "#fdca26"
             ],
             [
              1,
              "#f0f921"
             ]
            ],
            "type": "heatmap"
           }
          ],
          "heatmapgl": [
           {
            "colorbar": {
             "outlinewidth": 0,
             "ticks": ""
            },
            "colorscale": [
             [
              0,
              "#0d0887"
             ],
             [
              0.1111111111111111,
              "#46039f"
             ],
             [
              0.2222222222222222,
              "#7201a8"
             ],
             [
              0.3333333333333333,
              "#9c179e"
             ],
             [
              0.4444444444444444,
              "#bd3786"
             ],
             [
              0.5555555555555556,
              "#d8576b"
             ],
             [
              0.6666666666666666,
              "#ed7953"
             ],
             [
              0.7777777777777778,
              "#fb9f3a"
             ],
             [
              0.8888888888888888,
              "#fdca26"
             ],
             [
              1,
              "#f0f921"
             ]
            ],
            "type": "heatmapgl"
           }
          ],
          "histogram": [
           {
            "marker": {
             "pattern": {
              "fillmode": "overlay",
              "size": 10,
              "solidity": 0.2
             }
            },
            "type": "histogram"
           }
          ],
          "histogram2d": [
           {
            "colorbar": {
             "outlinewidth": 0,
             "ticks": ""
            },
            "colorscale": [
             [
              0,
              "#0d0887"
             ],
             [
              0.1111111111111111,
              "#46039f"
             ],
             [
              0.2222222222222222,
              "#7201a8"
             ],
             [
              0.3333333333333333,
              "#9c179e"
             ],
             [
              0.4444444444444444,
              "#bd3786"
             ],
             [
              0.5555555555555556,
              "#d8576b"
             ],
             [
              0.6666666666666666,
              "#ed7953"
             ],
             [
              0.7777777777777778,
              "#fb9f3a"
             ],
             [
              0.8888888888888888,
              "#fdca26"
             ],
             [
              1,
              "#f0f921"
             ]
            ],
            "type": "histogram2d"
           }
          ],
          "histogram2dcontour": [
           {
            "colorbar": {
             "outlinewidth": 0,
             "ticks": ""
            },
            "colorscale": [
             [
              0,
              "#0d0887"
             ],
             [
              0.1111111111111111,
              "#46039f"
             ],
             [
              0.2222222222222222,
              "#7201a8"
             ],
             [
              0.3333333333333333,
              "#9c179e"
             ],
             [
              0.4444444444444444,
              "#bd3786"
             ],
             [
              0.5555555555555556,
              "#d8576b"
             ],
             [
              0.6666666666666666,
              "#ed7953"
             ],
             [
              0.7777777777777778,
              "#fb9f3a"
             ],
             [
              0.8888888888888888,
              "#fdca26"
             ],
             [
              1,
              "#f0f921"
             ]
            ],
            "type": "histogram2dcontour"
           }
          ],
          "mesh3d": [
           {
            "colorbar": {
             "outlinewidth": 0,
             "ticks": ""
            },
            "type": "mesh3d"
           }
          ],
          "parcoords": [
           {
            "line": {
             "colorbar": {
              "outlinewidth": 0,
              "ticks": ""
             }
            },
            "type": "parcoords"
           }
          ],
          "pie": [
           {
            "automargin": true,
            "type": "pie"
           }
          ],
          "scatter": [
           {
            "fillpattern": {
             "fillmode": "overlay",
             "size": 10,
             "solidity": 0.2
            },
            "type": "scatter"
           }
          ],
          "scatter3d": [
           {
            "line": {
             "colorbar": {
              "outlinewidth": 0,
              "ticks": ""
             }
            },
            "marker": {
             "colorbar": {
              "outlinewidth": 0,
              "ticks": ""
             }
            },
            "type": "scatter3d"
           }
          ],
          "scattercarpet": [
           {
            "marker": {
             "colorbar": {
              "outlinewidth": 0,
              "ticks": ""
             }
            },
            "type": "scattercarpet"
           }
          ],
          "scattergeo": [
           {
            "marker": {
             "colorbar": {
              "outlinewidth": 0,
              "ticks": ""
             }
            },
            "type": "scattergeo"
           }
          ],
          "scattergl": [
           {
            "marker": {
             "colorbar": {
              "outlinewidth": 0,
              "ticks": ""
             }
            },
            "type": "scattergl"
           }
          ],
          "scattermapbox": [
           {
            "marker": {
             "colorbar": {
              "outlinewidth": 0,
              "ticks": ""
             }
            },
            "type": "scattermapbox"
           }
          ],
          "scatterpolar": [
           {
            "marker": {
             "colorbar": {
              "outlinewidth": 0,
              "ticks": ""
             }
            },
            "type": "scatterpolar"
           }
          ],
          "scatterpolargl": [
           {
            "marker": {
             "colorbar": {
              "outlinewidth": 0,
              "ticks": ""
             }
            },
            "type": "scatterpolargl"
           }
          ],
          "scatterternary": [
           {
            "marker": {
             "colorbar": {
              "outlinewidth": 0,
              "ticks": ""
             }
            },
            "type": "scatterternary"
           }
          ],
          "surface": [
           {
            "colorbar": {
             "outlinewidth": 0,
             "ticks": ""
            },
            "colorscale": [
             [
              0,
              "#0d0887"
             ],
             [
              0.1111111111111111,
              "#46039f"
             ],
             [
              0.2222222222222222,
              "#7201a8"
             ],
             [
              0.3333333333333333,
              "#9c179e"
             ],
             [
              0.4444444444444444,
              "#bd3786"
             ],
             [
              0.5555555555555556,
              "#d8576b"
             ],
             [
              0.6666666666666666,
              "#ed7953"
             ],
             [
              0.7777777777777778,
              "#fb9f3a"
             ],
             [
              0.8888888888888888,
              "#fdca26"
             ],
             [
              1,
              "#f0f921"
             ]
            ],
            "type": "surface"
           }
          ],
          "table": [
           {
            "cells": {
             "fill": {
              "color": "#EBF0F8"
             },
             "line": {
              "color": "white"
             }
            },
            "header": {
             "fill": {
              "color": "#C8D4E3"
             },
             "line": {
              "color": "white"
             }
            },
            "type": "table"
           }
          ]
         },
         "layout": {
          "annotationdefaults": {
           "arrowcolor": "#2a3f5f",
           "arrowhead": 0,
           "arrowwidth": 1
          },
          "autotypenumbers": "strict",
          "coloraxis": {
           "colorbar": {
            "outlinewidth": 0,
            "ticks": ""
           }
          },
          "colorscale": {
           "diverging": [
            [
             0,
             "#8e0152"
            ],
            [
             0.1,
             "#c51b7d"
            ],
            [
             0.2,
             "#de77ae"
            ],
            [
             0.3,
             "#f1b6da"
            ],
            [
             0.4,
             "#fde0ef"
            ],
            [
             0.5,
             "#f7f7f7"
            ],
            [
             0.6,
             "#e6f5d0"
            ],
            [
             0.7,
             "#b8e186"
            ],
            [
             0.8,
             "#7fbc41"
            ],
            [
             0.9,
             "#4d9221"
            ],
            [
             1,
             "#276419"
            ]
           ],
           "sequential": [
            [
             0,
             "#0d0887"
            ],
            [
             0.1111111111111111,
             "#46039f"
            ],
            [
             0.2222222222222222,
             "#7201a8"
            ],
            [
             0.3333333333333333,
             "#9c179e"
            ],
            [
             0.4444444444444444,
             "#bd3786"
            ],
            [
             0.5555555555555556,
             "#d8576b"
            ],
            [
             0.6666666666666666,
             "#ed7953"
            ],
            [
             0.7777777777777778,
             "#fb9f3a"
            ],
            [
             0.8888888888888888,
             "#fdca26"
            ],
            [
             1,
             "#f0f921"
            ]
           ],
           "sequentialminus": [
            [
             0,
             "#0d0887"
            ],
            [
             0.1111111111111111,
             "#46039f"
            ],
            [
             0.2222222222222222,
             "#7201a8"
            ],
            [
             0.3333333333333333,
             "#9c179e"
            ],
            [
             0.4444444444444444,
             "#bd3786"
            ],
            [
             0.5555555555555556,
             "#d8576b"
            ],
            [
             0.6666666666666666,
             "#ed7953"
            ],
            [
             0.7777777777777778,
             "#fb9f3a"
            ],
            [
             0.8888888888888888,
             "#fdca26"
            ],
            [
             1,
             "#f0f921"
            ]
           ]
          },
          "colorway": [
           "#636efa",
           "#EF553B",
           "#00cc96",
           "#ab63fa",
           "#FFA15A",
           "#19d3f3",
           "#FF6692",
           "#B6E880",
           "#FF97FF",
           "#FECB52"
          ],
          "font": {
           "color": "#2a3f5f"
          },
          "geo": {
           "bgcolor": "white",
           "lakecolor": "white",
           "landcolor": "#E5ECF6",
           "showlakes": true,
           "showland": true,
           "subunitcolor": "white"
          },
          "hoverlabel": {
           "align": "left"
          },
          "hovermode": "closest",
          "mapbox": {
           "style": "light"
          },
          "paper_bgcolor": "white",
          "plot_bgcolor": "#E5ECF6",
          "polar": {
           "angularaxis": {
            "gridcolor": "white",
            "linecolor": "white",
            "ticks": ""
           },
           "bgcolor": "#E5ECF6",
           "radialaxis": {
            "gridcolor": "white",
            "linecolor": "white",
            "ticks": ""
           }
          },
          "scene": {
           "xaxis": {
            "backgroundcolor": "#E5ECF6",
            "gridcolor": "white",
            "gridwidth": 2,
            "linecolor": "white",
            "showbackground": true,
            "ticks": "",
            "zerolinecolor": "white"
           },
           "yaxis": {
            "backgroundcolor": "#E5ECF6",
            "gridcolor": "white",
            "gridwidth": 2,
            "linecolor": "white",
            "showbackground": true,
            "ticks": "",
            "zerolinecolor": "white"
           },
           "zaxis": {
            "backgroundcolor": "#E5ECF6",
            "gridcolor": "white",
            "gridwidth": 2,
            "linecolor": "white",
            "showbackground": true,
            "ticks": "",
            "zerolinecolor": "white"
           }
          },
          "shapedefaults": {
           "line": {
            "color": "#2a3f5f"
           }
          },
          "ternary": {
           "aaxis": {
            "gridcolor": "white",
            "linecolor": "white",
            "ticks": ""
           },
           "baxis": {
            "gridcolor": "white",
            "linecolor": "white",
            "ticks": ""
           },
           "bgcolor": "#E5ECF6",
           "caxis": {
            "gridcolor": "white",
            "linecolor": "white",
            "ticks": ""
           }
          },
          "title": {
           "x": 0.05
          },
          "xaxis": {
           "automargin": true,
           "gridcolor": "white",
           "linecolor": "white",
           "ticks": "",
           "title": {
            "standoff": 15
           },
           "zerolinecolor": "white",
           "zerolinewidth": 2
          },
          "yaxis": {
           "automargin": true,
           "gridcolor": "white",
           "linecolor": "white",
           "ticks": "",
           "title": {
            "standoff": 15
           },
           "zerolinecolor": "white",
           "zerolinewidth": 2
          }
         }
        },
        "width": 60,
        "xaxis": {
         "gridcolor": "gray",
         "rangebreaks": [
          {
           "values": [
            "2017-01-07",
            "2017-01-08",
            "2017-01-14",
            "2017-01-15",
            "2017-01-16",
            "2017-01-21",
            "2017-01-22",
            "2017-01-28",
            "2017-01-29"
           ]
          }
         ],
         "rangeslider": {
          "visible": false
         },
         "showticklabels": false,
         "ticks": "",
         "type": "date"
        },
        "yaxis": {
         "domain": [
          0.2,
          1
         ],
         "gridcolor": "gray",
         "range": [
          12.511935000000001,
          12.75
         ],
         "visible": false
        },
        "yaxis2": {
         "domain": [
          0,
          0.2
         ],
         "gridcolor": "gray",
         "visible": false
        }
       }
      }
     },
     "metadata": {},
     "output_type": "display_data"
    }
   ],
   "source": [
    "# START PLOTTING THE IMAGE\n",
    "\n",
    "# Create a figure\n",
    "fig = go.Figure()\n",
    "\n",
    "# If we use go.Ohlc directly, there will be gaps between days (this library follows the date in exact order),\n",
    "# We should specify what dates we want it to appear\n",
    "x_dates = crsp_data_012017_10001[\"DlyCalDt\"]\n",
    "all_dates = pd.date_range(start = crsp_data_012017_10001[\"DlyCalDt\"].min(), end = crsp_data_012017_10001[\"DlyCalDt\"].max(), freq = 'D').strftime('%Y-%m-%d')\n",
    "crsp_data_012017_10001 = crsp_data_012017_10001[crsp_data_012017_10001[\"DlyCalDt\"].isin(x_dates)]\n",
    "\n",
    "# Add the OHLC bar first\n",
    "fig.add_trace(go.Ohlc(x = crsp_data_012017_10001[\"DlyCalDt\"], open = crsp_data_012017_10001[\"DlyOpen\"],\n",
    "                      high = crsp_data_012017_10001[\"DlyHigh\"], low = crsp_data_012017_10001[\"DlyLow\"],\n",
    "                      close = crsp_data_012017_10001[\"DlyClose\"], name = \"OHLC\", line = dict(width = 1), \n",
    "                      increasing_line_color = \"white\", decreasing_line_color = \"white\", \n",
    "                      yaxis = \"y\"))\n",
    "\n",
    "# Add the moving average line\n",
    "x_moving_average = crsp_data_012017_10001[\"DlyCalDt\"]\n",
    "y_moving_average = crsp_data_012017_10001[\"20_Day_MA_Low\"]\n",
    "\n",
    "# Since x_moving_average and y_moving_average is Series, we convert it to list\n",
    "x_moving_average_list = x_moving_average.to_list()\n",
    "y_moving_average_list = y_moving_average.to_list()\n",
    "\n",
    "## Since we want to make the stair-step effects, we have to extend the x and y arrays\n",
    "x_stairs = []\n",
    "y_stairs = []\n",
    "\n",
    "\n",
    "# # For debugging purpose \n",
    "# print(f\"Len X Moving Average: {len(x_moving_average)}\")\n",
    "# print(f\"Len Y Moving Average: {len(y_moving_average)}\")\n",
    "\n",
    "# print(f\"X Moving Average: {(x_moving_average)}\")\n",
    "# print(f\"Y Moving Average: {(y_moving_average)}\")\n",
    "\n",
    "\n",
    "for i in range(len(y_moving_average_list)):\n",
    "    x_stairs.append(x_moving_average_list[i])\n",
    "    y_stairs.append(y_moving_average_list[i])\n",
    "    if i == len(y_moving_average_list) - 1:\n",
    "        x_stairs.append(x_moving_average_list[i])\n",
    "    else:\n",
    "        x_stairs.append(x_moving_average_list[i + 1])\n",
    "    y_stairs.append(y_moving_average_list[i])\n",
    "\n",
    "## Add the moving average line as a stair step\n",
    "fig.add_trace(go.Scatter(x = x_stairs, y = y_stairs, name = \"20-day-moving-average\", line = dict(color = \"white\", width = 1)))\n",
    "\n",
    "# Add the volume bar\n",
    "fig.add_trace(go.Bar(x = crsp_data_012017_10001[\"DlyCalDt\"], y = crsp_data_012017_10001[\"DlyVol\"], yaxis = \"y2\", name = \"Volume\", marker = dict(color = \"white\")))\n",
    "\n",
    "# Ensure the layout is black, as well as implement OHLC chart, and volume data\n",
    "fig.update_layout(\n",
    "    paper_bgcolor='black',\n",
    "    plot_bgcolor='black',\n",
    "    xaxis_rangeslider_visible = False,\n",
    "    xaxis = {\n",
    "    \"showticklabels\": False,\n",
    "    \"ticks\": \"\",\n",
    "    \"type\": \"date\",\n",
    "    \"rangebreaks\": [\n",
    "        dict(values = all_dates[~all_dates.isin(crsp_data_012017_10001[\"DlyCalDt\"].tolist())])\n",
    "    ],\n",
    "    \"gridcolor\": \"gray\"\n",
    "    },\n",
    "    yaxis = {\n",
    "        'domain': [0.2, 1],\n",
    "        'range': [min(crsp_data_012017_10001[\"DlyLow\"].min(), crsp_data_012017_10001[\"DlyOpen\"].min(), \n",
    "                       crsp_data_012017_10001[\"DlyClose\"].min(), crsp_data_012017_10001[\"20_Day_MA_Low\"].min()), \n",
    "                      max(crsp_data_012017_10001[\"DlyHigh\"].max(), crsp_data_012017_10001[\"DlyOpen\"].max(), \n",
    "                        crsp_data_012017_10001[\"DlyClose\"].max(), crsp_data_012017_10001[\"20_Day_MA_Low\"].max())],\n",
    "        'visible': False,\n",
    "        \"gridcolor\": \"gray\"\n",
    "    },\n",
    "    yaxis2 = dict(domain = [0, 0.2], visible = False, gridcolor = \"gray\"),\n",
    "    width = 60,\n",
    "    height = 64,\n",
    "    showlegend = False,\n",
    "    margin = dict(l = 0, r = 0, t = 0, b = 0)\n",
    ")\n",
    "\n",
    "# Show the figure\n",
    "fig.show()\n",
    "\n"
   ]
  },
  {
   "cell_type": "code",
   "execution_count": 28,
   "metadata": {},
   "outputs": [
    {
     "name": "stdout",
     "output_type": "stream",
     "text": [
      "Data: [ 1.0246933   0.94302587 -1.68451852 -2.04097627 -2.13957914 -3.43997454\n",
      " -3.15123493 -1.69985737 -1.87777555 -2.0476824  -1.49755524  0.59872552\n",
      " -0.27807739 -0.71106923 -1.55696811 -1.39323537 -1.09483662 -0.85716705\n",
      " -1.01297186 -1.87248376  0.65652864 -0.18795629  0.70270576  1.47470952\n",
      "  1.49502316 -0.08822697 -0.01278232  0.57933118  0.82011408  0.02356693\n",
      " -0.03782869  0.0272709   0.2759207  -0.47880987  1.22062148  0.82787483\n",
      " -0.03462037  1.04783558  0.89805336 -0.11673898  0.5722137  -1.76889462\n",
      " -1.64275433 -0.44181523  0.52118168  2.11124803  2.72847926  2.25066289\n",
      "  3.98694229  6.95764215  7.5727767   9.63972021  9.71726344  9.26494436\n",
      "  8.66738951  9.97615651 10.36203364 10.3548429   9.69185715  8.34481087\n",
      "  8.24961158  8.02188379  8.45432047  8.92126016  7.58097876  9.00383841\n",
      "  9.99763569  9.38112483  9.58606259  9.10651706 10.61890327  9.2720642\n",
      "  6.49132649  6.40185269  6.95999425  7.71571947  8.19393454  8.1400287\n",
      "  6.89812732  5.23963201  4.88626032  6.54276802  8.05468085  7.14787656\n",
      "  6.37065923  5.63143114  6.61942023  6.59294752  5.33027817  3.76911302\n",
      "  2.82975917  3.1652121   1.67546048  0.60854973  1.64441265  2.27572592\n",
      "  0.38135921  0.41793062  0.10542842  0.91967613]\n",
      "Len Data: 100\n",
      "Moving averages: [-0.779470952299148, -1.6724045199030726, -2.4912566784811956, -2.4943244491928693, -2.461684306161488, -2.4433049591491276, -2.0548210989264275, -1.3048290097773414, -1.0204730128292596, -0.7871317481511836, -0.6889888898040141, -0.6681249161932514, -1.0068373445868055, -1.1226552759000978, -1.1830358012271516, -1.2461389307789474, -0.8361861279281451, -0.6548100618870425, -0.34283550074223645, 0.1547007746371986, 0.8282021590166458, 0.6792510354685362, 0.7142858295489616, 0.689610913961227, 0.5586918257420791, 0.264400578839313, 0.27448023658268167, 0.28249088085355456, 0.22180878455612132, -0.037976005546524236, 0.20143490357772795, 0.3745756060029632, 0.3621973526929335, 0.5165803285446069, 0.791952975539496, 0.5244808840726128, 0.4733486596510259, 0.12649380931601711, -0.41162417229004145, -0.6795978916547996, -0.552013759658632, -0.24420689487669495, 0.6552678805095127, 1.4339513249621214, 2.319702829191801, 3.6069949231409675, 4.699300657982372, 6.081548847663257, 7.574868955854912, 8.630469369490617, 8.972418841693228, 9.453094802396455, 9.597557488925215, 9.725073381057125, 9.810455940849815, 9.745940212487701, 9.400631227961531, 8.932601258897465, 8.552496773691908, 8.398377374450046, 8.24561095265201, 8.396456318813298, 8.791606697351446, 8.976967568995173, 9.109928055034406, 9.415035716238098, 9.738048687264786, 9.592934389852118, 9.01497472285363, 8.37813274300397, 7.9488281802508585, 7.3681914207322325, 7.152565489687291, 7.482305931965135, 7.581560857873107, 7.237488409866451, 6.671596579964087, 6.3413632756972405, 6.324293705336845, 6.37424355356372, 6.600448996796257, 6.749483159671063, 6.7648136017450655, 6.472466934607854, 6.1089472561350595, 5.58863801547702, 5.028303622199617, 4.337461994524995, 3.3539645875330883, 2.409618900818848, 1.9846788265136308, 1.8738721762165678, 1.317101598776182, 1.065595626132647, 0.9649713642598583, 0.8200240601985523]\n",
      "Len Moving averages: 96\n"
     ]
    },
    {
     "data": {
      "image/png": "[encoded data removed]",
      "text/plain": [
       "<Figure size 640x480 with 1 Axes>"
      ]
     },
     "metadata": {},
     "output_type": "display_data"
    }
   ],
   "source": [
    "# EXAMPLES OF STEP FUNCTION IMPLEMENTATION. YOU CAN CHOOSE TO UNCOMMENT IF NEEDED\n",
    "# import matplotlib.pyplot as plt\n",
    "# import numpy as np\n",
    "\n",
    "# # Sample data\n",
    "# data = np.random.randn(100).cumsum()\n",
    "# window_size = 5\n",
    "\n",
    "# print(f\"Data: {data}\")\n",
    "# print(f\"Len Data: {len(data)}\")\n",
    "# # Calculate moving averages\n",
    "# moving_averages = [np.mean(data[i:i+window_size]) for i in range(len(data) - window_size + 1)]\n",
    "\n",
    "# print(f\"Moving averages: {moving_averages}\")\n",
    "# print(f\"Len Moving averages: {len(moving_averages)}\")\n",
    "\n",
    "# # Create stair-step plot\n",
    "# plt.step(range(window_size - 1, len(data)), moving_averages, where='post')\n",
    "# plt.title('Stair-Step Moving Average')\n",
    "# plt.xlabel('Index')\n",
    "# plt.ylabel('Moving Average')\n",
    "# plt.show()"
   ]
  }
 ],
 "metadata": {
  "kernelspec": {
   "display_name": "Python 3",
   "language": "python",
   "name": "python3"
  },
  "language_info": {
   "codemirror_mode": {
    "name": "ipython",
    "version": 3
   },
   "file_extension": ".py",
   "mimetype": "text/x-python",
   "name": "python",
   "nbconvert_exporter": "python",
   "pygments_lexer": "ipython3",
   "version": "3.12.4"
  },
  "orig_nbformat": 4,
  "vscode": {
   "interpreter": {
    "hash": "f1062708a37074d70712b695aadee582e0b0b9f95f45576b5521424137d05fec"
   }
  }
 },
 "nbformat": 4,
 "nbformat_minor": 2
}
