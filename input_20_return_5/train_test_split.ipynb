{
 "cells": [
  {
   "cell_type": "code",
   "execution_count": 1,
   "metadata": {},
   "outputs": [],
   "source": [
    "# The name of this file is train-test-split, although our main point is to split the training set, and the validation set\n",
    "import pandas as pd\n",
    "import numpy as np\n",
    "import os\n",
    "import shutil"
   ]
  },
  {
   "cell_type": "code",
   "execution_count": 2,
   "metadata": {},
   "outputs": [
    {
     "name": "stdout",
     "output_type": "stream",
     "text": [
      "Train array size: 287102\n",
      "Test array size: 123045\n"
     ]
    }
   ],
   "source": [
    "# At this stage, we want to split the image in 20241005_image into a training set and a validation set\n",
    "# There are 410147 images\n",
    "\n",
    "# We create an index array. We will shuffle in this array\n",
    "array = np.arange(1, 410148)\n",
    "\n",
    "# Shuffle\n",
    "np.random.shuffle(array)\n",
    "\n",
    "# Calculate the split index\n",
    "split_index = int(len(array) * 0.7)\n",
    "\n",
    "# Split the array into training set and testing set\n",
    "train_array = array[:split_index]\n",
    "test_array = array[split_index:]\n",
    "\n",
    "# Print the sizes of the splits\n",
    "print(f\"Train array size: {len(train_array)}\")\n",
    "print(f\"Test array size: {len(test_array)}\")"
   ]
  },
  {
   "cell_type": "code",
   "execution_count": null,
   "metadata": {},
   "outputs": [],
   "source": [
    "# Check train_array"
   ]
  }
 ],
 "metadata": {
  "kernelspec": {
   "display_name": "Python 3",
   "language": "python",
   "name": "python3"
  },
  "language_info": {
   "codemirror_mode": {
    "name": "ipython",
    "version": 3
   },
   "file_extension": ".py",
   "mimetype": "text/x-python",
   "name": "python",
   "nbconvert_exporter": "python",
   "pygments_lexer": "ipython3",
   "version": "3.12.4"
  },
  "orig_nbformat": 4,
  "vscode": {
   "interpreter": {
    "hash": "f1062708a37074d70712b695aadee582e0b0b9f95f45576b5521424137d05fec"
   }
  }
 },
 "nbformat": 4,
 "nbformat_minor": 2
}
