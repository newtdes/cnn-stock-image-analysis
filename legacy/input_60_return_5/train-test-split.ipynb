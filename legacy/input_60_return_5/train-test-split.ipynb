{
 "cells": [
  {
   "cell_type": "code",
   "execution_count": 4,
   "metadata": {},
   "outputs": [],
   "source": [
    "# The name of this file is train-test-split, not train-validation-split, because train-test-split is the common phrase\n",
    "# This cell is to store all the libraries\n",
    "import pandas as pd\n",
    "import numpy as np\n",
    "import os\n",
    "import shutil"
   ]
  },
  {
   "cell_type": "code",
   "execution_count": 2,
   "metadata": {},
   "outputs": [
    {
     "name": "stdout",
     "output_type": "stream",
     "text": [
      "Train array size: 86751\n",
      "Test array size: 37179\n"
     ]
    }
   ],
   "source": [
    "# At this stage, we want to change the 20241009_image_input_60 into a training set and a validation set\n",
    "# There are 123930 images in 20241009_image_input_60\n",
    "\n",
    "# We create an index array. We will shuffle in this array.\n",
    "array = np.arange(1, 123931)\n",
    "\n",
    "# Shuffle\n",
    "np.random.shuffle(array)\n",
    "\n",
    "# Calculate the split index\n",
    "split_index = int(len(array) * 0.7)\n",
    "\n",
    "# Split the array into training set and testing set\n",
    "train_array = array[:split_index]\n",
    "test_array = array[split_index:]\n",
    "\n",
    "# Print the sizes of the splits\n",
    "print(f\"Train array size: {len(train_array)}\")\n",
    "print(f\"Test array size: {len(test_array)}\")"
   ]
  },
  {
   "cell_type": "code",
   "execution_count": 3,
   "metadata": {},
   "outputs": [
    {
     "data": {
      "text/plain": [
       "array([ 79138,  39208, 117643, ...,   2777,   8400,   9662])"
      ]
     },
     "execution_count": 3,
     "metadata": {},
     "output_type": "execute_result"
    }
   ],
   "source": [
    "# Check train_array\n",
    "train_array"
   ]
  },
  {
   "cell_type": "code",
   "execution_count": 5,
   "metadata": {},
   "outputs": [
    {
     "name": "stdout",
     "output_type": "stream",
     "text": [
      "Moved 86751 images to the training folder.\n",
      "Moved 37179 images to the validation folder.\n"
     ]
    }
   ],
   "source": [
    "# Train-Test-Split (It should be Train-Validation-Split)\n",
    "\n",
    "# Create training folder\n",
    "training_folder = \"training_data\" \n",
    "if not os.path.exists(training_folder):\n",
    "    os.makedirs(training_folder)\n",
    "\n",
    "# Create validation folder\n",
    "validation_folder = \"validation_data\"\n",
    "if not os.path.exists(validation_folder):\n",
    "    os.makedirs(validation_folder)\n",
    "\n",
    "image_folder = \"20241009_image_input_60\"\n",
    "\n",
    "# Convert arrays to sets for faster lookup\n",
    "train_set = set(train_array)\n",
    "test_set = set(test_array)\n",
    "\n",
    "# Move images to their folders based on their indexes\n",
    "for img in os.listdir(image_folder):\n",
    "    # Extract the index from the image filename\n",
    "    index_part = img.split('_')[0]  # Get the first part before the underscore\n",
    "    index = int(index_part)  # Convert it to an integer\n",
    "\n",
    "    # Move the file to the appropriate folder\n",
    "    if index in train_set:\n",
    "        shutil.move(os.path.join(image_folder, img), os.path.join(training_folder, img))\n",
    "    elif index in test_set:\n",
    "        shutil.move(os.path.join(image_folder, img), os.path.join(validation_folder, img))\n",
    "\n",
    "print(f\"Moved {len(train_array)} images to the training folder.\")\n",
    "print(f\"Moved {len(test_array)} images to the validation folder.\")\n"
   ]
  }
 ],
 "metadata": {
  "kernelspec": {
   "display_name": "Python 3",
   "language": "python",
   "name": "python3"
  },
  "language_info": {
   "codemirror_mode": {
    "name": "ipython",
    "version": 3
   },
   "file_extension": ".py",
   "mimetype": "text/x-python",
   "name": "python",
   "nbconvert_exporter": "python",
   "pygments_lexer": "ipython3",
   "version": "3.12.4"
  },
  "orig_nbformat": 4,
  "vscode": {
   "interpreter": {
    "hash": "f1062708a37074d70712b695aadee582e0b0b9f95f45576b5521424137d05fec"
   }
  }
 },
 "nbformat": 4,
 "nbformat_minor": 2
}
