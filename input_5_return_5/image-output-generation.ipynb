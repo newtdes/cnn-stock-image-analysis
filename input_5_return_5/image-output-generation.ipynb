{
 "cells": [
  {
   "cell_type": "code",
   "execution_count": 1,
   "metadata": {},
   "outputs": [],
   "source": [
    "# All necessary libraries must be put here\n",
    "import numpy as np\n",
    "import pandas as pd\n",
    "import matplotlib.pyplot as plt\n",
    "import matplotlib.dates as mdates\n",
    "import mplfinance as mpf\n",
    "import plotly.graph_objects as go\n",
    "import pandas as pd\n",
    "import cv2\n",
    "import matplotlib.image as mpimg"
   ]
  },
  {
   "cell_type": "code",
   "execution_count": 2,
   "metadata": {},
   "outputs": [
    {
     "name": "stderr",
     "output_type": "stream",
     "text": [
      "/var/folders/pl/z1lfm5xs7299k23shpwd6ngh0000gp/T/ipykernel_12993/4244800754.py:2: DtypeWarning: Columns (1) have mixed types. Specify dtype option on import or set low_memory=False.\n",
      "  crsp_data_1993_2019 = pd.read_csv(\"/Users/namnguyen/Desktop/Research/Don/Imaging_Price_Trends_Code/crsp_data_20240719_1.csv\")\n"
     ]
    },
    {
     "data": {
      "text/html": [
       "<div>\n",
       "<style scoped>\n",
       "    .dataframe tbody tr th:only-of-type {\n",
       "        vertical-align: middle;\n",
       "    }\n",
       "\n",
       "    .dataframe tbody tr th {\n",
       "        vertical-align: top;\n",
       "    }\n",
       "\n",
       "    .dataframe thead th {\n",
       "        text-align: right;\n",
       "    }\n",
       "</style>\n",
       "<table border=\"1\" class=\"dataframe\">\n",
       "  <thead>\n",
       "    <tr style=\"text-align: right;\">\n",
       "      <th></th>\n",
       "      <th>PERMNO</th>\n",
       "      <th>HdrCUSIP</th>\n",
       "      <th>Ticker</th>\n",
       "      <th>PERMCO</th>\n",
       "      <th>DlyCalDt</th>\n",
       "      <th>DlyVol</th>\n",
       "      <th>DlyClose</th>\n",
       "      <th>DlyLow</th>\n",
       "      <th>DlyHigh</th>\n",
       "      <th>DlyOpen</th>\n",
       "    </tr>\n",
       "  </thead>\n",
       "  <tbody>\n",
       "    <tr>\n",
       "      <th>0</th>\n",
       "      <td>10001</td>\n",
       "      <td>36720410</td>\n",
       "      <td>GFGC</td>\n",
       "      <td>7953</td>\n",
       "      <td>1993-01-04</td>\n",
       "      <td>150.0</td>\n",
       "      <td>14.5</td>\n",
       "      <td>14.50</td>\n",
       "      <td>14.5</td>\n",
       "      <td>14.50</td>\n",
       "    </tr>\n",
       "    <tr>\n",
       "      <th>1</th>\n",
       "      <td>10001</td>\n",
       "      <td>36720410</td>\n",
       "      <td>GFGC</td>\n",
       "      <td>7953</td>\n",
       "      <td>1993-01-05</td>\n",
       "      <td>0.0</td>\n",
       "      <td>NaN</td>\n",
       "      <td>NaN</td>\n",
       "      <td>NaN</td>\n",
       "      <td>NaN</td>\n",
       "    </tr>\n",
       "    <tr>\n",
       "      <th>2</th>\n",
       "      <td>10001</td>\n",
       "      <td>36720410</td>\n",
       "      <td>GFGC</td>\n",
       "      <td>7953</td>\n",
       "      <td>1993-01-06</td>\n",
       "      <td>0.0</td>\n",
       "      <td>NaN</td>\n",
       "      <td>NaN</td>\n",
       "      <td>NaN</td>\n",
       "      <td>NaN</td>\n",
       "    </tr>\n",
       "    <tr>\n",
       "      <th>3</th>\n",
       "      <td>10001</td>\n",
       "      <td>36720410</td>\n",
       "      <td>GFGC</td>\n",
       "      <td>7953</td>\n",
       "      <td>1993-01-07</td>\n",
       "      <td>228.0</td>\n",
       "      <td>14.5</td>\n",
       "      <td>14.50</td>\n",
       "      <td>14.5</td>\n",
       "      <td>14.50</td>\n",
       "    </tr>\n",
       "    <tr>\n",
       "      <th>4</th>\n",
       "      <td>10001</td>\n",
       "      <td>36720410</td>\n",
       "      <td>GFGC</td>\n",
       "      <td>7953</td>\n",
       "      <td>1993-01-08</td>\n",
       "      <td>1375.0</td>\n",
       "      <td>14.5</td>\n",
       "      <td>14.25</td>\n",
       "      <td>14.5</td>\n",
       "      <td>14.25</td>\n",
       "    </tr>\n",
       "  </tbody>\n",
       "</table>\n",
       "</div>"
      ],
      "text/plain": [
       "   PERMNO  HdrCUSIP Ticker  PERMCO    DlyCalDt  DlyVol  DlyClose  DlyLow  \\\n",
       "0   10001  36720410   GFGC    7953  1993-01-04   150.0      14.5   14.50   \n",
       "1   10001  36720410   GFGC    7953  1993-01-05     0.0       NaN     NaN   \n",
       "2   10001  36720410   GFGC    7953  1993-01-06     0.0       NaN     NaN   \n",
       "3   10001  36720410   GFGC    7953  1993-01-07   228.0      14.5   14.50   \n",
       "4   10001  36720410   GFGC    7953  1993-01-08  1375.0      14.5   14.25   \n",
       "\n",
       "   DlyHigh  DlyOpen  \n",
       "0     14.5    14.50  \n",
       "1      NaN      NaN  \n",
       "2      NaN      NaN  \n",
       "3     14.5    14.50  \n",
       "4     14.5    14.25  "
      ]
     },
     "execution_count": 2,
     "metadata": {},
     "output_type": "execute_result"
    }
   ],
   "source": [
    "# Read the CRSP Data and make it become a dataframe\n",
    "crsp_data_1993_2019 = pd.read_csv(\"/Users/namnguyen/Desktop/Research/Don/Imaging_Price_Trends_Code/crsp_data_20240719_1.csv\")\n",
    "\n",
    "# Check the data\n",
    "crsp_data_1993_2019.head(5)"
   ]
  },
  {
   "attachments": {},
   "cell_type": "markdown",
   "metadata": {},
   "source": [
    "### We replicate the image again to check the following requirements:\n",
    "\n",
    "1. Is the image sparse (meaning that most of the pixels are 0)?\n",
    "2. Is it \"really\" black and white (0 and 255), or does it unexpectedly contain some other numbers?\n",
    "3. Does the moving average satisfy the authors' requirements, which is stairs-style?"
   ]
  },
  {
   "cell_type": "code",
   "execution_count": 3,
   "metadata": {},
   "outputs": [
    {
     "name": "stdout",
     "output_type": "stream",
     "text": [
      "[10001 10002 10003 ... 93434 93435 93436]\n",
      "Len of unique ID: 23443\n"
     ]
    }
   ],
   "source": [
    "# CHECK THE AMOUNT OF PERMNO THAT WE HAVE\n",
    "unique_id = crsp_data_1993_2019[\"PERMNO\"].unique()\n",
    "print(unique_id)\n",
    "print(f\"Len of unique ID: {len(unique_id)}\")"
   ]
  },
  {
   "cell_type": "code",
   "execution_count": 4,
   "metadata": {},
   "outputs": [
    {
     "data": {
      "text/html": [
       "<div>\n",
       "<style scoped>\n",
       "    .dataframe tbody tr th:only-of-type {\n",
       "        vertical-align: middle;\n",
       "    }\n",
       "\n",
       "    .dataframe tbody tr th {\n",
       "        vertical-align: top;\n",
       "    }\n",
       "\n",
       "    .dataframe thead th {\n",
       "        text-align: right;\n",
       "    }\n",
       "</style>\n",
       "<table border=\"1\" class=\"dataframe\">\n",
       "  <thead>\n",
       "    <tr style=\"text-align: right;\">\n",
       "      <th></th>\n",
       "      <th>PERMNO</th>\n",
       "      <th>HdrCUSIP</th>\n",
       "      <th>Ticker</th>\n",
       "      <th>PERMCO</th>\n",
       "      <th>DlyCalDt</th>\n",
       "      <th>DlyVol</th>\n",
       "      <th>DlyClose</th>\n",
       "      <th>DlyLow</th>\n",
       "      <th>DlyHigh</th>\n",
       "      <th>DlyOpen</th>\n",
       "    </tr>\n",
       "  </thead>\n",
       "  <tbody>\n",
       "    <tr>\n",
       "      <th>0</th>\n",
       "      <td>10001</td>\n",
       "      <td>36720410</td>\n",
       "      <td>GFGC</td>\n",
       "      <td>7953</td>\n",
       "      <td>1993-01-04</td>\n",
       "      <td>150.0</td>\n",
       "      <td>14.50</td>\n",
       "      <td>14.50</td>\n",
       "      <td>14.50</td>\n",
       "      <td>14.50</td>\n",
       "    </tr>\n",
       "    <tr>\n",
       "      <th>1</th>\n",
       "      <td>10001</td>\n",
       "      <td>36720410</td>\n",
       "      <td>GFGC</td>\n",
       "      <td>7953</td>\n",
       "      <td>1993-01-05</td>\n",
       "      <td>0.0</td>\n",
       "      <td>NaN</td>\n",
       "      <td>NaN</td>\n",
       "      <td>NaN</td>\n",
       "      <td>NaN</td>\n",
       "    </tr>\n",
       "    <tr>\n",
       "      <th>2</th>\n",
       "      <td>10001</td>\n",
       "      <td>36720410</td>\n",
       "      <td>GFGC</td>\n",
       "      <td>7953</td>\n",
       "      <td>1993-01-06</td>\n",
       "      <td>0.0</td>\n",
       "      <td>NaN</td>\n",
       "      <td>NaN</td>\n",
       "      <td>NaN</td>\n",
       "      <td>NaN</td>\n",
       "    </tr>\n",
       "    <tr>\n",
       "      <th>3</th>\n",
       "      <td>10001</td>\n",
       "      <td>36720410</td>\n",
       "      <td>GFGC</td>\n",
       "      <td>7953</td>\n",
       "      <td>1993-01-07</td>\n",
       "      <td>228.0</td>\n",
       "      <td>14.50</td>\n",
       "      <td>14.50</td>\n",
       "      <td>14.50</td>\n",
       "      <td>14.50</td>\n",
       "    </tr>\n",
       "    <tr>\n",
       "      <th>4</th>\n",
       "      <td>10001</td>\n",
       "      <td>36720410</td>\n",
       "      <td>GFGC</td>\n",
       "      <td>7953</td>\n",
       "      <td>1993-01-08</td>\n",
       "      <td>1375.0</td>\n",
       "      <td>14.50</td>\n",
       "      <td>14.25</td>\n",
       "      <td>14.50</td>\n",
       "      <td>14.25</td>\n",
       "    </tr>\n",
       "    <tr>\n",
       "      <th>...</th>\n",
       "      <td>...</td>\n",
       "      <td>...</td>\n",
       "      <td>...</td>\n",
       "      <td>...</td>\n",
       "      <td>...</td>\n",
       "      <td>...</td>\n",
       "      <td>...</td>\n",
       "      <td>...</td>\n",
       "      <td>...</td>\n",
       "      <td>...</td>\n",
       "    </tr>\n",
       "    <tr>\n",
       "      <th>6189</th>\n",
       "      <td>10001</td>\n",
       "      <td>36720410</td>\n",
       "      <td>EGAS</td>\n",
       "      <td>7953</td>\n",
       "      <td>2017-07-31</td>\n",
       "      <td>30166.0</td>\n",
       "      <td>12.95</td>\n",
       "      <td>12.95</td>\n",
       "      <td>13.00</td>\n",
       "      <td>13.00</td>\n",
       "    </tr>\n",
       "    <tr>\n",
       "      <th>6190</th>\n",
       "      <td>10001</td>\n",
       "      <td>36720410</td>\n",
       "      <td>EGAS</td>\n",
       "      <td>7953</td>\n",
       "      <td>2017-08-01</td>\n",
       "      <td>153297.0</td>\n",
       "      <td>13.05</td>\n",
       "      <td>12.95</td>\n",
       "      <td>13.10</td>\n",
       "      <td>12.95</td>\n",
       "    </tr>\n",
       "    <tr>\n",
       "      <th>6191</th>\n",
       "      <td>10001</td>\n",
       "      <td>36720410</td>\n",
       "      <td>EGAS</td>\n",
       "      <td>7953</td>\n",
       "      <td>2017-08-02</td>\n",
       "      <td>509562.0</td>\n",
       "      <td>13.10</td>\n",
       "      <td>13.05</td>\n",
       "      <td>13.15</td>\n",
       "      <td>13.05</td>\n",
       "    </tr>\n",
       "    <tr>\n",
       "      <th>6192</th>\n",
       "      <td>10001</td>\n",
       "      <td>36720410</td>\n",
       "      <td>EGAS</td>\n",
       "      <td>7953</td>\n",
       "      <td>2017-08-03</td>\n",
       "      <td>40610.0</td>\n",
       "      <td>13.10</td>\n",
       "      <td>13.10</td>\n",
       "      <td>13.15</td>\n",
       "      <td>13.10</td>\n",
       "    </tr>\n",
       "    <tr>\n",
       "      <th>6193</th>\n",
       "      <td>10001</td>\n",
       "      <td>36720410</td>\n",
       "      <td>NaN</td>\n",
       "      <td>7953</td>\n",
       "      <td>2017-08-04</td>\n",
       "      <td>NaN</td>\n",
       "      <td>NaN</td>\n",
       "      <td>NaN</td>\n",
       "      <td>NaN</td>\n",
       "      <td>NaN</td>\n",
       "    </tr>\n",
       "  </tbody>\n",
       "</table>\n",
       "<p>6194 rows × 10 columns</p>\n",
       "</div>"
      ],
      "text/plain": [
       "      PERMNO  HdrCUSIP Ticker  PERMCO    DlyCalDt    DlyVol  DlyClose  DlyLow  \\\n",
       "0      10001  36720410   GFGC    7953  1993-01-04     150.0     14.50   14.50   \n",
       "1      10001  36720410   GFGC    7953  1993-01-05       0.0       NaN     NaN   \n",
       "2      10001  36720410   GFGC    7953  1993-01-06       0.0       NaN     NaN   \n",
       "3      10001  36720410   GFGC    7953  1993-01-07     228.0     14.50   14.50   \n",
       "4      10001  36720410   GFGC    7953  1993-01-08    1375.0     14.50   14.25   \n",
       "...      ...       ...    ...     ...         ...       ...       ...     ...   \n",
       "6189   10001  36720410   EGAS    7953  2017-07-31   30166.0     12.95   12.95   \n",
       "6190   10001  36720410   EGAS    7953  2017-08-01  153297.0     13.05   12.95   \n",
       "6191   10001  36720410   EGAS    7953  2017-08-02  509562.0     13.10   13.05   \n",
       "6192   10001  36720410   EGAS    7953  2017-08-03   40610.0     13.10   13.10   \n",
       "6193   10001  36720410    NaN    7953  2017-08-04       NaN       NaN     NaN   \n",
       "\n",
       "      DlyHigh  DlyOpen  \n",
       "0       14.50    14.50  \n",
       "1         NaN      NaN  \n",
       "2         NaN      NaN  \n",
       "3       14.50    14.50  \n",
       "4       14.50    14.25  \n",
       "...       ...      ...  \n",
       "6189    13.00    13.00  \n",
       "6190    13.10    12.95  \n",
       "6191    13.15    13.05  \n",
       "6192    13.15    13.10  \n",
       "6193      NaN      NaN  \n",
       "\n",
       "[6194 rows x 10 columns]"
      ]
     },
     "execution_count": 4,
     "metadata": {},
     "output_type": "execute_result"
    }
   ],
   "source": [
    "# IN THIS REPLICATION, WE USE ID 10001\n",
    "crsp_data_1993_2019_10001 = crsp_data_1993_2019[crsp_data_1993_2019[\"PERMNO\"] == 10001]\n",
    "crsp_data_1993_2019_10001"
   ]
  },
  {
   "cell_type": "code",
   "execution_count": 5,
   "metadata": {},
   "outputs": [
    {
     "data": {
      "text/html": [
       "<div>\n",
       "<style scoped>\n",
       "    .dataframe tbody tr th:only-of-type {\n",
       "        vertical-align: middle;\n",
       "    }\n",
       "\n",
       "    .dataframe tbody tr th {\n",
       "        vertical-align: top;\n",
       "    }\n",
       "\n",
       "    .dataframe thead th {\n",
       "        text-align: right;\n",
       "    }\n",
       "</style>\n",
       "<table border=\"1\" class=\"dataframe\">\n",
       "  <thead>\n",
       "    <tr style=\"text-align: right;\">\n",
       "      <th></th>\n",
       "      <th>PERMNO</th>\n",
       "      <th>HdrCUSIP</th>\n",
       "      <th>Ticker</th>\n",
       "      <th>PERMCO</th>\n",
       "      <th>DlyCalDt</th>\n",
       "      <th>DlyVol</th>\n",
       "      <th>DlyClose</th>\n",
       "      <th>DlyLow</th>\n",
       "      <th>DlyHigh</th>\n",
       "      <th>DlyOpen</th>\n",
       "    </tr>\n",
       "  </thead>\n",
       "  <tbody>\n",
       "    <tr>\n",
       "      <th>0</th>\n",
       "      <td>10001</td>\n",
       "      <td>36720410</td>\n",
       "      <td>GFGC</td>\n",
       "      <td>7953</td>\n",
       "      <td>1993-01-04</td>\n",
       "      <td>150.0</td>\n",
       "      <td>14.50</td>\n",
       "      <td>14.50</td>\n",
       "      <td>14.50</td>\n",
       "      <td>14.50</td>\n",
       "    </tr>\n",
       "    <tr>\n",
       "      <th>3</th>\n",
       "      <td>10001</td>\n",
       "      <td>36720410</td>\n",
       "      <td>GFGC</td>\n",
       "      <td>7953</td>\n",
       "      <td>1993-01-07</td>\n",
       "      <td>228.0</td>\n",
       "      <td>14.50</td>\n",
       "      <td>14.50</td>\n",
       "      <td>14.50</td>\n",
       "      <td>14.50</td>\n",
       "    </tr>\n",
       "    <tr>\n",
       "      <th>4</th>\n",
       "      <td>10001</td>\n",
       "      <td>36720410</td>\n",
       "      <td>GFGC</td>\n",
       "      <td>7953</td>\n",
       "      <td>1993-01-08</td>\n",
       "      <td>1375.0</td>\n",
       "      <td>14.50</td>\n",
       "      <td>14.25</td>\n",
       "      <td>14.50</td>\n",
       "      <td>14.25</td>\n",
       "    </tr>\n",
       "    <tr>\n",
       "      <th>5</th>\n",
       "      <td>10001</td>\n",
       "      <td>36720410</td>\n",
       "      <td>GFGC</td>\n",
       "      <td>7953</td>\n",
       "      <td>1993-01-11</td>\n",
       "      <td>200.0</td>\n",
       "      <td>14.50</td>\n",
       "      <td>14.50</td>\n",
       "      <td>14.50</td>\n",
       "      <td>14.50</td>\n",
       "    </tr>\n",
       "    <tr>\n",
       "      <th>7</th>\n",
       "      <td>10001</td>\n",
       "      <td>36720410</td>\n",
       "      <td>GFGC</td>\n",
       "      <td>7953</td>\n",
       "      <td>1993-01-13</td>\n",
       "      <td>700.0</td>\n",
       "      <td>13.75</td>\n",
       "      <td>13.75</td>\n",
       "      <td>14.00</td>\n",
       "      <td>14.00</td>\n",
       "    </tr>\n",
       "    <tr>\n",
       "      <th>...</th>\n",
       "      <td>...</td>\n",
       "      <td>...</td>\n",
       "      <td>...</td>\n",
       "      <td>...</td>\n",
       "      <td>...</td>\n",
       "      <td>...</td>\n",
       "      <td>...</td>\n",
       "      <td>...</td>\n",
       "      <td>...</td>\n",
       "      <td>...</td>\n",
       "    </tr>\n",
       "    <tr>\n",
       "      <th>6188</th>\n",
       "      <td>10001</td>\n",
       "      <td>36720410</td>\n",
       "      <td>EGAS</td>\n",
       "      <td>7953</td>\n",
       "      <td>2017-07-28</td>\n",
       "      <td>9166.0</td>\n",
       "      <td>13.00</td>\n",
       "      <td>12.95</td>\n",
       "      <td>13.00</td>\n",
       "      <td>12.95</td>\n",
       "    </tr>\n",
       "    <tr>\n",
       "      <th>6189</th>\n",
       "      <td>10001</td>\n",
       "      <td>36720410</td>\n",
       "      <td>EGAS</td>\n",
       "      <td>7953</td>\n",
       "      <td>2017-07-31</td>\n",
       "      <td>30166.0</td>\n",
       "      <td>12.95</td>\n",
       "      <td>12.95</td>\n",
       "      <td>13.00</td>\n",
       "      <td>13.00</td>\n",
       "    </tr>\n",
       "    <tr>\n",
       "      <th>6190</th>\n",
       "      <td>10001</td>\n",
       "      <td>36720410</td>\n",
       "      <td>EGAS</td>\n",
       "      <td>7953</td>\n",
       "      <td>2017-08-01</td>\n",
       "      <td>153297.0</td>\n",
       "      <td>13.05</td>\n",
       "      <td>12.95</td>\n",
       "      <td>13.10</td>\n",
       "      <td>12.95</td>\n",
       "    </tr>\n",
       "    <tr>\n",
       "      <th>6191</th>\n",
       "      <td>10001</td>\n",
       "      <td>36720410</td>\n",
       "      <td>EGAS</td>\n",
       "      <td>7953</td>\n",
       "      <td>2017-08-02</td>\n",
       "      <td>509562.0</td>\n",
       "      <td>13.10</td>\n",
       "      <td>13.05</td>\n",
       "      <td>13.15</td>\n",
       "      <td>13.05</td>\n",
       "    </tr>\n",
       "    <tr>\n",
       "      <th>6192</th>\n",
       "      <td>10001</td>\n",
       "      <td>36720410</td>\n",
       "      <td>EGAS</td>\n",
       "      <td>7953</td>\n",
       "      <td>2017-08-03</td>\n",
       "      <td>40610.0</td>\n",
       "      <td>13.10</td>\n",
       "      <td>13.10</td>\n",
       "      <td>13.15</td>\n",
       "      <td>13.10</td>\n",
       "    </tr>\n",
       "  </tbody>\n",
       "</table>\n",
       "<p>5666 rows × 10 columns</p>\n",
       "</div>"
      ],
      "text/plain": [
       "      PERMNO  HdrCUSIP Ticker  PERMCO    DlyCalDt    DlyVol  DlyClose  DlyLow  \\\n",
       "0      10001  36720410   GFGC    7953  1993-01-04     150.0     14.50   14.50   \n",
       "3      10001  36720410   GFGC    7953  1993-01-07     228.0     14.50   14.50   \n",
       "4      10001  36720410   GFGC    7953  1993-01-08    1375.0     14.50   14.25   \n",
       "5      10001  36720410   GFGC    7953  1993-01-11     200.0     14.50   14.50   \n",
       "7      10001  36720410   GFGC    7953  1993-01-13     700.0     13.75   13.75   \n",
       "...      ...       ...    ...     ...         ...       ...       ...     ...   \n",
       "6188   10001  36720410   EGAS    7953  2017-07-28    9166.0     13.00   12.95   \n",
       "6189   10001  36720410   EGAS    7953  2017-07-31   30166.0     12.95   12.95   \n",
       "6190   10001  36720410   EGAS    7953  2017-08-01  153297.0     13.05   12.95   \n",
       "6191   10001  36720410   EGAS    7953  2017-08-02  509562.0     13.10   13.05   \n",
       "6192   10001  36720410   EGAS    7953  2017-08-03   40610.0     13.10   13.10   \n",
       "\n",
       "      DlyHigh  DlyOpen  \n",
       "0       14.50    14.50  \n",
       "3       14.50    14.50  \n",
       "4       14.50    14.25  \n",
       "5       14.50    14.50  \n",
       "7       14.00    14.00  \n",
       "...       ...      ...  \n",
       "6188    13.00    12.95  \n",
       "6189    13.00    13.00  \n",
       "6190    13.10    12.95  \n",
       "6191    13.15    13.05  \n",
       "6192    13.15    13.10  \n",
       "\n",
       "[5666 rows x 10 columns]"
      ]
     },
     "execution_count": 5,
     "metadata": {},
     "output_type": "execute_result"
    }
   ],
   "source": [
    "# DROP NAN IN THE DATASET\n",
    "crsp_data_1993_2019_10001 = crsp_data_1993_2019_10001.dropna()\n",
    "crsp_data_1993_2019_10001"
   ]
  },
  {
   "cell_type": "code",
   "execution_count": 6,
   "metadata": {},
   "outputs": [
    {
     "data": {
      "text/html": [
       "<div>\n",
       "<style scoped>\n",
       "    .dataframe tbody tr th:only-of-type {\n",
       "        vertical-align: middle;\n",
       "    }\n",
       "\n",
       "    .dataframe tbody tr th {\n",
       "        vertical-align: top;\n",
       "    }\n",
       "\n",
       "    .dataframe thead th {\n",
       "        text-align: right;\n",
       "    }\n",
       "</style>\n",
       "<table border=\"1\" class=\"dataframe\">\n",
       "  <thead>\n",
       "    <tr style=\"text-align: right;\">\n",
       "      <th></th>\n",
       "      <th>PERMNO</th>\n",
       "      <th>DlyCalDt</th>\n",
       "      <th>DlyVol</th>\n",
       "      <th>DlyClose</th>\n",
       "      <th>DlyLow</th>\n",
       "      <th>DlyHigh</th>\n",
       "      <th>DlyOpen</th>\n",
       "    </tr>\n",
       "  </thead>\n",
       "  <tbody>\n",
       "    <tr>\n",
       "      <th>0</th>\n",
       "      <td>10001</td>\n",
       "      <td>1993-01-04</td>\n",
       "      <td>150.0</td>\n",
       "      <td>14.50</td>\n",
       "      <td>14.50</td>\n",
       "      <td>14.50</td>\n",
       "      <td>14.50</td>\n",
       "    </tr>\n",
       "    <tr>\n",
       "      <th>3</th>\n",
       "      <td>10001</td>\n",
       "      <td>1993-01-07</td>\n",
       "      <td>228.0</td>\n",
       "      <td>14.50</td>\n",
       "      <td>14.50</td>\n",
       "      <td>14.50</td>\n",
       "      <td>14.50</td>\n",
       "    </tr>\n",
       "    <tr>\n",
       "      <th>4</th>\n",
       "      <td>10001</td>\n",
       "      <td>1993-01-08</td>\n",
       "      <td>1375.0</td>\n",
       "      <td>14.50</td>\n",
       "      <td>14.25</td>\n",
       "      <td>14.50</td>\n",
       "      <td>14.25</td>\n",
       "    </tr>\n",
       "    <tr>\n",
       "      <th>5</th>\n",
       "      <td>10001</td>\n",
       "      <td>1993-01-11</td>\n",
       "      <td>200.0</td>\n",
       "      <td>14.50</td>\n",
       "      <td>14.50</td>\n",
       "      <td>14.50</td>\n",
       "      <td>14.50</td>\n",
       "    </tr>\n",
       "    <tr>\n",
       "      <th>7</th>\n",
       "      <td>10001</td>\n",
       "      <td>1993-01-13</td>\n",
       "      <td>700.0</td>\n",
       "      <td>13.75</td>\n",
       "      <td>13.75</td>\n",
       "      <td>14.00</td>\n",
       "      <td>14.00</td>\n",
       "    </tr>\n",
       "    <tr>\n",
       "      <th>...</th>\n",
       "      <td>...</td>\n",
       "      <td>...</td>\n",
       "      <td>...</td>\n",
       "      <td>...</td>\n",
       "      <td>...</td>\n",
       "      <td>...</td>\n",
       "      <td>...</td>\n",
       "    </tr>\n",
       "    <tr>\n",
       "      <th>6188</th>\n",
       "      <td>10001</td>\n",
       "      <td>2017-07-28</td>\n",
       "      <td>9166.0</td>\n",
       "      <td>13.00</td>\n",
       "      <td>12.95</td>\n",
       "      <td>13.00</td>\n",
       "      <td>12.95</td>\n",
       "    </tr>\n",
       "    <tr>\n",
       "      <th>6189</th>\n",
       "      <td>10001</td>\n",
       "      <td>2017-07-31</td>\n",
       "      <td>30166.0</td>\n",
       "      <td>12.95</td>\n",
       "      <td>12.95</td>\n",
       "      <td>13.00</td>\n",
       "      <td>13.00</td>\n",
       "    </tr>\n",
       "    <tr>\n",
       "      <th>6190</th>\n",
       "      <td>10001</td>\n",
       "      <td>2017-08-01</td>\n",
       "      <td>153297.0</td>\n",
       "      <td>13.05</td>\n",
       "      <td>12.95</td>\n",
       "      <td>13.10</td>\n",
       "      <td>12.95</td>\n",
       "    </tr>\n",
       "    <tr>\n",
       "      <th>6191</th>\n",
       "      <td>10001</td>\n",
       "      <td>2017-08-02</td>\n",
       "      <td>509562.0</td>\n",
       "      <td>13.10</td>\n",
       "      <td>13.05</td>\n",
       "      <td>13.15</td>\n",
       "      <td>13.05</td>\n",
       "    </tr>\n",
       "    <tr>\n",
       "      <th>6192</th>\n",
       "      <td>10001</td>\n",
       "      <td>2017-08-03</td>\n",
       "      <td>40610.0</td>\n",
       "      <td>13.10</td>\n",
       "      <td>13.10</td>\n",
       "      <td>13.15</td>\n",
       "      <td>13.10</td>\n",
       "    </tr>\n",
       "  </tbody>\n",
       "</table>\n",
       "<p>5666 rows × 7 columns</p>\n",
       "</div>"
      ],
      "text/plain": [
       "      PERMNO    DlyCalDt    DlyVol  DlyClose  DlyLow  DlyHigh  DlyOpen\n",
       "0      10001  1993-01-04     150.0     14.50   14.50    14.50    14.50\n",
       "3      10001  1993-01-07     228.0     14.50   14.50    14.50    14.50\n",
       "4      10001  1993-01-08    1375.0     14.50   14.25    14.50    14.25\n",
       "5      10001  1993-01-11     200.0     14.50   14.50    14.50    14.50\n",
       "7      10001  1993-01-13     700.0     13.75   13.75    14.00    14.00\n",
       "...      ...         ...       ...       ...     ...      ...      ...\n",
       "6188   10001  2017-07-28    9166.0     13.00   12.95    13.00    12.95\n",
       "6189   10001  2017-07-31   30166.0     12.95   12.95    13.00    13.00\n",
       "6190   10001  2017-08-01  153297.0     13.05   12.95    13.10    12.95\n",
       "6191   10001  2017-08-02  509562.0     13.10   13.05    13.15    13.05\n",
       "6192   10001  2017-08-03   40610.0     13.10   13.10    13.15    13.10\n",
       "\n",
       "[5666 rows x 7 columns]"
      ]
     },
     "execution_count": 6,
     "metadata": {},
     "output_type": "execute_result"
    }
   ],
   "source": [
    "# DROP USELESS COLUMNS\n",
    "crsp_data_1993_2019_10001 = crsp_data_1993_2019_10001.drop([\"HdrCUSIP\", \"Ticker\", \"PERMCO\"], axis = 1)\n",
    "crsp_data_1993_2019_10001"
   ]
  },
  {
   "cell_type": "code",
   "execution_count": 7,
   "metadata": {},
   "outputs": [
    {
     "data": {
      "text/html": [
       "<div>\n",
       "<style scoped>\n",
       "    .dataframe tbody tr th:only-of-type {\n",
       "        vertical-align: middle;\n",
       "    }\n",
       "\n",
       "    .dataframe tbody tr th {\n",
       "        vertical-align: top;\n",
       "    }\n",
       "\n",
       "    .dataframe thead th {\n",
       "        text-align: right;\n",
       "    }\n",
       "</style>\n",
       "<table border=\"1\" class=\"dataframe\">\n",
       "  <thead>\n",
       "    <tr style=\"text-align: right;\">\n",
       "      <th></th>\n",
       "      <th>PERMNO</th>\n",
       "      <th>DlyCalDt</th>\n",
       "      <th>DlyVol</th>\n",
       "      <th>DlyClose</th>\n",
       "      <th>DlyLow</th>\n",
       "      <th>DlyHigh</th>\n",
       "      <th>DlyOpen</th>\n",
       "      <th>20_Day_MA_Low</th>\n",
       "    </tr>\n",
       "  </thead>\n",
       "  <tbody>\n",
       "    <tr>\n",
       "      <th>0</th>\n",
       "      <td>10001</td>\n",
       "      <td>1993-01-04</td>\n",
       "      <td>150.0</td>\n",
       "      <td>14.50</td>\n",
       "      <td>14.50</td>\n",
       "      <td>14.50</td>\n",
       "      <td>14.50</td>\n",
       "      <td>14.50000</td>\n",
       "    </tr>\n",
       "    <tr>\n",
       "      <th>3</th>\n",
       "      <td>10001</td>\n",
       "      <td>1993-01-07</td>\n",
       "      <td>228.0</td>\n",
       "      <td>14.50</td>\n",
       "      <td>14.50</td>\n",
       "      <td>14.50</td>\n",
       "      <td>14.50</td>\n",
       "      <td>14.50000</td>\n",
       "    </tr>\n",
       "    <tr>\n",
       "      <th>4</th>\n",
       "      <td>10001</td>\n",
       "      <td>1993-01-08</td>\n",
       "      <td>1375.0</td>\n",
       "      <td>14.50</td>\n",
       "      <td>14.25</td>\n",
       "      <td>14.50</td>\n",
       "      <td>14.25</td>\n",
       "      <td>14.25000</td>\n",
       "    </tr>\n",
       "    <tr>\n",
       "      <th>5</th>\n",
       "      <td>10001</td>\n",
       "      <td>1993-01-11</td>\n",
       "      <td>200.0</td>\n",
       "      <td>14.50</td>\n",
       "      <td>14.50</td>\n",
       "      <td>14.50</td>\n",
       "      <td>14.50</td>\n",
       "      <td>14.50000</td>\n",
       "    </tr>\n",
       "    <tr>\n",
       "      <th>7</th>\n",
       "      <td>10001</td>\n",
       "      <td>1993-01-13</td>\n",
       "      <td>700.0</td>\n",
       "      <td>13.75</td>\n",
       "      <td>13.75</td>\n",
       "      <td>14.00</td>\n",
       "      <td>14.00</td>\n",
       "      <td>13.75000</td>\n",
       "    </tr>\n",
       "    <tr>\n",
       "      <th>...</th>\n",
       "      <td>...</td>\n",
       "      <td>...</td>\n",
       "      <td>...</td>\n",
       "      <td>...</td>\n",
       "      <td>...</td>\n",
       "      <td>...</td>\n",
       "      <td>...</td>\n",
       "      <td>...</td>\n",
       "    </tr>\n",
       "    <tr>\n",
       "      <th>6188</th>\n",
       "      <td>10001</td>\n",
       "      <td>2017-07-28</td>\n",
       "      <td>9166.0</td>\n",
       "      <td>13.00</td>\n",
       "      <td>12.95</td>\n",
       "      <td>13.00</td>\n",
       "      <td>12.95</td>\n",
       "      <td>12.86970</td>\n",
       "    </tr>\n",
       "    <tr>\n",
       "      <th>6189</th>\n",
       "      <td>10001</td>\n",
       "      <td>2017-07-31</td>\n",
       "      <td>30166.0</td>\n",
       "      <td>12.95</td>\n",
       "      <td>12.95</td>\n",
       "      <td>13.00</td>\n",
       "      <td>13.00</td>\n",
       "      <td>12.87220</td>\n",
       "    </tr>\n",
       "    <tr>\n",
       "      <th>6190</th>\n",
       "      <td>10001</td>\n",
       "      <td>2017-08-01</td>\n",
       "      <td>153297.0</td>\n",
       "      <td>13.05</td>\n",
       "      <td>12.95</td>\n",
       "      <td>13.10</td>\n",
       "      <td>12.95</td>\n",
       "      <td>12.87720</td>\n",
       "    </tr>\n",
       "    <tr>\n",
       "      <th>6191</th>\n",
       "      <td>10001</td>\n",
       "      <td>2017-08-02</td>\n",
       "      <td>509562.0</td>\n",
       "      <td>13.10</td>\n",
       "      <td>13.05</td>\n",
       "      <td>13.15</td>\n",
       "      <td>13.05</td>\n",
       "      <td>12.88625</td>\n",
       "    </tr>\n",
       "    <tr>\n",
       "      <th>6192</th>\n",
       "      <td>10001</td>\n",
       "      <td>2017-08-03</td>\n",
       "      <td>40610.0</td>\n",
       "      <td>13.10</td>\n",
       "      <td>13.10</td>\n",
       "      <td>13.15</td>\n",
       "      <td>13.10</td>\n",
       "      <td>12.89625</td>\n",
       "    </tr>\n",
       "  </tbody>\n",
       "</table>\n",
       "<p>5666 rows × 8 columns</p>\n",
       "</div>"
      ],
      "text/plain": [
       "      PERMNO    DlyCalDt    DlyVol  DlyClose  DlyLow  DlyHigh  DlyOpen  \\\n",
       "0      10001  1993-01-04     150.0     14.50   14.50    14.50    14.50   \n",
       "3      10001  1993-01-07     228.0     14.50   14.50    14.50    14.50   \n",
       "4      10001  1993-01-08    1375.0     14.50   14.25    14.50    14.25   \n",
       "5      10001  1993-01-11     200.0     14.50   14.50    14.50    14.50   \n",
       "7      10001  1993-01-13     700.0     13.75   13.75    14.00    14.00   \n",
       "...      ...         ...       ...       ...     ...      ...      ...   \n",
       "6188   10001  2017-07-28    9166.0     13.00   12.95    13.00    12.95   \n",
       "6189   10001  2017-07-31   30166.0     12.95   12.95    13.00    13.00   \n",
       "6190   10001  2017-08-01  153297.0     13.05   12.95    13.10    12.95   \n",
       "6191   10001  2017-08-02  509562.0     13.10   13.05    13.15    13.05   \n",
       "6192   10001  2017-08-03   40610.0     13.10   13.10    13.15    13.10   \n",
       "\n",
       "      20_Day_MA_Low  \n",
       "0          14.50000  \n",
       "3          14.50000  \n",
       "4          14.25000  \n",
       "5          14.50000  \n",
       "7          13.75000  \n",
       "...             ...  \n",
       "6188       12.86970  \n",
       "6189       12.87220  \n",
       "6190       12.87720  \n",
       "6191       12.88625  \n",
       "6192       12.89625  \n",
       "\n",
       "[5666 rows x 8 columns]"
      ]
     },
     "execution_count": 7,
     "metadata": {},
     "output_type": "execute_result"
    }
   ],
   "source": [
    "# CALCULATE THE 20-DAY MOVING AVERAGE\n",
    "crsp_data_1993_2019_10001[\"20_Day_MA_Low\"] = crsp_data_1993_2019_10001[\"DlyLow\"].rolling(window = 20).mean().fillna(crsp_data_1993_2019_10001[\"DlyLow\"])\n",
    "crsp_data_1993_2019_10001"
   ]
  },
  {
   "cell_type": "code",
   "execution_count": 8,
   "metadata": {},
   "outputs": [
    {
     "data": {
      "text/html": [
       "<div>\n",
       "<style scoped>\n",
       "    .dataframe tbody tr th:only-of-type {\n",
       "        vertical-align: middle;\n",
       "    }\n",
       "\n",
       "    .dataframe tbody tr th {\n",
       "        vertical-align: top;\n",
       "    }\n",
       "\n",
       "    .dataframe thead th {\n",
       "        text-align: right;\n",
       "    }\n",
       "</style>\n",
       "<table border=\"1\" class=\"dataframe\">\n",
       "  <thead>\n",
       "    <tr style=\"text-align: right;\">\n",
       "      <th></th>\n",
       "      <th>PERMNO</th>\n",
       "      <th>DlyCalDt</th>\n",
       "      <th>DlyVol</th>\n",
       "      <th>DlyClose</th>\n",
       "      <th>DlyLow</th>\n",
       "      <th>DlyHigh</th>\n",
       "      <th>DlyOpen</th>\n",
       "      <th>20_Day_MA_Low</th>\n",
       "    </tr>\n",
       "  </thead>\n",
       "  <tbody>\n",
       "    <tr>\n",
       "      <th>6045</th>\n",
       "      <td>10001</td>\n",
       "      <td>2017-01-03</td>\n",
       "      <td>70124.0</td>\n",
       "      <td>12.60</td>\n",
       "      <td>12.55</td>\n",
       "      <td>12.60</td>\n",
       "      <td>12.55</td>\n",
       "      <td>12.511935</td>\n",
       "    </tr>\n",
       "    <tr>\n",
       "      <th>6046</th>\n",
       "      <td>10001</td>\n",
       "      <td>2017-01-04</td>\n",
       "      <td>4013.0</td>\n",
       "      <td>12.55</td>\n",
       "      <td>12.55</td>\n",
       "      <td>12.60</td>\n",
       "      <td>12.60</td>\n",
       "      <td>12.516935</td>\n",
       "    </tr>\n",
       "    <tr>\n",
       "      <th>6047</th>\n",
       "      <td>10001</td>\n",
       "      <td>2017-01-05</td>\n",
       "      <td>97588.0</td>\n",
       "      <td>12.70</td>\n",
       "      <td>12.60</td>\n",
       "      <td>12.70</td>\n",
       "      <td>12.60</td>\n",
       "      <td>12.521935</td>\n",
       "    </tr>\n",
       "    <tr>\n",
       "      <th>6048</th>\n",
       "      <td>10001</td>\n",
       "      <td>2017-01-06</td>\n",
       "      <td>164633.0</td>\n",
       "      <td>12.70</td>\n",
       "      <td>12.60</td>\n",
       "      <td>12.75</td>\n",
       "      <td>12.65</td>\n",
       "      <td>12.526935</td>\n",
       "    </tr>\n",
       "    <tr>\n",
       "      <th>6049</th>\n",
       "      <td>10001</td>\n",
       "      <td>2017-01-09</td>\n",
       "      <td>27508.0</td>\n",
       "      <td>12.60</td>\n",
       "      <td>12.60</td>\n",
       "      <td>12.70</td>\n",
       "      <td>12.70</td>\n",
       "      <td>12.529435</td>\n",
       "    </tr>\n",
       "    <tr>\n",
       "      <th>...</th>\n",
       "      <td>...</td>\n",
       "      <td>...</td>\n",
       "      <td>...</td>\n",
       "      <td>...</td>\n",
       "      <td>...</td>\n",
       "      <td>...</td>\n",
       "      <td>...</td>\n",
       "      <td>...</td>\n",
       "    </tr>\n",
       "    <tr>\n",
       "      <th>6188</th>\n",
       "      <td>10001</td>\n",
       "      <td>2017-07-28</td>\n",
       "      <td>9166.0</td>\n",
       "      <td>13.00</td>\n",
       "      <td>12.95</td>\n",
       "      <td>13.00</td>\n",
       "      <td>12.95</td>\n",
       "      <td>12.869700</td>\n",
       "    </tr>\n",
       "    <tr>\n",
       "      <th>6189</th>\n",
       "      <td>10001</td>\n",
       "      <td>2017-07-31</td>\n",
       "      <td>30166.0</td>\n",
       "      <td>12.95</td>\n",
       "      <td>12.95</td>\n",
       "      <td>13.00</td>\n",
       "      <td>13.00</td>\n",
       "      <td>12.872200</td>\n",
       "    </tr>\n",
       "    <tr>\n",
       "      <th>6190</th>\n",
       "      <td>10001</td>\n",
       "      <td>2017-08-01</td>\n",
       "      <td>153297.0</td>\n",
       "      <td>13.05</td>\n",
       "      <td>12.95</td>\n",
       "      <td>13.10</td>\n",
       "      <td>12.95</td>\n",
       "      <td>12.877200</td>\n",
       "    </tr>\n",
       "    <tr>\n",
       "      <th>6191</th>\n",
       "      <td>10001</td>\n",
       "      <td>2017-08-02</td>\n",
       "      <td>509562.0</td>\n",
       "      <td>13.10</td>\n",
       "      <td>13.05</td>\n",
       "      <td>13.15</td>\n",
       "      <td>13.05</td>\n",
       "      <td>12.886250</td>\n",
       "    </tr>\n",
       "    <tr>\n",
       "      <th>6192</th>\n",
       "      <td>10001</td>\n",
       "      <td>2017-08-03</td>\n",
       "      <td>40610.0</td>\n",
       "      <td>13.10</td>\n",
       "      <td>13.10</td>\n",
       "      <td>13.15</td>\n",
       "      <td>13.10</td>\n",
       "      <td>12.896250</td>\n",
       "    </tr>\n",
       "  </tbody>\n",
       "</table>\n",
       "<p>148 rows × 8 columns</p>\n",
       "</div>"
      ],
      "text/plain": [
       "      PERMNO    DlyCalDt    DlyVol  DlyClose  DlyLow  DlyHigh  DlyOpen  \\\n",
       "6045   10001  2017-01-03   70124.0     12.60   12.55    12.60    12.55   \n",
       "6046   10001  2017-01-04    4013.0     12.55   12.55    12.60    12.60   \n",
       "6047   10001  2017-01-05   97588.0     12.70   12.60    12.70    12.60   \n",
       "6048   10001  2017-01-06  164633.0     12.70   12.60    12.75    12.65   \n",
       "6049   10001  2017-01-09   27508.0     12.60   12.60    12.70    12.70   \n",
       "...      ...         ...       ...       ...     ...      ...      ...   \n",
       "6188   10001  2017-07-28    9166.0     13.00   12.95    13.00    12.95   \n",
       "6189   10001  2017-07-31   30166.0     12.95   12.95    13.00    13.00   \n",
       "6190   10001  2017-08-01  153297.0     13.05   12.95    13.10    12.95   \n",
       "6191   10001  2017-08-02  509562.0     13.10   13.05    13.15    13.05   \n",
       "6192   10001  2017-08-03   40610.0     13.10   13.10    13.15    13.10   \n",
       "\n",
       "      20_Day_MA_Low  \n",
       "6045      12.511935  \n",
       "6046      12.516935  \n",
       "6047      12.521935  \n",
       "6048      12.526935  \n",
       "6049      12.529435  \n",
       "...             ...  \n",
       "6188      12.869700  \n",
       "6189      12.872200  \n",
       "6190      12.877200  \n",
       "6191      12.886250  \n",
       "6192      12.896250  \n",
       "\n",
       "[148 rows x 8 columns]"
      ]
     },
     "execution_count": 8,
     "metadata": {},
     "output_type": "execute_result"
    }
   ],
   "source": [
    "# SINCE AUTHOR'S EXAMPLE IS 2017, I WANT TO TAKE ONLY 2017 HERE\n",
    "crsp_data_2017_10001 = crsp_data_1993_2019_10001[crsp_data_1993_2019_10001[\"DlyCalDt\"].str.startswith(\"2017\")]\n",
    "crsp_data_2017_10001"
   ]
  },
  {
   "cell_type": "code",
   "execution_count": 9,
   "metadata": {},
   "outputs": [
    {
     "data": {
      "text/html": [
       "<div>\n",
       "<style scoped>\n",
       "    .dataframe tbody tr th:only-of-type {\n",
       "        vertical-align: middle;\n",
       "    }\n",
       "\n",
       "    .dataframe tbody tr th {\n",
       "        vertical-align: top;\n",
       "    }\n",
       "\n",
       "    .dataframe thead th {\n",
       "        text-align: right;\n",
       "    }\n",
       "</style>\n",
       "<table border=\"1\" class=\"dataframe\">\n",
       "  <thead>\n",
       "    <tr style=\"text-align: right;\">\n",
       "      <th></th>\n",
       "      <th>PERMNO</th>\n",
       "      <th>DlyCalDt</th>\n",
       "      <th>DlyVol</th>\n",
       "      <th>DlyClose</th>\n",
       "      <th>DlyLow</th>\n",
       "      <th>DlyHigh</th>\n",
       "      <th>DlyOpen</th>\n",
       "      <th>20_Day_MA_Low</th>\n",
       "    </tr>\n",
       "  </thead>\n",
       "  <tbody>\n",
       "    <tr>\n",
       "      <th>6045</th>\n",
       "      <td>10001</td>\n",
       "      <td>2017-01-03</td>\n",
       "      <td>70124.0</td>\n",
       "      <td>12.6000</td>\n",
       "      <td>12.55</td>\n",
       "      <td>12.60</td>\n",
       "      <td>12.55</td>\n",
       "      <td>12.511935</td>\n",
       "    </tr>\n",
       "    <tr>\n",
       "      <th>6046</th>\n",
       "      <td>10001</td>\n",
       "      <td>2017-01-04</td>\n",
       "      <td>4013.0</td>\n",
       "      <td>12.5500</td>\n",
       "      <td>12.55</td>\n",
       "      <td>12.60</td>\n",
       "      <td>12.60</td>\n",
       "      <td>12.516935</td>\n",
       "    </tr>\n",
       "    <tr>\n",
       "      <th>6047</th>\n",
       "      <td>10001</td>\n",
       "      <td>2017-01-05</td>\n",
       "      <td>97588.0</td>\n",
       "      <td>12.7000</td>\n",
       "      <td>12.60</td>\n",
       "      <td>12.70</td>\n",
       "      <td>12.60</td>\n",
       "      <td>12.521935</td>\n",
       "    </tr>\n",
       "    <tr>\n",
       "      <th>6048</th>\n",
       "      <td>10001</td>\n",
       "      <td>2017-01-06</td>\n",
       "      <td>164633.0</td>\n",
       "      <td>12.7000</td>\n",
       "      <td>12.60</td>\n",
       "      <td>12.75</td>\n",
       "      <td>12.65</td>\n",
       "      <td>12.526935</td>\n",
       "    </tr>\n",
       "    <tr>\n",
       "      <th>6049</th>\n",
       "      <td>10001</td>\n",
       "      <td>2017-01-09</td>\n",
       "      <td>27508.0</td>\n",
       "      <td>12.6000</td>\n",
       "      <td>12.60</td>\n",
       "      <td>12.70</td>\n",
       "      <td>12.70</td>\n",
       "      <td>12.529435</td>\n",
       "    </tr>\n",
       "    <tr>\n",
       "      <th>6050</th>\n",
       "      <td>10001</td>\n",
       "      <td>2017-01-10</td>\n",
       "      <td>92207.0</td>\n",
       "      <td>12.7500</td>\n",
       "      <td>12.65</td>\n",
       "      <td>12.75</td>\n",
       "      <td>12.65</td>\n",
       "      <td>12.534435</td>\n",
       "    </tr>\n",
       "    <tr>\n",
       "      <th>6051</th>\n",
       "      <td>10001</td>\n",
       "      <td>2017-01-11</td>\n",
       "      <td>38915.0</td>\n",
       "      <td>12.7000</td>\n",
       "      <td>12.65</td>\n",
       "      <td>12.75</td>\n",
       "      <td>12.75</td>\n",
       "      <td>12.539435</td>\n",
       "    </tr>\n",
       "    <tr>\n",
       "      <th>6052</th>\n",
       "      <td>10001</td>\n",
       "      <td>2017-01-12</td>\n",
       "      <td>10891.0</td>\n",
       "      <td>12.6500</td>\n",
       "      <td>12.65</td>\n",
       "      <td>12.75</td>\n",
       "      <td>12.70</td>\n",
       "      <td>12.543490</td>\n",
       "    </tr>\n",
       "    <tr>\n",
       "      <th>6053</th>\n",
       "      <td>10001</td>\n",
       "      <td>2017-01-13</td>\n",
       "      <td>166632.0</td>\n",
       "      <td>12.6500</td>\n",
       "      <td>12.55</td>\n",
       "      <td>12.67</td>\n",
       "      <td>12.65</td>\n",
       "      <td>12.543490</td>\n",
       "    </tr>\n",
       "    <tr>\n",
       "      <th>6054</th>\n",
       "      <td>10001</td>\n",
       "      <td>2017-01-17</td>\n",
       "      <td>22987.0</td>\n",
       "      <td>12.6000</td>\n",
       "      <td>12.60</td>\n",
       "      <td>12.65</td>\n",
       "      <td>12.65</td>\n",
       "      <td>12.550990</td>\n",
       "    </tr>\n",
       "    <tr>\n",
       "      <th>6055</th>\n",
       "      <td>10001</td>\n",
       "      <td>2017-01-18</td>\n",
       "      <td>29799.0</td>\n",
       "      <td>12.6499</td>\n",
       "      <td>12.60</td>\n",
       "      <td>12.65</td>\n",
       "      <td>12.60</td>\n",
       "      <td>12.560990</td>\n",
       "    </tr>\n",
       "    <tr>\n",
       "      <th>6056</th>\n",
       "      <td>10001</td>\n",
       "      <td>2017-01-19</td>\n",
       "      <td>33412.0</td>\n",
       "      <td>12.6500</td>\n",
       "      <td>12.60</td>\n",
       "      <td>12.70</td>\n",
       "      <td>12.60</td>\n",
       "      <td>12.568465</td>\n",
       "    </tr>\n",
       "    <tr>\n",
       "      <th>6057</th>\n",
       "      <td>10001</td>\n",
       "      <td>2017-01-20</td>\n",
       "      <td>21519.0</td>\n",
       "      <td>12.6500</td>\n",
       "      <td>12.60</td>\n",
       "      <td>12.70</td>\n",
       "      <td>12.60</td>\n",
       "      <td>12.575965</td>\n",
       "    </tr>\n",
       "    <tr>\n",
       "      <th>6058</th>\n",
       "      <td>10001</td>\n",
       "      <td>2017-01-23</td>\n",
       "      <td>46063.0</td>\n",
       "      <td>12.7000</td>\n",
       "      <td>12.60</td>\n",
       "      <td>12.75</td>\n",
       "      <td>12.60</td>\n",
       "      <td>12.578465</td>\n",
       "    </tr>\n",
       "    <tr>\n",
       "      <th>6059</th>\n",
       "      <td>10001</td>\n",
       "      <td>2017-01-24</td>\n",
       "      <td>41413.0</td>\n",
       "      <td>12.6500</td>\n",
       "      <td>12.65</td>\n",
       "      <td>12.70</td>\n",
       "      <td>12.70</td>\n",
       "      <td>12.583465</td>\n",
       "    </tr>\n",
       "    <tr>\n",
       "      <th>6060</th>\n",
       "      <td>10001</td>\n",
       "      <td>2017-01-25</td>\n",
       "      <td>12930.0</td>\n",
       "      <td>12.7000</td>\n",
       "      <td>12.65</td>\n",
       "      <td>12.70</td>\n",
       "      <td>12.65</td>\n",
       "      <td>12.590965</td>\n",
       "    </tr>\n",
       "    <tr>\n",
       "      <th>6061</th>\n",
       "      <td>10001</td>\n",
       "      <td>2017-01-26</td>\n",
       "      <td>2162.0</td>\n",
       "      <td>12.7000</td>\n",
       "      <td>12.65</td>\n",
       "      <td>12.70</td>\n",
       "      <td>12.65</td>\n",
       "      <td>12.595965</td>\n",
       "    </tr>\n",
       "    <tr>\n",
       "      <th>6062</th>\n",
       "      <td>10001</td>\n",
       "      <td>2017-01-27</td>\n",
       "      <td>11796.0</td>\n",
       "      <td>12.7000</td>\n",
       "      <td>12.65</td>\n",
       "      <td>12.70</td>\n",
       "      <td>12.70</td>\n",
       "      <td>12.600965</td>\n",
       "    </tr>\n",
       "    <tr>\n",
       "      <th>6063</th>\n",
       "      <td>10001</td>\n",
       "      <td>2017-01-30</td>\n",
       "      <td>23486.0</td>\n",
       "      <td>12.6500</td>\n",
       "      <td>12.65</td>\n",
       "      <td>12.70</td>\n",
       "      <td>12.70</td>\n",
       "      <td>12.608465</td>\n",
       "    </tr>\n",
       "    <tr>\n",
       "      <th>6064</th>\n",
       "      <td>10001</td>\n",
       "      <td>2017-01-31</td>\n",
       "      <td>11585.0</td>\n",
       "      <td>12.6500</td>\n",
       "      <td>12.65</td>\n",
       "      <td>12.70</td>\n",
       "      <td>12.65</td>\n",
       "      <td>12.615000</td>\n",
       "    </tr>\n",
       "  </tbody>\n",
       "</table>\n",
       "</div>"
      ],
      "text/plain": [
       "      PERMNO    DlyCalDt    DlyVol  DlyClose  DlyLow  DlyHigh  DlyOpen  \\\n",
       "6045   10001  2017-01-03   70124.0   12.6000   12.55    12.60    12.55   \n",
       "6046   10001  2017-01-04    4013.0   12.5500   12.55    12.60    12.60   \n",
       "6047   10001  2017-01-05   97588.0   12.7000   12.60    12.70    12.60   \n",
       "6048   10001  2017-01-06  164633.0   12.7000   12.60    12.75    12.65   \n",
       "6049   10001  2017-01-09   27508.0   12.6000   12.60    12.70    12.70   \n",
       "6050   10001  2017-01-10   92207.0   12.7500   12.65    12.75    12.65   \n",
       "6051   10001  2017-01-11   38915.0   12.7000   12.65    12.75    12.75   \n",
       "6052   10001  2017-01-12   10891.0   12.6500   12.65    12.75    12.70   \n",
       "6053   10001  2017-01-13  166632.0   12.6500   12.55    12.67    12.65   \n",
       "6054   10001  2017-01-17   22987.0   12.6000   12.60    12.65    12.65   \n",
       "6055   10001  2017-01-18   29799.0   12.6499   12.60    12.65    12.60   \n",
       "6056   10001  2017-01-19   33412.0   12.6500   12.60    12.70    12.60   \n",
       "6057   10001  2017-01-20   21519.0   12.6500   12.60    12.70    12.60   \n",
       "6058   10001  2017-01-23   46063.0   12.7000   12.60    12.75    12.60   \n",
       "6059   10001  2017-01-24   41413.0   12.6500   12.65    12.70    12.70   \n",
       "6060   10001  2017-01-25   12930.0   12.7000   12.65    12.70    12.65   \n",
       "6061   10001  2017-01-26    2162.0   12.7000   12.65    12.70    12.65   \n",
       "6062   10001  2017-01-27   11796.0   12.7000   12.65    12.70    12.70   \n",
       "6063   10001  2017-01-30   23486.0   12.6500   12.65    12.70    12.70   \n",
       "6064   10001  2017-01-31   11585.0   12.6500   12.65    12.70    12.65   \n",
       "\n",
       "      20_Day_MA_Low  \n",
       "6045      12.511935  \n",
       "6046      12.516935  \n",
       "6047      12.521935  \n",
       "6048      12.526935  \n",
       "6049      12.529435  \n",
       "6050      12.534435  \n",
       "6051      12.539435  \n",
       "6052      12.543490  \n",
       "6053      12.543490  \n",
       "6054      12.550990  \n",
       "6055      12.560990  \n",
       "6056      12.568465  \n",
       "6057      12.575965  \n",
       "6058      12.578465  \n",
       "6059      12.583465  \n",
       "6060      12.590965  \n",
       "6061      12.595965  \n",
       "6062      12.600965  \n",
       "6063      12.608465  \n",
       "6064      12.615000  "
      ]
     },
     "execution_count": 9,
     "metadata": {},
     "output_type": "execute_result"
    }
   ],
   "source": [
    "# AUTHOR'S WEBSITE ONLY EXPERIMENTS WITH JANUARY, SO I EXTRACT THE DATA THAT IS FROM JAN\n",
    "\n",
    "crsp_data_012017_10001 = crsp_data_1993_2019_10001[crsp_data_1993_2019_10001[\"DlyCalDt\"].str.startswith(\"2017-01\")]\n",
    "crsp_data_012017_10001"
   ]
  },
  {
   "cell_type": "code",
   "execution_count": 10,
   "metadata": {},
   "outputs": [
    {
     "data": {
      "text/plain": [
       "(20, 8)"
      ]
     },
     "execution_count": 10,
     "metadata": {},
     "output_type": "execute_result"
    }
   ],
   "source": [
    "# Check the shape again for sure\n",
    "crsp_data_012017_10001.shape"
   ]
  },
  {
   "cell_type": "code",
   "execution_count": 11,
   "metadata": {},
   "outputs": [
    {
     "data": {
      "text/plain": [
       "(5, 8)"
      ]
     },
     "execution_count": 11,
     "metadata": {},
     "output_type": "execute_result"
    }
   ],
   "source": [
    "# Take the first 5 only\n",
    "crsp_data_012017_10001_top_5 = crsp_data_012017_10001.head(5)\n",
    "crsp_data_012017_10001_top_5.shape"
   ]
  },
  {
   "cell_type": "code",
   "execution_count": 68,
   "metadata": {},
   "outputs": [
    {
     "data": {
      "application/vnd.plotly.v1+json": {
       "config": {
        "plotlyServerURL": "https://plot.ly"
       },
       "data": [
        {
         "close": [
          12.6,
          12.55,
          12.7,
          12.7,
          12.6
         ],
         "decreasing": {
          "line": {
           "color": "white"
          }
         },
         "high": [
          12.6,
          12.6,
          12.7,
          12.75,
          12.7
         ],
         "increasing": {
          "line": {
           "color": "white"
          }
         },
         "line": {
          "width": 1
         },
         "low": [
          12.55,
          12.55,
          12.6,
          12.6,
          12.6
         ],
         "name": "OHLC",
         "open": [
          12.55,
          12.6,
          12.6,
          12.65,
          12.7
         ],
         "type": "ohlc",
         "x": [
          "2017-01-03",
          "2017-01-04",
          "2017-01-05",
          "2017-01-06",
          "2017-01-09"
         ],
         "yaxis": "y"
        },
        {
         "line": {
          "color": "white"
         },
         "name": "20-day-moving-average",
         "type": "scatter",
         "x": [
          "2017-01-03",
          "2017-01-04",
          "2017-01-04",
          "2017-01-05",
          "2017-01-05",
          "2017-01-06",
          "2017-01-06",
          "2017-01-09",
          "2017-01-09",
          "2017-01-09"
         ],
         "y": [
          12.511935000000001,
          12.511935000000001,
          12.516935,
          12.516935,
          12.521935000000001,
          12.521935000000001,
          12.526935,
          12.526935,
          12.529435000000001,
          12.529435000000001
         ]
        },
        {
         "marker": {
          "color": "white"
         },
         "name": "Volume",
         "type": "bar",
         "width": 0.3,
         "x": [
          "2017-01-03",
          "2017-01-04",
          "2017-01-05",
          "2017-01-06",
          "2017-01-09"
         ],
         "y": [
          70124,
          4013,
          97588,
          164633,
          27508
         ],
         "yaxis": "y2"
        }
       ],
       "layout": {
        "height": 32,
        "margin": {
         "b": 0,
         "l": 0,
         "r": 0,
         "t": 0
        },
        "paper_bgcolor": "black",
        "plot_bgcolor": "black",
        "showlegend": false,
        "template": {
         "data": {
          "bar": [
           {
            "error_x": {
             "color": "#2a3f5f"
            },
            "error_y": {
             "color": "#2a3f5f"
            },
            "marker": {
             "line": {
              "color": "#E5ECF6",
              "width": 0.5
             },
             "pattern": {
              "fillmode": "overlay",
              "size": 10,
              "solidity": 0.2
             }
            },
            "type": "bar"
           }
          ],
          "barpolar": [
           {
            "marker": {
             "line": {
              "color": "#E5ECF6",
              "width": 0.5
             },
             "pattern": {
              "fillmode": "overlay",
              "size": 10,
              "solidity": 0.2
             }
            },
            "type": "barpolar"
           }
          ],
          "carpet": [
           {
            "aaxis": {
             "endlinecolor": "#2a3f5f",
             "gridcolor": "white",
             "linecolor": "white",
             "minorgridcolor": "white",
             "startlinecolor": "#2a3f5f"
            },
            "baxis": {
             "endlinecolor": "#2a3f5f",
             "gridcolor": "white",
             "linecolor": "white",
             "minorgridcolor": "white",
             "startlinecolor": "#2a3f5f"
            },
            "type": "carpet"
           }
          ],
          "choropleth": [
           {
            "colorbar": {
             "outlinewidth": 0,
             "ticks": ""
            },
            "type": "choropleth"
           }
          ],
          "contour": [
           {
            "colorbar": {
             "outlinewidth": 0,
             "ticks": ""
            },
            "colorscale": [
             [
              0,
              "#0d0887"
             ],
             [
              0.1111111111111111,
              "#46039f"
             ],
             [
              0.2222222222222222,
              "#7201a8"
             ],
             [
              0.3333333333333333,
              "#9c179e"
             ],
             [
              0.4444444444444444,
              "#bd3786"
             ],
             [
              0.5555555555555556,
              "#d8576b"
             ],
             [
              0.6666666666666666,
              "#ed7953"
             ],
             [
              0.7777777777777778,
              "#fb9f3a"
             ],
             [
              0.8888888888888888,
              "#fdca26"
             ],
             [
              1,
              "#f0f921"
             ]
            ],
            "type": "contour"
           }
          ],
          "contourcarpet": [
           {
            "colorbar": {
             "outlinewidth": 0,
             "ticks": ""
            },
            "type": "contourcarpet"
           }
          ],
          "heatmap": [
           {
            "colorbar": {
             "outlinewidth": 0,
             "ticks": ""
            },
            "colorscale": [
             [
              0,
              "#0d0887"
             ],
             [
              0.1111111111111111,
              "#46039f"
             ],
             [
              0.2222222222222222,
              "#7201a8"
             ],
             [
              0.3333333333333333,
              "#9c179e"
             ],
             [
              0.4444444444444444,
              "#bd3786"
             ],
             [
              0.5555555555555556,
              "#d8576b"
             ],
             [
              0.6666666666666666,
              "#ed7953"
             ],
             [
              0.7777777777777778,
              "#fb9f3a"
             ],
             [
              0.8888888888888888,
              "#fdca26"
             ],
             [
              1,
              "#f0f921"
             ]
            ],
            "type": "heatmap"
           }
          ],
          "heatmapgl": [
           {
            "colorbar": {
             "outlinewidth": 0,
             "ticks": ""
            },
            "colorscale": [
             [
              0,
              "#0d0887"
             ],
             [
              0.1111111111111111,
              "#46039f"
             ],
             [
              0.2222222222222222,
              "#7201a8"
             ],
             [
              0.3333333333333333,
              "#9c179e"
             ],
             [
              0.4444444444444444,
              "#bd3786"
             ],
             [
              0.5555555555555556,
              "#d8576b"
             ],
             [
              0.6666666666666666,
              "#ed7953"
             ],
             [
              0.7777777777777778,
              "#fb9f3a"
             ],
             [
              0.8888888888888888,
              "#fdca26"
             ],
             [
              1,
              "#f0f921"
             ]
            ],
            "type": "heatmapgl"
           }
          ],
          "histogram": [
           {
            "marker": {
             "pattern": {
              "fillmode": "overlay",
              "size": 10,
              "solidity": 0.2
             }
            },
            "type": "histogram"
           }
          ],
          "histogram2d": [
           {
            "colorbar": {
             "outlinewidth": 0,
             "ticks": ""
            },
            "colorscale": [
             [
              0,
              "#0d0887"
             ],
             [
              0.1111111111111111,
              "#46039f"
             ],
             [
              0.2222222222222222,
              "#7201a8"
             ],
             [
              0.3333333333333333,
              "#9c179e"
             ],
             [
              0.4444444444444444,
              "#bd3786"
             ],
             [
              0.5555555555555556,
              "#d8576b"
             ],
             [
              0.6666666666666666,
              "#ed7953"
             ],
             [
              0.7777777777777778,
              "#fb9f3a"
             ],
             [
              0.8888888888888888,
              "#fdca26"
             ],
             [
              1,
              "#f0f921"
             ]
            ],
            "type": "histogram2d"
           }
          ],
          "histogram2dcontour": [
           {
            "colorbar": {
             "outlinewidth": 0,
             "ticks": ""
            },
            "colorscale": [
             [
              0,
              "#0d0887"
             ],
             [
              0.1111111111111111,
              "#46039f"
             ],
             [
              0.2222222222222222,
              "#7201a8"
             ],
             [
              0.3333333333333333,
              "#9c179e"
             ],
             [
              0.4444444444444444,
              "#bd3786"
             ],
             [
              0.5555555555555556,
              "#d8576b"
             ],
             [
              0.6666666666666666,
              "#ed7953"
             ],
             [
              0.7777777777777778,
              "#fb9f3a"
             ],
             [
              0.8888888888888888,
              "#fdca26"
             ],
             [
              1,
              "#f0f921"
             ]
            ],
            "type": "histogram2dcontour"
           }
          ],
          "mesh3d": [
           {
            "colorbar": {
             "outlinewidth": 0,
             "ticks": ""
            },
            "type": "mesh3d"
           }
          ],
          "parcoords": [
           {
            "line": {
             "colorbar": {
              "outlinewidth": 0,
              "ticks": ""
             }
            },
            "type": "parcoords"
           }
          ],
          "pie": [
           {
            "automargin": true,
            "type": "pie"
           }
          ],
          "scatter": [
           {
            "fillpattern": {
             "fillmode": "overlay",
             "size": 10,
             "solidity": 0.2
            },
            "type": "scatter"
           }
          ],
          "scatter3d": [
           {
            "line": {
             "colorbar": {
              "outlinewidth": 0,
              "ticks": ""
             }
            },
            "marker": {
             "colorbar": {
              "outlinewidth": 0,
              "ticks": ""
             }
            },
            "type": "scatter3d"
           }
          ],
          "scattercarpet": [
           {
            "marker": {
             "colorbar": {
              "outlinewidth": 0,
              "ticks": ""
             }
            },
            "type": "scattercarpet"
           }
          ],
          "scattergeo": [
           {
            "marker": {
             "colorbar": {
              "outlinewidth": 0,
              "ticks": ""
             }
            },
            "type": "scattergeo"
           }
          ],
          "scattergl": [
           {
            "marker": {
             "colorbar": {
              "outlinewidth": 0,
              "ticks": ""
             }
            },
            "type": "scattergl"
           }
          ],
          "scattermapbox": [
           {
            "marker": {
             "colorbar": {
              "outlinewidth": 0,
              "ticks": ""
             }
            },
            "type": "scattermapbox"
           }
          ],
          "scatterpolar": [
           {
            "marker": {
             "colorbar": {
              "outlinewidth": 0,
              "ticks": ""
             }
            },
            "type": "scatterpolar"
           }
          ],
          "scatterpolargl": [
           {
            "marker": {
             "colorbar": {
              "outlinewidth": 0,
              "ticks": ""
             }
            },
            "type": "scatterpolargl"
           }
          ],
          "scatterternary": [
           {
            "marker": {
             "colorbar": {
              "outlinewidth": 0,
              "ticks": ""
             }
            },
            "type": "scatterternary"
           }
          ],
          "surface": [
           {
            "colorbar": {
             "outlinewidth": 0,
             "ticks": ""
            },
            "colorscale": [
             [
              0,
              "#0d0887"
             ],
             [
              0.1111111111111111,
              "#46039f"
             ],
             [
              0.2222222222222222,
              "#7201a8"
             ],
             [
              0.3333333333333333,
              "#9c179e"
             ],
             [
              0.4444444444444444,
              "#bd3786"
             ],
             [
              0.5555555555555556,
              "#d8576b"
             ],
             [
              0.6666666666666666,
              "#ed7953"
             ],
             [
              0.7777777777777778,
              "#fb9f3a"
             ],
             [
              0.8888888888888888,
              "#fdca26"
             ],
             [
              1,
              "#f0f921"
             ]
            ],
            "type": "surface"
           }
          ],
          "table": [
           {
            "cells": {
             "fill": {
              "color": "#EBF0F8"
             },
             "line": {
              "color": "white"
             }
            },
            "header": {
             "fill": {
              "color": "#C8D4E3"
             },
             "line": {
              "color": "white"
             }
            },
            "type": "table"
           }
          ]
         },
         "layout": {
          "annotationdefaults": {
           "arrowcolor": "#2a3f5f",
           "arrowhead": 0,
           "arrowwidth": 1
          },
          "autotypenumbers": "strict",
          "coloraxis": {
           "colorbar": {
            "outlinewidth": 0,
            "ticks": ""
           }
          },
          "colorscale": {
           "diverging": [
            [
             0,
             "#8e0152"
            ],
            [
             0.1,
             "#c51b7d"
            ],
            [
             0.2,
             "#de77ae"
            ],
            [
             0.3,
             "#f1b6da"
            ],
            [
             0.4,
             "#fde0ef"
            ],
            [
             0.5,
             "#f7f7f7"
            ],
            [
             0.6,
             "#e6f5d0"
            ],
            [
             0.7,
             "#b8e186"
            ],
            [
             0.8,
             "#7fbc41"
            ],
            [
             0.9,
             "#4d9221"
            ],
            [
             1,
             "#276419"
            ]
           ],
           "sequential": [
            [
             0,
             "#0d0887"
            ],
            [
             0.1111111111111111,
             "#46039f"
            ],
            [
             0.2222222222222222,
             "#7201a8"
            ],
            [
             0.3333333333333333,
             "#9c179e"
            ],
            [
             0.4444444444444444,
             "#bd3786"
            ],
            [
             0.5555555555555556,
             "#d8576b"
            ],
            [
             0.6666666666666666,
             "#ed7953"
            ],
            [
             0.7777777777777778,
             "#fb9f3a"
            ],
            [
             0.8888888888888888,
             "#fdca26"
            ],
            [
             1,
             "#f0f921"
            ]
           ],
           "sequentialminus": [
            [
             0,
             "#0d0887"
            ],
            [
             0.1111111111111111,
             "#46039f"
            ],
            [
             0.2222222222222222,
             "#7201a8"
            ],
            [
             0.3333333333333333,
             "#9c179e"
            ],
            [
             0.4444444444444444,
             "#bd3786"
            ],
            [
             0.5555555555555556,
             "#d8576b"
            ],
            [
             0.6666666666666666,
             "#ed7953"
            ],
            [
             0.7777777777777778,
             "#fb9f3a"
            ],
            [
             0.8888888888888888,
             "#fdca26"
            ],
            [
             1,
             "#f0f921"
            ]
           ]
          },
          "colorway": [
           "#636efa",
           "#EF553B",
           "#00cc96",
           "#ab63fa",
           "#FFA15A",
           "#19d3f3",
           "#FF6692",
           "#B6E880",
           "#FF97FF",
           "#FECB52"
          ],
          "font": {
           "color": "#2a3f5f"
          },
          "geo": {
           "bgcolor": "white",
           "lakecolor": "white",
           "landcolor": "#E5ECF6",
           "showlakes": true,
           "showland": true,
           "subunitcolor": "white"
          },
          "hoverlabel": {
           "align": "left"
          },
          "hovermode": "closest",
          "mapbox": {
           "style": "light"
          },
          "paper_bgcolor": "white",
          "plot_bgcolor": "#E5ECF6",
          "polar": {
           "angularaxis": {
            "gridcolor": "white",
            "linecolor": "white",
            "ticks": ""
           },
           "bgcolor": "#E5ECF6",
           "radialaxis": {
            "gridcolor": "white",
            "linecolor": "white",
            "ticks": ""
           }
          },
          "scene": {
           "xaxis": {
            "backgroundcolor": "#E5ECF6",
            "gridcolor": "white",
            "gridwidth": 2,
            "linecolor": "white",
            "showbackground": true,
            "ticks": "",
            "zerolinecolor": "white"
           },
           "yaxis": {
            "backgroundcolor": "#E5ECF6",
            "gridcolor": "white",
            "gridwidth": 2,
            "linecolor": "white",
            "showbackground": true,
            "ticks": "",
            "zerolinecolor": "white"
           },
           "zaxis": {
            "backgroundcolor": "#E5ECF6",
            "gridcolor": "white",
            "gridwidth": 2,
            "linecolor": "white",
            "showbackground": true,
            "ticks": "",
            "zerolinecolor": "white"
           }
          },
          "shapedefaults": {
           "line": {
            "color": "#2a3f5f"
           }
          },
          "ternary": {
           "aaxis": {
            "gridcolor": "white",
            "linecolor": "white",
            "ticks": ""
           },
           "baxis": {
            "gridcolor": "white",
            "linecolor": "white",
            "ticks": ""
           },
           "bgcolor": "#E5ECF6",
           "caxis": {
            "gridcolor": "white",
            "linecolor": "white",
            "ticks": ""
           }
          },
          "title": {
           "x": 0.05
          },
          "xaxis": {
           "automargin": true,
           "gridcolor": "white",
           "linecolor": "white",
           "ticks": "",
           "title": {
            "standoff": 15
           },
           "zerolinecolor": "white",
           "zerolinewidth": 2
          },
          "yaxis": {
           "automargin": true,
           "gridcolor": "white",
           "linecolor": "white",
           "ticks": "",
           "title": {
            "standoff": 15
           },
           "zerolinecolor": "white",
           "zerolinewidth": 2
          }
         }
        },
        "width": 15,
        "xaxis": {
         "gridcolor": "black",
         "rangebreaks": [
          {
           "values": [
            "2017-01-07",
            "2017-01-08"
           ]
          }
         ],
         "rangeslider": {
          "visible": false
         },
         "showticklabels": false,
         "ticks": "",
         "type": "date"
        },
        "yaxis": {
         "domain": [
          0.2,
          1
         ],
         "gridcolor": "black",
         "range": [
          12.511935000000001,
          12.75
         ],
         "visible": false
        },
        "yaxis2": {
         "domain": [
          0,
          0.2
         ],
         "gridcolor": "gray",
         "visible": false
        }
       }
      }
     },
     "metadata": {},
     "output_type": "display_data"
    }
   ],
   "source": [
    "# START PLOTTING THE IMAGE\n",
    "\n",
    "# Create a figure\n",
    "fig = go.Figure()\n",
    "\n",
    "# If we use go.Ohlc directly, there will be gaps between days (this library follows the date in exact order),\n",
    "# We should specify what dates we want it to appear\n",
    "x_dates = crsp_data_012017_10001_top_5[\"DlyCalDt\"]\n",
    "all_dates = pd.date_range(start = crsp_data_012017_10001_top_5[\"DlyCalDt\"].min(), end = crsp_data_012017_10001_top_5[\"DlyCalDt\"].max(), freq = 'D').strftime('%Y-%m-%d')\n",
    "crsp_data_012017_10001_top_5 = crsp_data_012017_10001_top_5[crsp_data_012017_10001_top_5[\"DlyCalDt\"].isin(x_dates)]\n",
    "\n",
    "# Add the OHLC bar first\n",
    "fig.add_trace(go.Ohlc(x = crsp_data_012017_10001_top_5[\"DlyCalDt\"], open = crsp_data_012017_10001_top_5[\"DlyOpen\"],\n",
    "                      high = crsp_data_012017_10001_top_5[\"DlyHigh\"], low = crsp_data_012017_10001_top_5[\"DlyLow\"],\n",
    "                      close = crsp_data_012017_10001_top_5[\"DlyClose\"], name = \"OHLC\", line = dict(width = 1), \n",
    "                      increasing_line_color = \"white\", decreasing_line_color = \"white\", \n",
    "                      yaxis = \"y\"))\n",
    "\n",
    "# Add the moving average line\n",
    "x_moving_average = crsp_data_012017_10001_top_5[\"DlyCalDt\"]\n",
    "y_moving_average = crsp_data_012017_10001_top_5[\"20_Day_MA_Low\"]\n",
    "\n",
    "# Since x_moving_average and y_moving_average is Series, we convert it to list\n",
    "x_moving_average_list = x_moving_average.to_list()\n",
    "y_moving_average_list = y_moving_average.to_list()\n",
    "\n",
    "## Since we want to make the stair-step effects, we have to extend the x and y arrays\n",
    "x_stairs = []\n",
    "y_stairs = []\n",
    "\n",
    "\n",
    "# # For debugging purpose \n",
    "# print(f\"Len X Moving Average: {len(x_moving_average)}\")\n",
    "# print(f\"Len Y Moving Average: {len(y_moving_average)}\")\n",
    "\n",
    "# print(f\"X Moving Average: {(x_moving_average)}\")\n",
    "# print(f\"Y Moving Average: {(y_moving_average)}\")\n",
    "\n",
    "\n",
    "for i in range(len(y_moving_average_list)):\n",
    "    x_stairs.append(x_moving_average_list[i])\n",
    "    y_stairs.append(y_moving_average_list[i])\n",
    "    if i == len(y_moving_average_list) - 1:\n",
    "        x_stairs.append(x_moving_average_list[i])\n",
    "    else:\n",
    "        x_stairs.append(x_moving_average_list[i + 1])\n",
    "    y_stairs.append(y_moving_average_list[i])\n",
    "\n",
    "## Add the moving average line as a stair step\n",
    "fig.add_trace(go.Scatter(x = x_stairs, y = y_stairs, name = \"20-day-moving-average\", line = dict(color = \"white\")))\n",
    "\n",
    "# Add the volume bar\n",
    "fig.add_trace(go.Bar(x = crsp_data_012017_10001_top_5[\"DlyCalDt\"], y = crsp_data_012017_10001_top_5[\"DlyVol\"], yaxis = \"y2\", name = \"Volume\", marker = dict(color = \"white\"), width = 0.3))\n",
    "\n",
    "# Ensure the layout is black, as well as implement OHLC chart, and volume data\n",
    "# NOTE: WHEN IMAGE WIDTH AND IMAGE HEIGHT IS CHANGED, THE VOLUME BAR WILL CHANGE ACCORDINGLY TO FIT THE IMAGE\n",
    "# HOWEVER, THE OHLC CHART AND THE MOVING AVERAGE LINE WILL NOT CHANGE ACCORDINGLY\n",
    "fig.update_layout(\n",
    "    paper_bgcolor='black',\n",
    "    plot_bgcolor='black',\n",
    "    xaxis_rangeslider_visible = False,\n",
    "    xaxis = {\n",
    "    \"showticklabels\": False,\n",
    "    \"ticks\": \"\",\n",
    "    \"type\": \"date\",\n",
    "    \"rangebreaks\": [\n",
    "        dict(values = all_dates[~all_dates.isin(crsp_data_012017_10001_top_5[\"DlyCalDt\"].tolist())])\n",
    "    ],\n",
    "    \"gridcolor\": \"black\"\n",
    "    },\n",
    "    yaxis = {\n",
    "        'domain': [0.2, 1],\n",
    "        'range': [min(crsp_data_012017_10001_top_5[\"DlyLow\"].min(), crsp_data_012017_10001_top_5[\"DlyOpen\"].min(), \n",
    "                       crsp_data_012017_10001_top_5[\"DlyClose\"].min(), crsp_data_012017_10001_top_5[\"20_Day_MA_Low\"].min()), \n",
    "                      max(crsp_data_012017_10001_top_5[\"DlyHigh\"].max(), crsp_data_012017_10001_top_5[\"DlyOpen\"].max(), \n",
    "                        crsp_data_012017_10001_top_5[\"DlyClose\"].max(), crsp_data_012017_10001_top_5[\"20_Day_MA_Low\"].max())],\n",
    "        'visible': False,\n",
    "        \"gridcolor\": \"black\"\n",
    "    },\n",
    "    yaxis2 = dict(domain = [0, 0.2], visible = False, gridcolor = \"gray\"),\n",
    "    width = 15, # REMEMBER TO CHANGE TO 15\n",
    "    height = 32, # REMEMBER TO CHANGE TO 32\n",
    "    showlegend = False,\n",
    "    margin = dict(l = 0, r = 0, t = 0, b = 0)\n",
    ")\n",
    "\n",
    "# Show the figure\n",
    "fig.show()"
   ]
  },
  {
   "cell_type": "code",
   "execution_count": 63,
   "metadata": {},
   "outputs": [
    {
     "data": {
      "text/plain": [
       "<matplotlib.image.AxesImage at 0x153026720>"
      ]
     },
     "execution_count": 63,
     "metadata": {},
     "output_type": "execute_result"
    },
    {
     "data": {
      "image/png": "[encoded data removed]",
      "text/plain": [
       "<Figure size 640x480 with 1 Axes>"
      ]
     },
     "metadata": {},
     "output_type": "display_data"
    },
    {
     "data": {
      "image/png": "[encoded data removed]",
      "text/plain": [
       "<Figure size 640x480 with 1 Axes>"
      ]
     },
     "metadata": {},
     "output_type": "display_data"
    }
   ],
   "source": [
    "# General Process would be like below\n",
    "file_name = f\"crsp_data_012017_10001_top_5.jpeg\"\n",
    "fig.write_image(file_name)\n",
    "\n",
    "# Load the image\n",
    "img = mpimg.imread(\"crsp_data_012017_10001_top_5.jpeg\")\n",
    "\n",
    "# Display the image\n",
    "plt.figure()\n",
    "plt.imshow(img)\n",
    "\n",
    "grayImg = cv2.cvtColor(img, cv2.COLOR_RGB2GRAY)\n",
    "\n",
    "# Process new images\n",
    "processedImg = grayImg > 40\n",
    "\n",
    "# Make it become numerical array, instead of True-False\n",
    "processedImg = processedImg.astype(np.uint8) * 255\n",
    "\n",
    "# Show the image\n",
    "plt.figure()\n",
    "plt.imshow(processedImg, cmap = \"gray\", vmin = 0, vmax = 255)"
   ]
  }
 ],
 "metadata": {
  "kernelspec": {
   "display_name": "Python 3",
   "language": "python",
   "name": "python3"
  },
  "language_info": {
   "codemirror_mode": {
    "name": "ipython",
    "version": 3
   },
   "file_extension": ".py",
   "mimetype": "text/x-python",
   "name": "python",
   "nbconvert_exporter": "python",
   "pygments_lexer": "ipython3",
   "version": "3.12.4"
  },
  "orig_nbformat": 4,
  "vscode": {
   "interpreter": {
    "hash": "f1062708a37074d70712b695aadee582e0b0b9f95f45576b5521424137d05fec"
   }
  }
 },
 "nbformat": 4,
 "nbformat_minor": 2
}
